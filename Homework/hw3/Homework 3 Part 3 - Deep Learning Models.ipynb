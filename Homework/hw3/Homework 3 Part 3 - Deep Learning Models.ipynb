{
 "cells": [
  {
   "cell_type": "markdown",
   "metadata": {
    "id": "9egyhuvU3_GI"
   },
   "source": [
    "# SI 650 / EECS 549: Homework 3 Part 3\n",
    "\n",
    "Homework 3 Part 3 will have you working with deep learning models in a variety of ways. You will likely need to run this on Great Lakes unless you have access to a GPU elsewhere (or be prepared to wait a long time). You should have completed Parts 1 and 2 before attempting this notebook to familiarize yourself with how PyTerrier works.\n",
    "\n",
    "In Part 3, you'll try the following tasks:\n",
    " - Use a large language model to re-rank content\n",
    " - Use a text-to-text model to perform query augmentation\n",
    " - Train a deep learning IR model and compare its performance.\n",
    " \n",
    "The first two of these tasks will rely on models that we've pretrained for you. However, we've also provided code for how to train these. In the third task, you'll do one simple training and evaluate its results.\n",
    "\n",
    "For the first two tasks, we've provided most of the code. *You are expected to submit results showing that you have successfully executed it*. You'll need to understand some of the code to complete task 3, which requires you to write new code.\n",
    "\n",
    "As with the past notebooks, you'll need to have `JAVA_HOME` set, which will need to be run on Great Lakes. You can potentially set it in the notebook with a Jupyter command like\n",
    "```\n",
    "!export JAVA_HOME=/fill/in/the/path/to/the/JDK/here\n",
    "```\n",
    "by first figuring out where the JDK is installed. (This is setting the `JAVA_HOME` environment variable in the unix way). "
   ]
  },
  {
   "cell_type": "markdown",
   "metadata": {
    "id": "mV0C6jJvqhMR"
   },
   "source": [
    "### Install the PyTerrier extensions\n",
    "\n",
    "You'll need two extensions for [OpenNIR](https://opennir.net/) and [doc2query](https://github.com/terrierteam/pyterrier_doc2query). We've provided the package install commands in comments below."
   ]
  },
  {
   "cell_type": "code",
   "execution_count": 1,
   "metadata": {
    "id": "AkIR_PXdet7R"
   },
   "outputs": [],
   "source": [
    "#pip install --upgrade git+https://github.com/Georgetown-IR-Lab/OpenNIR\n",
    "#pip install --upgrade git+https://github.com/terrierteam/pyterrier_doc2query.git"
   ]
  },
  {
   "cell_type": "markdown",
   "metadata": {
    "id": "A-nQrpNP5pN7"
   },
   "source": [
    "## Getting started\n",
    "\n",
    "Start PyTerrier as we have in past notebooks."
   ]
  },
  {
   "cell_type": "code",
   "execution_count": 2,
   "metadata": {
    "id": "6FegcyWr5lja"
   },
   "outputs": [
    {
     "name": "stdout",
     "output_type": "stream",
     "text": [
      "PyTerrier 0.7.1 has loaded Terrier 5.6 (built by craigmacdonald on 2021-09-17 13:27)\n"
     ]
    },
    {
     "name": "stderr",
     "output_type": "stream",
     "text": [
      "No etc/terrier.properties, using terrier.default.properties for bootstrap configuration.\n"
     ]
    },
    {
     "name": "stdout",
     "output_type": "stream",
     "text": [
      "Better speed can be achieved with apex installed from https://www.github.com/nvidia/apex.\n"
     ]
    }
   ],
   "source": [
    "import pyterrier as pt\n",
    "if not pt.started():\n",
    "    pt.init(tqdm='notebook')\n",
    "import onir_pt\n",
    "import pyterrier_doc2query\n",
    "import os\n",
    "import pandas as pd"
   ]
  },
  {
   "cell_type": "markdown",
   "metadata": {
    "id": "hPVjr448rIPc"
   },
   "source": [
    "### [TREC-COVID19](https://ir.nist.gov/covidSubmit/) Dataset download\n",
    "\n",
    "The following cell downloads the [TREC-COVID19](https://ir.nist.gov/covidSubmit/) dataset that we will use periodically throughout this notebook."
   ]
  },
  {
   "cell_type": "code",
   "execution_count": 3,
   "metadata": {
    "id": "IJMHFRfArd7O"
   },
   "outputs": [
    {
     "name": "stderr",
     "output_type": "stream",
     "text": [
      "/home/cyuntao/miniconda3/envs/650/lib/python3.9/site-packages/pyterrier/datasets.py:430: FutureWarning: In a future version of pandas all arguments of DataFrame.drop except for the argument 'labels' will be keyword-only\n",
      "  df.drop(df.columns.difference(['qid','query']), 1, inplace=True)\n"
     ]
    }
   ],
   "source": [
    "dataset = pt.datasets.get_dataset('irds:cord19/trec-covid')\n",
    "topics = dataset.get_topics(variant='description')\n",
    "qrels = dataset.get_qrels()"
   ]
  },
  {
   "cell_type": "markdown",
   "metadata": {
    "id": "OF3HIPhtrqOH"
   },
   "source": [
    "# Task 1: Build the inverted index for the TREC-COVID19 collection. (2 points)\n",
    "\n",
    "Build the index for the TREC Covid-19 (CORD19) data like we have in past notebooks but without any fancy options (e.g., no positional indexing)."
   ]
  },
  {
   "cell_type": "code",
   "execution_count": 4,
   "metadata": {},
   "outputs": [],
   "source": [
    "cord19 = pt.datasets.get_dataset('irds:cord19/trec-covid')\n",
    "pt_index_path = './terrier_trec_covid'\n",
    "\n",
    "if not os.path.exists(pt_index_path + \"/data.properties\"):\n",
    "\n",
    "    # create the index, using the IterDictIndexer indexer \n",
    "\n",
    "    # TODO\n",
    "    indexer = pt.IterDictIndexer(pt_index_path)\n",
    "\n",
    "    # we give the dataset get_corpus_iter() directly to the indexer\n",
    "    # while specifying the fields to index and the metadata to record\n",
    "    \n",
    "    # TODO\n",
    "    index_ref = indexer.index(cord19.get_corpus_iter(), fields=('abstract',), meta=('docno',))\n",
    "else:\n",
    "    # if you already have the index, create an IndexRef from the data in pt_index_path\n",
    "    # that we can use to load using the IndexFactory\n",
    "    \n",
    "    # TODO\n",
    "    index_ref = pt.IndexRef.of(pt_index_path + \"/data.properties\")\n",
    "    \n",
    "index = pt.IndexFactory.of(index_ref)"
   ]
  },
  {
   "cell_type": "markdown",
   "metadata": {
    "id": "rwDams5M7g6c"
   },
   "source": [
    "## Using an untuned Re-rankers\n",
    "\n",
    "This notebook will have you work with a few neural re-ranking methods that you've used in class. We can build them from scratch using `onir_pt.reranker` or load them from pretrained models. The models we load from scratch won't have been trained to do IR (yet), however.\n",
    "\n",
    "And OpenNIR reranking model consists of:\n",
    " - `ranker` (e.g., `drmm`, `knrm`, or `pacrr`). This defines the neural ranking architecture. We discussed the `knrm` approach in class.\n",
    " - `vocab` (e.g., `wordvec_hash`, or `bert`). This defines how text is encoded by the model. This approach makes it easy to swap out different text representations. \n",
    " \n",
    "Let's start with the `knrm` method we discussed in class:"
   ]
  },
  {
   "cell_type": "code",
   "execution_count": 5,
   "metadata": {
    "id": "F0O79K2K6fvn"
   },
   "outputs": [
    {
     "name": "stdout",
     "output_type": "stream",
     "text": [
      "config file not found: config\n",
      "\u001b[02;37m[2021-11-20 23:53:36,417][WordvecHashVocab][DEBUG] \u001b[0m\u001b[37m[starting] reading cached at /home/cyuntao/data/onir/vocab/wordvec_hash/fasttext-wiki-news-300d-1M.p\u001b[0m\n",
      "\u001b[02;37m[2021-11-20 23:54:17,909][WordvecHashVocab][DEBUG] \u001b[0m\u001b[37m[finished] reading cached at /home/cyuntao/data/onir/vocab/wordvec_hash/fasttext-wiki-news-300d-1M.p [41.51s]\u001b[0m\n"
     ]
    }
   ],
   "source": [
    "knrm = onir_pt.reranker('knrm', 'wordvec_hash', text_field='abstract')"
   ]
  },
  {
   "cell_type": "markdown",
   "metadata": {
    "id": "x1avVTpxDORN"
   },
   "source": [
    "Let's look at how well this model work at ranking compared with our default `BatchRetrieve`"
   ]
  },
  {
   "cell_type": "code",
   "execution_count": 6,
   "metadata": {
    "id": "4FWUIN577v1O"
   },
   "outputs": [
    {
     "name": "stdout",
     "output_type": "stream",
     "text": [
      "\u001b[02;37m[2021-11-20 23:54:39,697][onir_pt][DEBUG] \u001b[0m\u001b[37musing GPU (deterministic)\u001b[0m\n",
      "\u001b[02;37m[2021-11-20 23:55:18,840][onir_pt][DEBUG] \u001b[0m\u001b[37m[starting] batches\u001b[0m\n"
     ]
    },
    {
     "data": {
      "application/vnd.jupyter.widget-view+json": {
       "model_id": "",
       "version_major": 2,
       "version_minor": 0
      },
      "text/plain": [
       "batches:   0%|          | 0/1250 [16ms<?, ?it/s]"
      ]
     },
     "metadata": {},
     "output_type": "display_data"
    },
    {
     "name": "stdout",
     "output_type": "stream",
     "text": [
      "\u001b[02;37m[2021-11-20 23:55:21,081][onir_pt][DEBUG] \u001b[0m\u001b[37m[finished] batches: [2.24s] [1250it] [558.22it/s]\u001b[0m\n"
     ]
    },
    {
     "data": {
      "text/html": [
       "<div>\n",
       "<style scoped>\n",
       "    .dataframe tbody tr th:only-of-type {\n",
       "        vertical-align: middle;\n",
       "    }\n",
       "\n",
       "    .dataframe tbody tr th {\n",
       "        vertical-align: top;\n",
       "    }\n",
       "\n",
       "    .dataframe thead th {\n",
       "        text-align: right;\n",
       "    }\n",
       "</style>\n",
       "<table border=\"1\" class=\"dataframe\">\n",
       "  <thead>\n",
       "    <tr style=\"text-align: right;\">\n",
       "      <th></th>\n",
       "      <th>name</th>\n",
       "      <th>map</th>\n",
       "      <th>ndcg</th>\n",
       "      <th>ndcg_cut.10</th>\n",
       "      <th>P.10</th>\n",
       "      <th>mrt</th>\n",
       "    </tr>\n",
       "  </thead>\n",
       "  <tbody>\n",
       "    <tr>\n",
       "      <th>0</th>\n",
       "      <td>DPH</td>\n",
       "      <td>0.068056</td>\n",
       "      <td>0.165653</td>\n",
       "      <td>0.609058</td>\n",
       "      <td>0.658</td>\n",
       "      <td>71.727372</td>\n",
       "    </tr>\n",
       "    <tr>\n",
       "      <th>1</th>\n",
       "      <td>DPH &gt;&gt; KNRM</td>\n",
       "      <td>0.054808</td>\n",
       "      <td>0.145462</td>\n",
       "      <td>0.359895</td>\n",
       "      <td>0.450</td>\n",
       "      <td>1081.976549</td>\n",
       "    </tr>\n",
       "  </tbody>\n",
       "</table>\n",
       "</div>"
      ],
      "text/plain": [
       "          name       map      ndcg  ndcg_cut.10   P.10          mrt\n",
       "0          DPH  0.068056  0.165653     0.609058  0.658    71.727372\n",
       "1  DPH >> KNRM  0.054808  0.145462     0.359895  0.450  1081.976549"
      ]
     },
     "execution_count": 6,
     "metadata": {},
     "output_type": "execute_result"
    }
   ],
   "source": [
    "br = pt.BatchRetrieve(index) % 100\n",
    "pipeline = br >> pt.text.get_text(dataset, 'abstract') >> knrm\n",
    "pt.Experiment(\n",
    "    [br, pipeline],\n",
    "    topics,\n",
    "    qrels,\n",
    "    names=['DPH', 'DPH >> KNRM'],\n",
    "    eval_metrics=[\"map\", \"ndcg\", 'ndcg_cut.10', 'P.10', 'mrt']\n",
    ")"
   ]
  },
  {
   "cell_type": "markdown",
   "metadata": {
    "id": "MhquobQypVNJ"
   },
   "source": [
    "The `knrm` models' performance is lower! The mode doesn't work very well because it hasn't yet been trained for IR; it's using random weights to combine the scores from the similarity matrix--but this is at least a start."
   ]
  },
  {
   "cell_type": "markdown",
   "metadata": {
    "id": "WLv7quA43yAP"
   },
   "source": [
    "## Loading a trained re-ranker\n",
    "\n",
    "You can train re-ranking models in PyTerrier using the `fit` method. Here's an example of how to train the `knrm` model on the MS MARCO dataset, which is a large IR collection.\n",
    "\n",
    "```python\n",
    "# transfer training signals from a medical sample of MS MARCO\n",
    "from sklearn.model_selection import train_test_split\n",
    "train_ds = pt.datasets.get_dataset('irds:msmarco-passage/train/medical')\n",
    "train_topics, valid_topics = train_test_split(train_ds.get_topics(), test_size=50, random_state=42) # split into training and validation sets\n",
    "\n",
    "# Index MS MARCO\n",
    "indexer = pt.index.IterDictIndexer('./terrier_msmarco-passage')\n",
    "tr_index_ref = indexer.index(train_ds.get_corpus_iter(), fields=('text',), meta=('docno',))\n",
    "\n",
    "pipeline = (pt.BatchRetrieve(tr_index_ref) % 100 # get top 100 results\n",
    "            >> pt.text.get_text(train_ds, 'text') # fetch the document text\n",
    "            >> pt.apply.generic(lambda df: df.rename(columns={'text': 'abstract'})) # rename columns\n",
    "            >> knrm) # apply neural re-ranker\n",
    "\n",
    "pipeline.fit(\n",
    "    train_topics,\n",
    "    train_ds.get_qrels(),\n",
    "    valid_topics,\n",
    "    train_ds.get_qrels())\n",
    "```\n",
    "\n",
    "Training deep learning models takes a bit of time (especially for large datasets like MS MARCO), so we've provided a model that's already been trained for you to download."
   ]
  },
  {
   "cell_type": "code",
   "execution_count": 7,
   "metadata": {
    "id": "Yk7FBOgvDa8V"
   },
   "outputs": [
    {
     "name": "stdout",
     "output_type": "stream",
     "text": [
      "\u001b[02;37m[2021-11-20 23:55:21,238][onir_pt][INFO] \u001b[0m\u001b[32musing cached checkpoint: /home/cyuntao/data/onir/model_checkpoints/e40f18b6f6e8851dd92f4d1196a43875\u001b[0m\n",
      "\u001b[02;37m[2021-11-20 23:55:21,241][WordvecHashVocab][DEBUG] \u001b[0m\u001b[37m[starting] reading cached at /home/cyuntao/data/onir/vocab/wordvec_hash/fasttext-wiki-news-300d-1M.p\u001b[0m\n",
      "\u001b[02;37m[2021-11-20 23:55:22,715][WordvecHashVocab][DEBUG] \u001b[0m\u001b[37m[finished] reading cached at /home/cyuntao/data/onir/vocab/wordvec_hash/fasttext-wiki-news-300d-1M.p [1.47s]\u001b[0m\n"
     ]
    }
   ],
   "source": [
    "del knrm # free up the memory before loading a new version of the ranker (helpful for the GPU)\n",
    "knrm = onir_pt.reranker.from_checkpoint('http://jurgens.people.si.umich.edu/ir/knrm.medmarco.tar.gz', text_field='abstract', \n",
    "                                        expected_md5=\"d70b1d4f899690dae51161537e69ed5a\")"
   ]
  },
  {
   "cell_type": "code",
   "execution_count": 8,
   "metadata": {
    "id": "1BQQKv8lL0Ta"
   },
   "outputs": [
    {
     "name": "stdout",
     "output_type": "stream",
     "text": [
      "\u001b[02;37m[2021-11-20 23:55:32,379][onir_pt][DEBUG] \u001b[0m\u001b[37musing GPU (deterministic)\u001b[0m\n",
      "\u001b[02;37m[2021-11-20 23:55:32,691][onir_pt][DEBUG] \u001b[0m\u001b[37m[starting] batches\u001b[0m\n"
     ]
    },
    {
     "data": {
      "application/vnd.jupyter.widget-view+json": {
       "model_id": "",
       "version_major": 2,
       "version_minor": 0
      },
      "text/plain": [
       "batches:   0%|          | 0/1250 [15ms<?, ?it/s]"
      ]
     },
     "metadata": {},
     "output_type": "display_data"
    },
    {
     "name": "stdout",
     "output_type": "stream",
     "text": [
      "\u001b[02;37m[2021-11-20 23:55:34,817][onir_pt][DEBUG] \u001b[0m\u001b[37m[finished] batches: [2.12s] [1250it] [588.25it/s]\u001b[0m\n"
     ]
    },
    {
     "data": {
      "text/html": [
       "<div>\n",
       "<style scoped>\n",
       "    .dataframe tbody tr th:only-of-type {\n",
       "        vertical-align: middle;\n",
       "    }\n",
       "\n",
       "    .dataframe tbody tr th {\n",
       "        vertical-align: top;\n",
       "    }\n",
       "\n",
       "    .dataframe thead th {\n",
       "        text-align: right;\n",
       "    }\n",
       "</style>\n",
       "<table border=\"1\" class=\"dataframe\">\n",
       "  <thead>\n",
       "    <tr style=\"text-align: right;\">\n",
       "      <th></th>\n",
       "      <th>name</th>\n",
       "      <th>map</th>\n",
       "      <th>P.10</th>\n",
       "      <th>ndcg</th>\n",
       "      <th>ndcg_cut.10</th>\n",
       "      <th>mrt</th>\n",
       "      <th>map +</th>\n",
       "      <th>map -</th>\n",
       "      <th>map p-value</th>\n",
       "      <th>P.10 +</th>\n",
       "      <th>P.10 -</th>\n",
       "      <th>P.10 p-value</th>\n",
       "      <th>ndcg +</th>\n",
       "      <th>ndcg -</th>\n",
       "      <th>ndcg p-value</th>\n",
       "      <th>ndcg_cut.10 +</th>\n",
       "      <th>ndcg_cut.10 -</th>\n",
       "      <th>ndcg_cut.10 p-value</th>\n",
       "    </tr>\n",
       "  </thead>\n",
       "  <tbody>\n",
       "    <tr>\n",
       "      <th>0</th>\n",
       "      <td>DPH</td>\n",
       "      <td>0.068056</td>\n",
       "      <td>0.658</td>\n",
       "      <td>0.165653</td>\n",
       "      <td>0.609058</td>\n",
       "      <td>46.558018</td>\n",
       "      <td>NaN</td>\n",
       "      <td>NaN</td>\n",
       "      <td>NaN</td>\n",
       "      <td>NaN</td>\n",
       "      <td>NaN</td>\n",
       "      <td>NaN</td>\n",
       "      <td>NaN</td>\n",
       "      <td>NaN</td>\n",
       "      <td>NaN</td>\n",
       "      <td>NaN</td>\n",
       "      <td>NaN</td>\n",
       "      <td>NaN</td>\n",
       "    </tr>\n",
       "    <tr>\n",
       "      <th>1</th>\n",
       "      <td>DPH &gt;&gt; KNRM</td>\n",
       "      <td>0.065109</td>\n",
       "      <td>0.598</td>\n",
       "      <td>0.160570</td>\n",
       "      <td>0.532790</td>\n",
       "      <td>91.907720</td>\n",
       "      <td>20.0</td>\n",
       "      <td>30.0</td>\n",
       "      <td>0.096531</td>\n",
       "      <td>12.0</td>\n",
       "      <td>26.0</td>\n",
       "      <td>0.024604</td>\n",
       "      <td>20.0</td>\n",
       "      <td>30.0</td>\n",
       "      <td>0.028582</td>\n",
       "      <td>20.0</td>\n",
       "      <td>30.0</td>\n",
       "      <td>0.006073</td>\n",
       "    </tr>\n",
       "  </tbody>\n",
       "</table>\n",
       "</div>"
      ],
      "text/plain": [
       "          name       map   P.10      ndcg  ndcg_cut.10        mrt  map +  \\\n",
       "0          DPH  0.068056  0.658  0.165653     0.609058  46.558018    NaN   \n",
       "1  DPH >> KNRM  0.065109  0.598  0.160570     0.532790  91.907720   20.0   \n",
       "\n",
       "   map -  map p-value  P.10 +  P.10 -  P.10 p-value  ndcg +  ndcg -  \\\n",
       "0    NaN          NaN     NaN     NaN           NaN     NaN     NaN   \n",
       "1   30.0     0.096531    12.0    26.0      0.024604    20.0    30.0   \n",
       "\n",
       "   ndcg p-value  ndcg_cut.10 +  ndcg_cut.10 -  ndcg_cut.10 p-value  \n",
       "0           NaN            NaN            NaN                  NaN  \n",
       "1      0.028582           20.0           30.0             0.006073  "
      ]
     },
     "execution_count": 8,
     "metadata": {},
     "output_type": "execute_result"
    }
   ],
   "source": [
    "pipeline2 = br >> pt.text.get_text(dataset, 'abstract') >> knrm\n",
    "pt.Experiment(\n",
    "    [br, pipeline2],\n",
    "    topics,\n",
    "    qrels,\n",
    "    names=['DPH', 'DPH >> KNRM'],\n",
    "    baseline=0,\n",
    "    eval_metrics=[\"map\", \"ndcg\", 'ndcg_cut.10', 'P.10', 'mrt']\n",
    ")"
   ]
  },
  {
   "cell_type": "markdown",
   "metadata": {
    "id": "aI1_8O8rtXKK"
   },
   "source": [
    "The tuned performance is a little better than before, but `knrm` still underperforms our first-stage ranking model."
   ]
  },
  {
   "cell_type": "markdown",
   "metadata": {
    "id": "79l1jn0pRQEY"
   },
   "source": [
    "## Reranking with BERT\n",
    "\n",
    "Large language models such as [BERT](https://arxiv.org/abs/1810.04805) are much more powerful neural models that have been shown to be effective for ranking like we discussed in class. \n",
    "\n",
    "Like with `knrm`, we'll start by using BERT for re-ranking with its initial parameters. These parameters have been turned for the masked language modeling (i.e., filling a word in the blank) and predicting the next sentence--but have not been tuned for IR at all."
   ]
  },
  {
   "cell_type": "code",
   "execution_count": 9,
   "metadata": {
    "id": "-qlXPHqN3iO0"
   },
   "outputs": [],
   "source": [
    "del knrm # clear out memory from KNRM (useful for GPU)\n",
    "bert = onir_pt.reranker('vanilla_transformer', 'bert', text_field='abstract', vocab_config={'train': True})"
   ]
  },
  {
   "cell_type": "markdown",
   "metadata": {
    "id": "progrVwaunrn"
   },
   "source": [
    "Let's see how this non-IR trained model does on CORD10 data"
   ]
  },
  {
   "cell_type": "code",
   "execution_count": 10,
   "metadata": {
    "id": "PkasovrjQjy0"
   },
   "outputs": [
    {
     "name": "stdout",
     "output_type": "stream",
     "text": [
      "\u001b[02;37m[2021-11-20 23:55:54,139][onir_pt][DEBUG] \u001b[0m\u001b[37musing GPU (deterministic)\u001b[0m\n",
      "\u001b[02;37m[2021-11-20 23:55:54,383][onir_pt][DEBUG] \u001b[0m\u001b[37m[starting] batches\u001b[0m\n"
     ]
    },
    {
     "data": {
      "application/vnd.jupyter.widget-view+json": {
       "model_id": "",
       "version_major": 2,
       "version_minor": 0
      },
      "text/plain": [
       "batches:   0%|          | 0/1250 [15ms<?, ?it/s]"
      ]
     },
     "metadata": {},
     "output_type": "display_data"
    },
    {
     "name": "stdout",
     "output_type": "stream",
     "text": [
      "\u001b[02;37m[2021-11-20 23:56:53,961][onir_pt][DEBUG] \u001b[0m\u001b[37m[finished] batches: [59.58s] [1250it] [20.98it/s]\u001b[0m\n"
     ]
    },
    {
     "data": {
      "text/html": [
       "<div>\n",
       "<style scoped>\n",
       "    .dataframe tbody tr th:only-of-type {\n",
       "        vertical-align: middle;\n",
       "    }\n",
       "\n",
       "    .dataframe tbody tr th {\n",
       "        vertical-align: top;\n",
       "    }\n",
       "\n",
       "    .dataframe thead th {\n",
       "        text-align: right;\n",
       "    }\n",
       "</style>\n",
       "<table border=\"1\" class=\"dataframe\">\n",
       "  <thead>\n",
       "    <tr style=\"text-align: right;\">\n",
       "      <th></th>\n",
       "      <th>name</th>\n",
       "      <th>map</th>\n",
       "      <th>P.10</th>\n",
       "      <th>ndcg</th>\n",
       "      <th>ndcg_cut.10</th>\n",
       "      <th>mrt</th>\n",
       "      <th>map +</th>\n",
       "      <th>map -</th>\n",
       "      <th>map p-value</th>\n",
       "      <th>P.10 +</th>\n",
       "      <th>P.10 -</th>\n",
       "      <th>P.10 p-value</th>\n",
       "      <th>ndcg +</th>\n",
       "      <th>ndcg -</th>\n",
       "      <th>ndcg p-value</th>\n",
       "      <th>ndcg_cut.10 +</th>\n",
       "      <th>ndcg_cut.10 -</th>\n",
       "      <th>ndcg_cut.10 p-value</th>\n",
       "    </tr>\n",
       "  </thead>\n",
       "  <tbody>\n",
       "    <tr>\n",
       "      <th>0</th>\n",
       "      <td>DPH</td>\n",
       "      <td>0.068056</td>\n",
       "      <td>0.658</td>\n",
       "      <td>0.165653</td>\n",
       "      <td>0.609058</td>\n",
       "      <td>45.319237</td>\n",
       "      <td>NaN</td>\n",
       "      <td>NaN</td>\n",
       "      <td>NaN</td>\n",
       "      <td>NaN</td>\n",
       "      <td>NaN</td>\n",
       "      <td>NaN</td>\n",
       "      <td>NaN</td>\n",
       "      <td>NaN</td>\n",
       "      <td>NaN</td>\n",
       "      <td>NaN</td>\n",
       "      <td>NaN</td>\n",
       "      <td>NaN</td>\n",
       "    </tr>\n",
       "    <tr>\n",
       "      <th>1</th>\n",
       "      <td>DPH &gt;&gt; VBERT</td>\n",
       "      <td>0.056413</td>\n",
       "      <td>0.458</td>\n",
       "      <td>0.147048</td>\n",
       "      <td>0.374197</td>\n",
       "      <td>1240.290285</td>\n",
       "      <td>8.0</td>\n",
       "      <td>42.0</td>\n",
       "      <td>0.000006</td>\n",
       "      <td>6.0</td>\n",
       "      <td>37.0</td>\n",
       "      <td>9.462198e-07</td>\n",
       "      <td>5.0</td>\n",
       "      <td>45.0</td>\n",
       "      <td>0.000001</td>\n",
       "      <td>8.0</td>\n",
       "      <td>41.0</td>\n",
       "      <td>4.134415e-09</td>\n",
       "    </tr>\n",
       "  </tbody>\n",
       "</table>\n",
       "</div>"
      ],
      "text/plain": [
       "           name       map   P.10      ndcg  ndcg_cut.10          mrt  map +  \\\n",
       "0           DPH  0.068056  0.658  0.165653     0.609058    45.319237    NaN   \n",
       "1  DPH >> VBERT  0.056413  0.458  0.147048     0.374197  1240.290285    8.0   \n",
       "\n",
       "   map -  map p-value  P.10 +  P.10 -  P.10 p-value  ndcg +  ndcg -  \\\n",
       "0    NaN          NaN     NaN     NaN           NaN     NaN     NaN   \n",
       "1   42.0     0.000006     6.0    37.0  9.462198e-07     5.0    45.0   \n",
       "\n",
       "   ndcg p-value  ndcg_cut.10 +  ndcg_cut.10 -  ndcg_cut.10 p-value  \n",
       "0           NaN            NaN            NaN                  NaN  \n",
       "1      0.000001            8.0           41.0         4.134415e-09  "
      ]
     },
     "execution_count": 10,
     "metadata": {},
     "output_type": "execute_result"
    }
   ],
   "source": [
    "pipeline3 = br % 100 >> pt.text.get_text(dataset, 'abstract') >> bert\n",
    "pt.Experiment(\n",
    "    [br, pipeline3],\n",
    "    topics,\n",
    "    qrels,\n",
    "    names=['DPH', 'DPH >> VBERT'],\n",
    "    baseline=0,\n",
    "    eval_metrics=[\"map\", \"ndcg\", 'ndcg_cut.10', 'P.10', 'mrt']\n",
    ")"
   ]
  },
  {
   "cell_type": "markdown",
   "metadata": {
    "id": "wBrfNZ_1u_pD"
   },
   "source": [
    "As we see, although the ERT model is pre-trained for recognizing language, it doesn't do very well at ranking on our benchmark. To get better performance, we'll need to tune for the task of relevance ranking.\n",
    "\n",
    "We can train the model for ranking (as shown above for KNRM) or we can download a trained model. Here, we will use the [SLEDGE](https://arxiv.org/abs/2010.05987) model, which is a BERT model trained on scientific text and tuned on medical queries."
   ]
  },
  {
   "cell_type": "code",
   "execution_count": 11,
   "metadata": {
    "id": "VsXQKNyYSXOj"
   },
   "outputs": [
    {
     "name": "stdout",
     "output_type": "stream",
     "text": [
      "\u001b[02;37m[2021-11-20 23:56:54,111][onir_pt][INFO] \u001b[0m\u001b[32musing cached checkpoint: /home/cyuntao/data/onir/model_checkpoints/1f28b1381d23b0062a219452a9258032\u001b[0m\n"
     ]
    }
   ],
   "source": [
    "bert = onir_pt.reranker.from_checkpoint('http://jurgens.people.si.umich.edu/ir/scibert-medmarco.tar.gz', \n",
    "                                         text_field='abstract', expected_md5=\"854966d0b61543ffffa44cea627ab63b\")"
   ]
  },
  {
   "cell_type": "markdown",
   "metadata": {},
   "source": [
    "Let's run another experiment to see how this new model trained for IR does."
   ]
  },
  {
   "cell_type": "code",
   "execution_count": 12,
   "metadata": {
    "id": "dUH-daNJSoNy"
   },
   "outputs": [
    {
     "name": "stdout",
     "output_type": "stream",
     "text": [
      "\u001b[02;37m[2021-11-20 23:57:29,481][onir_pt][DEBUG] \u001b[0m\u001b[37musing GPU (deterministic)\u001b[0m\n",
      "\u001b[02;37m[2021-11-20 23:57:29,636][onir_pt][DEBUG] \u001b[0m\u001b[37m[starting] batches\u001b[0m\n"
     ]
    },
    {
     "data": {
      "application/vnd.jupyter.widget-view+json": {
       "model_id": "",
       "version_major": 2,
       "version_minor": 0
      },
      "text/plain": [
       "batches:   0%|          | 0/1250 [14ms<?, ?it/s]"
      ]
     },
     "metadata": {},
     "output_type": "display_data"
    },
    {
     "name": "stdout",
     "output_type": "stream",
     "text": [
      "\u001b[02;37m[2021-11-20 23:58:25,578][onir_pt][DEBUG] \u001b[0m\u001b[37m[finished] batches: [55.94s] [1250it] [22.35it/s]\u001b[0m\n"
     ]
    },
    {
     "data": {
      "text/html": [
       "<div>\n",
       "<style scoped>\n",
       "    .dataframe tbody tr th:only-of-type {\n",
       "        vertical-align: middle;\n",
       "    }\n",
       "\n",
       "    .dataframe tbody tr th {\n",
       "        vertical-align: top;\n",
       "    }\n",
       "\n",
       "    .dataframe thead th {\n",
       "        text-align: right;\n",
       "    }\n",
       "</style>\n",
       "<table border=\"1\" class=\"dataframe\">\n",
       "  <thead>\n",
       "    <tr style=\"text-align: right;\">\n",
       "      <th></th>\n",
       "      <th>name</th>\n",
       "      <th>map</th>\n",
       "      <th>P.10</th>\n",
       "      <th>ndcg</th>\n",
       "      <th>ndcg_cut.10</th>\n",
       "      <th>mrt</th>\n",
       "      <th>map +</th>\n",
       "      <th>map -</th>\n",
       "      <th>map p-value</th>\n",
       "      <th>P.10 +</th>\n",
       "      <th>P.10 -</th>\n",
       "      <th>P.10 p-value</th>\n",
       "      <th>ndcg +</th>\n",
       "      <th>ndcg -</th>\n",
       "      <th>ndcg p-value</th>\n",
       "      <th>ndcg_cut.10 +</th>\n",
       "      <th>ndcg_cut.10 -</th>\n",
       "      <th>ndcg_cut.10 p-value</th>\n",
       "    </tr>\n",
       "  </thead>\n",
       "  <tbody>\n",
       "    <tr>\n",
       "      <th>0</th>\n",
       "      <td>DPH</td>\n",
       "      <td>0.068056</td>\n",
       "      <td>0.658</td>\n",
       "      <td>0.165653</td>\n",
       "      <td>0.609058</td>\n",
       "      <td>52.679956</td>\n",
       "      <td>NaN</td>\n",
       "      <td>NaN</td>\n",
       "      <td>NaN</td>\n",
       "      <td>NaN</td>\n",
       "      <td>NaN</td>\n",
       "      <td>NaN</td>\n",
       "      <td>NaN</td>\n",
       "      <td>NaN</td>\n",
       "      <td>NaN</td>\n",
       "      <td>NaN</td>\n",
       "      <td>NaN</td>\n",
       "      <td>NaN</td>\n",
       "    </tr>\n",
       "    <tr>\n",
       "      <th>1</th>\n",
       "      <td>DPH &gt;&gt; Trained-BERT</td>\n",
       "      <td>0.075710</td>\n",
       "      <td>0.770</td>\n",
       "      <td>0.173079</td>\n",
       "      <td>0.701995</td>\n",
       "      <td>1167.512840</td>\n",
       "      <td>36.0</td>\n",
       "      <td>14.0</td>\n",
       "      <td>0.001278</td>\n",
       "      <td>28.0</td>\n",
       "      <td>11.0</td>\n",
       "      <td>0.000851</td>\n",
       "      <td>36.0</td>\n",
       "      <td>14.0</td>\n",
       "      <td>0.010118</td>\n",
       "      <td>31.0</td>\n",
       "      <td>19.0</td>\n",
       "      <td>0.012156</td>\n",
       "    </tr>\n",
       "  </tbody>\n",
       "</table>\n",
       "</div>"
      ],
      "text/plain": [
       "                  name       map   P.10      ndcg  ndcg_cut.10          mrt  \\\n",
       "0                  DPH  0.068056  0.658  0.165653     0.609058    52.679956   \n",
       "1  DPH >> Trained-BERT  0.075710  0.770  0.173079     0.701995  1167.512840   \n",
       "\n",
       "   map +  map -  map p-value  P.10 +  P.10 -  P.10 p-value  ndcg +  ndcg -  \\\n",
       "0    NaN    NaN          NaN     NaN     NaN           NaN     NaN     NaN   \n",
       "1   36.0   14.0     0.001278    28.0    11.0      0.000851    36.0    14.0   \n",
       "\n",
       "   ndcg p-value  ndcg_cut.10 +  ndcg_cut.10 -  ndcg_cut.10 p-value  \n",
       "0           NaN            NaN            NaN                  NaN  \n",
       "1      0.010118           31.0           19.0             0.012156  "
      ]
     },
     "execution_count": 12,
     "metadata": {},
     "output_type": "execute_result"
    }
   ],
   "source": [
    "pipeline4 = br % 100 >> pt.text.get_text(dataset, 'abstract') >> bert\n",
    "pt.Experiment(\n",
    "    [br, pipeline4],\n",
    "    topics,\n",
    "    qrels,\n",
    "    names=['DPH', 'DPH >> Trained-BERT'],\n",
    "    baseline=0,\n",
    "    eval_metrics=[\"map\", \"ndcg\", 'ndcg_cut.10', 'P.10', 'mrt']\n",
    ")"
   ]
  },
  {
   "cell_type": "markdown",
   "metadata": {
    "id": "OtAxDQHyv4ON"
   },
   "source": [
    "Training helped a lot! We're able to improve upon the initial ranking from `BatchRetrieve`. However, from looking at `mrt` we can see that this is pretty slow to run--and this was using a GPU! This performance time underscores the trade-off in using large language models at retrieval time: they may perform better, but could be much slower."
   ]
  },
  {
   "cell_type": "markdown",
   "metadata": {},
   "source": [
    "# Deep learning at indexing time: doc2query\n",
    "\n",
    "Instead of using our large language models to rerank, another option is to use them at _indexing time_ to augment our documents. In class, we discussed one such option, doc2query, that augments an inverted index structure by predicting queries that may be used to search for the document, and appending those to the document text.\n",
    "\n",
    "We can use doc2query using the `pyterrier_doc2query` package, which was loaded at the top."
   ]
  },
  {
   "cell_type": "markdown",
   "metadata": {},
   "source": [
    "### Loading a pre-trained model\n",
    "\n",
    "We'll start by using a version of the doc2query model released by the authors that is trained on the MS MARCO collection."
   ]
  },
  {
   "cell_type": "code",
   "execution_count": 13,
   "metadata": {},
   "outputs": [],
   "source": [
    "if not os.path.exists(\"t5-base.zip\"):\n",
    "  !wget http://jurgens.people.si.umich.edu/ir/t5-base.zip\n",
    "  !unzip t5-base.zip"
   ]
  },
  {
   "cell_type": "markdown",
   "metadata": {},
   "source": [
    "We can load the model weights by specifying the checkpoint."
   ]
  },
  {
   "cell_type": "code",
   "execution_count": 14,
   "metadata": {},
   "outputs": [
    {
     "name": "stdout",
     "output_type": "stream",
     "text": [
      "Doc2query using cuda\n"
     ]
    }
   ],
   "source": [
    "doc2query = pyterrier_doc2query.Doc2Query('model.ckpt-1004000', batch_size=8)"
   ]
  },
  {
   "cell_type": "markdown",
   "metadata": {},
   "source": [
    "### Running doc2queries on sample text\n",
    "\n",
    "Let's see what queries it predicts for the sample document that we've made up:"
   ]
  },
  {
   "cell_type": "code",
   "execution_count": 15,
   "metadata": {},
   "outputs": [
    {
     "data": {
      "text/plain": [
       "'The University of Michigan School of Information (UMSI) delivers innovative, elegant and ethical solutions connecting people, information and technology. The school was one of the first iSchools in the nation and is the premier institution studying and using technology to improve human computer interactions.'"
      ]
     },
     "execution_count": 15,
     "metadata": {},
     "output_type": "execute_result"
    }
   ],
   "source": [
    "df = pd.DataFrame([{\"docno\" : \"d1\", \"text\" :\"The University of Michigan School of Information (UMSI) delivers innovative, elegant and ethical solutions connecting people, information and technology. The school was one of the first iSchools in the nation and is the premier institution studying and using technology to improve human computer interactions.\"}])\n",
    "df.iloc[0].text"
   ]
  },
  {
   "cell_type": "code",
   "execution_count": 16,
   "metadata": {},
   "outputs": [
    {
     "data": {
      "text/plain": [
       "'what is umsi university of michigan school of information where is umsi'"
      ]
     },
     "execution_count": 16,
     "metadata": {},
     "output_type": "execute_result"
    }
   ],
   "source": [
    "doc2query_df = doc2query(df)\n",
    "doc2query_df.iloc[0].querygen"
   ]
  },
  {
   "cell_type": "markdown",
   "metadata": {},
   "source": [
    "Not too bad, though the questions are somewhat generic"
   ]
  },
  {
   "cell_type": "markdown",
   "metadata": {},
   "source": [
    "### Loading an index of doc2query documents\n",
    "\n",
    "Let's see how doc2query does on improving the performance in the TREC COVID data. Since indexing with doc2query takes a while (due to needing to run the deep learning models), we've provided an index with the text already added.\n",
    "\n",
    "If you would like to index the collection with doc2query yourself (or use doc2query for your course project), you can use the following code:\n",
    "\n",
    "```python\n",
    "dataset = pt.get_dataset(\"irds:cord19/trec-covid\")\n",
    "indexer = (\n",
    "  pyterrier_doc2query.Doc2Query('model.ckpt-1004000', doc_attr='abstract', batch_size=8, append=True) # aply doc2query on abstracts and append\n",
    "  >> pt.apply.generic(lambda df: df.rename(columns={'abstract': 'text'}) # rename \"abstract\" column to \"text\" for indexing\n",
    "  >> pt.IterDictIndexer(\"./doc2query_index_path\")) # index the expanded documents\n",
    "indexref = indexer.index(dataset.get_corpus_iter())\n",
    "```\n"
   ]
  },
  {
   "cell_type": "code",
   "execution_count": 17,
   "metadata": {},
   "outputs": [],
   "source": [
    "if not os.path.exists('doc2query_marco_cord19.zip'):\n",
    "  !wget http://jurgens.people.si.umich.edu/ir/doc2query_marco_cord19.zip\n",
    "  !unzip doc2query_marco_cord19.zip\n",
    "doc2query_indexref = pt.IndexRef.of('./doc2query_index_path/data.properties')"
   ]
  },
  {
   "cell_type": "markdown",
   "metadata": {},
   "source": [
    "Let's look at the results on TREC COVID by first merging the scores with the rankings"
   ]
  },
  {
   "cell_type": "code",
   "execution_count": 18,
   "metadata": {},
   "outputs": [
    {
     "name": "stderr",
     "output_type": "stream",
     "text": [
      "/home/cyuntao/miniconda3/envs/650/lib/python3.9/site-packages/pyterrier/datasets.py:430: FutureWarning: In a future version of pandas all arguments of DataFrame.drop except for the argument 'labels' will be keyword-only\n",
      "  df.drop(df.columns.difference(['qid','query']), 1, inplace=True)\n"
     ]
    },
    {
     "data": {
      "text/html": [
       "<div>\n",
       "<style scoped>\n",
       "    .dataframe tbody tr th:only-of-type {\n",
       "        vertical-align: middle;\n",
       "    }\n",
       "\n",
       "    .dataframe tbody tr th {\n",
       "        vertical-align: top;\n",
       "    }\n",
       "\n",
       "    .dataframe thead th {\n",
       "        text-align: right;\n",
       "    }\n",
       "</style>\n",
       "<table border=\"1\" class=\"dataframe\">\n",
       "  <thead>\n",
       "    <tr style=\"text-align: right;\">\n",
       "      <th></th>\n",
       "      <th>qid</th>\n",
       "      <th>docid</th>\n",
       "      <th>docno</th>\n",
       "      <th>rank</th>\n",
       "      <th>score</th>\n",
       "      <th>query</th>\n",
       "      <th>title</th>\n",
       "      <th>label</th>\n",
       "      <th>iteration</th>\n",
       "    </tr>\n",
       "  </thead>\n",
       "  <tbody>\n",
       "    <tr>\n",
       "      <th>0</th>\n",
       "      <td>1</td>\n",
       "      <td>101299</td>\n",
       "      <td>jwmrgy5d</td>\n",
       "      <td>0</td>\n",
       "      <td>8.427298</td>\n",
       "      <td>coronavirus origin</td>\n",
       "      <td>COVID-19 in the heart and the lungs: could we ...</td>\n",
       "      <td>0.0</td>\n",
       "      <td>5</td>\n",
       "    </tr>\n",
       "    <tr>\n",
       "      <th>1</th>\n",
       "      <td>2</td>\n",
       "      <td>182167</td>\n",
       "      <td>g8grcy5j</td>\n",
       "      <td>0</td>\n",
       "      <td>13.922648</td>\n",
       "      <td>coronavirus response to weather changes</td>\n",
       "      <td>The Stirling Protocol – Putting the environmen...</td>\n",
       "      <td>0.0</td>\n",
       "      <td>4</td>\n",
       "    </tr>\n",
       "    <tr>\n",
       "      <th>2</th>\n",
       "      <td>3</td>\n",
       "      <td>85678</td>\n",
       "      <td>tl30wlpy</td>\n",
       "      <td>0</td>\n",
       "      <td>7.224180</td>\n",
       "      <td>coronavirus immunity</td>\n",
       "      <td>Receptor-dependent coronavirus infection of de...</td>\n",
       "      <td>NaN</td>\n",
       "      <td>NaN</td>\n",
       "    </tr>\n",
       "    <tr>\n",
       "      <th>3</th>\n",
       "      <td>4</td>\n",
       "      <td>145871</td>\n",
       "      <td>l5fxswfz</td>\n",
       "      <td>0</td>\n",
       "      <td>12.773362</td>\n",
       "      <td>how do people die from the coronavirus</td>\n",
       "      <td>Analysis on 54 Mortality Cases of Coronavirus ...</td>\n",
       "      <td>2.0</td>\n",
       "      <td>1.5</td>\n",
       "    </tr>\n",
       "    <tr>\n",
       "      <th>4</th>\n",
       "      <td>5</td>\n",
       "      <td>180990</td>\n",
       "      <td>3sepefqa</td>\n",
       "      <td>0</td>\n",
       "      <td>12.995980</td>\n",
       "      <td>animal models of covid 19</td>\n",
       "      <td>Current global vaccine and drug efforts agains...</td>\n",
       "      <td>0.0</td>\n",
       "      <td>4</td>\n",
       "    </tr>\n",
       "  </tbody>\n",
       "</table>\n",
       "</div>"
      ],
      "text/plain": [
       "  qid   docid     docno  rank      score  \\\n",
       "0   1  101299  jwmrgy5d     0   8.427298   \n",
       "1   2  182167  g8grcy5j     0  13.922648   \n",
       "2   3   85678  tl30wlpy     0   7.224180   \n",
       "3   4  145871  l5fxswfz     0  12.773362   \n",
       "4   5  180990  3sepefqa     0  12.995980   \n",
       "\n",
       "                                     query  \\\n",
       "0                       coronavirus origin   \n",
       "1  coronavirus response to weather changes   \n",
       "2                     coronavirus immunity   \n",
       "3   how do people die from the coronavirus   \n",
       "4                animal models of covid 19   \n",
       "\n",
       "                                               title  label iteration  \n",
       "0  COVID-19 in the heart and the lungs: could we ...    0.0         5  \n",
       "1  The Stirling Protocol – Putting the environmen...    0.0         4  \n",
       "2  Receptor-dependent coronavirus infection of de...    NaN       NaN  \n",
       "3  Analysis on 54 Mortality Cases of Coronavirus ...    2.0       1.5  \n",
       "4  Current global vaccine and drug efforts agains...    0.0         4  "
      ]
     },
     "execution_count": 18,
     "metadata": {},
     "output_type": "execute_result"
    }
   ],
   "source": [
    "dataset = pt.get_dataset('irds:cord19/trec-covid')\n",
    "pipeline = pt.BatchRetrieve(doc2query_indexref) % 1 >> pt.text.get_text(dataset, 'title')\n",
    "res = pipeline(dataset.get_topics('title'))\n",
    "res.merge(dataset.get_qrels(), how='left').head()"
   ]
  },
  {
   "cell_type": "markdown",
   "metadata": {},
   "source": [
    "What kind of queries does doc2query generate for the CORD19 documents?"
   ]
  },
  {
   "cell_type": "code",
   "execution_count": 19,
   "metadata": {},
   "outputs": [
    {
     "data": {
      "application/vnd.jupyter.widget-view+json": {
       "model_id": "",
       "version_major": 2,
       "version_minor": 0
      },
      "text/plain": [
       "cord19/trec-covid documents:   0%|          | 0/192509 [17ms<?, ?it/s]"
      ]
     },
     "metadata": {},
     "output_type": "display_data"
    },
    {
     "name": "stdout",
     "output_type": "stream",
     "text": [
      "l5fxswfz\n",
      "what is the population of coronavirus coronavirus death toll coronavirus worldwide\n",
      "Since the identification of the first case of coronavirus disease 2019 (COVID-19), the global number of confirmed cases as of March 15, 2020, is 156,400, with total death in 5,833 (3.7%) worldwide. Here, we summarize the morality data from February 19 when the first mortality occurred to 0 am, March 10, 2020, in Korea with comparison to other countries. The overall case fatality rate of COVID-19 in Korea was 0.7% as of 0 am, March 10, 2020.\n",
      "3sepefqa\n",
      "what is the cure for copid what is the treatment of covid what is a cure for covid 19?\n",
      "COVID-19 has become one of the biggest health concern, along with huge economic burden. With no clear remedies to treat the disease, doctors are repurposing drugs like chloroquine and remdesivir to treat COVID-19 patients. In parallel, research institutes in collaboration with biotech companies have identified strategies to use viral proteins as vaccine candidates for COVID-19. Although this looks promising, they still need to pass the test of challenge studies in animal models. As various models for SARS-CoV-2 are under testing phase, biotech companies have bypassed animal studies and moved to Phase I clinical trials. In view of the present outbreak, this looks a justified approach, but the problem is that in the absence of animal studies, we can never predict the outcomes in humans. Since animal models are critical for vaccine development and SARS-CoV-2 has different transmission dynamics, in this review we compare different animal models of SARS-CoV-2 with humans for their pathogenic, immune response and transmission dynamics that make them ideal models for vaccine testing for COVID-19. Another issue of using animal model is the ethics of using animals for research; thus, we also discuss the pros and cons of using animals for vaccine development studies.\n"
     ]
    }
   ],
   "source": [
    "df = pd.DataFrame(doc for doc in dataset.get_corpus_iter() if doc['docno'] in ('3sepefqa', 'l5fxswfz'))\n",
    "df = df.rename(columns={'abstract': 'text'})\n",
    "doc2query_df = doc2query(df)\n",
    "for querygen, docno, text in zip(doc2query_df['querygen'], doc2query_df['docno'], df['text']):\n",
    "    print(docno)\n",
    "    print(querygen)\n",
    "    print(text)"
   ]
  },
  {
   "cell_type": "markdown",
   "metadata": {},
   "source": [
    "## Evaluating the effects of doc2query\n",
    "\n",
    "Here, we'll change our evaluation setup a bit from what we did before. Rather than compare two models for the same index, we'll instead compare the same model (BM25) with two different ways of indexing (two indices)! Our baseline will be an index of CORD19 without the doc2query additions.\n",
    "\n",
    "Let's load a copy of the CORD19 index that we used earlier."
   ]
  },
  {
   "cell_type": "code",
   "execution_count": 20,
   "metadata": {},
   "outputs": [],
   "source": [
    "indexref = pt.IndexRef.of('./terrier_trec_covid/data.properties')"
   ]
  },
  {
   "cell_type": "markdown",
   "metadata": {},
   "source": [
    "### Task 2: Write the `Experiment` to compare indices (3 points)\n",
    "Run an `Experiment` using a `BM25` ranker that compares the indices `indexref` and `doc2query_indexref`. Compare your models using MAP, NDCG, and NDCG@10. Note that our doc2query model was trained on MS MARCO, which isn't the same kind of collection as CORD19, so this performance tells us how well that model can transfer to a new setting."
   ]
  },
  {
   "cell_type": "code",
   "execution_count": 21,
   "metadata": {},
   "outputs": [
    {
     "data": {
      "text/html": [
       "<div>\n",
       "<style scoped>\n",
       "    .dataframe tbody tr th:only-of-type {\n",
       "        vertical-align: middle;\n",
       "    }\n",
       "\n",
       "    .dataframe tbody tr th {\n",
       "        vertical-align: top;\n",
       "    }\n",
       "\n",
       "    .dataframe thead th {\n",
       "        text-align: right;\n",
       "    }\n",
       "</style>\n",
       "<table border=\"1\" class=\"dataframe\">\n",
       "  <thead>\n",
       "    <tr style=\"text-align: right;\">\n",
       "      <th></th>\n",
       "      <th>name</th>\n",
       "      <th>map</th>\n",
       "      <th>ndcg</th>\n",
       "      <th>ndcg_cut_10</th>\n",
       "    </tr>\n",
       "  </thead>\n",
       "  <tbody>\n",
       "    <tr>\n",
       "      <th>0</th>\n",
       "      <td>indexref_bm25</td>\n",
       "      <td>0.195498</td>\n",
       "      <td>0.411103</td>\n",
       "      <td>0.644463</td>\n",
       "    </tr>\n",
       "    <tr>\n",
       "      <th>1</th>\n",
       "      <td>doc2query_indexref_bm25</td>\n",
       "      <td>0.196293</td>\n",
       "      <td>0.412673</td>\n",
       "      <td>0.623652</td>\n",
       "    </tr>\n",
       "  </tbody>\n",
       "</table>\n",
       "</div>"
      ],
      "text/plain": [
       "                      name       map      ndcg  ndcg_cut_10\n",
       "0            indexref_bm25  0.195498  0.411103     0.644463\n",
       "1  doc2query_indexref_bm25  0.196293  0.412673     0.623652"
      ]
     },
     "execution_count": 21,
     "metadata": {},
     "output_type": "execute_result"
    }
   ],
   "source": [
    "# TODO\n",
    "indexref_bm25 = pt.BatchRetrieve(indexref, wmodel=\"BM25\")\n",
    "doc2query_indexref_bm25 = pt.BatchRetrieve(doc2query_indexref, wmodel=\"BM25\")\n",
    "\n",
    "pt.Experiment(\n",
    "    [indexref_bm25, doc2query_indexref_bm25],\n",
    "    topics,\n",
    "    qrels, \n",
    "    names=[\"indexref_bm25\",  \"doc2query_indexref_bm25\"],\n",
    "    eval_metrics=[\"map\", \"ndcg\", \"ndcg_cut_10\"])"
   ]
  },
  {
   "cell_type": "markdown",
   "metadata": {},
   "source": [
    "# Task 3: Train a new model! (25 points)\n",
    "\n",
    "All of the prior exercises have had you working with either off-the-shelf models (not trained for IR) or models that someone else has trained for you. To give you a sense of how to train a model, your primary task in this notebook is to train a simple `knrm` model, which should be relatively efficient to train on a GPU. \n",
    "\n",
    "To keep things simple, we'll use the same setup for CORD19 that we did in Part 2 (30 queries in train, 5 in dev, 15 queries in test) which is still relatively small for training a deep learning model but will get you started on the process. \n",
    "\n",
    "Your tasks are the following:\n",
    "- Load the CORD19 dataset and split it into train, dev, and test\n",
    "- Create a new `knrm` ranker and a pipeline that uses it\n",
    "- Run an `Experiment` comparing four models:\n",
    "  - a default `BatchRetrieve`, filtering to the top 100 results\n",
    "  - BM25, filtering to the top 100 results\n",
    "  - a pipeline that feeds the top 100 results of the default `BatchRetrieve` to your `knrm` model\n",
    "  - a pipeline that feeds the top 100 results of BM25 to your `knrm` model\n",
    "  \n",
    "Your `Experiment` should evaluate models using MAP, NDCG, NDCG@10, Precision@10, and Mean Response Time.\n",
    "  \n",
    "We expect to see the `Experiment`'s results in the final cell. You are, of course, welcome to try training any of the fancier models to see how they do as well!"
   ]
  },
  {
   "cell_type": "code",
   "execution_count": 22,
   "metadata": {},
   "outputs": [
    {
     "name": "stderr",
     "output_type": "stream",
     "text": [
      "/home/cyuntao/miniconda3/envs/650/lib/python3.9/site-packages/pyterrier/datasets.py:430: FutureWarning: In a future version of pandas all arguments of DataFrame.drop except for the argument 'labels' will be keyword-only\n",
      "  df.drop(df.columns.difference(['qid','query']), 1, inplace=True)\n"
     ]
    },
    {
     "name": "stdout",
     "output_type": "stream",
     "text": [
      "\u001b[02;37m[2021-11-20 23:58:55,423][WordvecHashVocab][DEBUG] \u001b[0m\u001b[37m[starting] reading cached at /home/cyuntao/data/onir/vocab/wordvec_hash/fasttext-wiki-news-300d-1M.p\u001b[0m\n",
      "\u001b[02;37m[2021-11-20 23:58:56,827][WordvecHashVocab][DEBUG] \u001b[0m\u001b[37m[finished] reading cached at /home/cyuntao/data/onir/vocab/wordvec_hash/fasttext-wiki-news-300d-1M.p [1.40s]\u001b[0m\n",
      "\u001b[02;37m[2021-11-20 23:59:03,843][onir_pt][DEBUG] \u001b[0m\u001b[37m[starting] validation\u001b[0m\n",
      "\u001b[02;37m[2021-11-20 23:59:03,844][onir_pt][DEBUG] \u001b[0m\u001b[37musing GPU (deterministic)\u001b[0m\n",
      "\u001b[02;37m[2021-11-20 23:59:04,155][onir_pt][DEBUG] \u001b[0m\u001b[37m[starting] batches\u001b[0m\n"
     ]
    },
    {
     "data": {
      "application/vnd.jupyter.widget-view+json": {
       "model_id": "",
       "version_major": 2,
       "version_minor": 0
      },
      "text/plain": [
       "batches:   0%|          | 0/125 [15ms<?, ?it/s]"
      ]
     },
     "metadata": {},
     "output_type": "display_data"
    },
    {
     "name": "stdout",
     "output_type": "stream",
     "text": [
      "\u001b[02;37m[2021-11-20 23:59:04,398][onir_pt][DEBUG] \u001b[0m\u001b[37m[finished] batches: [242ms] [125it] [516.31it/s]\u001b[0m\n",
      "\u001b[02;37m[2021-11-20 23:59:04,501][onir_pt][DEBUG] \u001b[0m\u001b[37m[finished] validation [658ms]\u001b[0m\n",
      "\u001b[02;37m[2021-11-20 23:59:04,501][onir_pt][INFO] \u001b[0m\u001b[32mpre-validation: 0.0095\u001b[0m\n",
      "\u001b[02;37m[2021-11-20 23:59:04,503][onir_pt][DEBUG] \u001b[0m\u001b[37musing GPU (deterministic)\u001b[0m\n",
      "\u001b[02;37m[2021-11-20 23:59:04,503][onir_pt][DEBUG] \u001b[0m\u001b[37m[starting] training\u001b[0m\n",
      "\u001b[02;37m[2021-11-20 23:59:04,504][onir_pt][DEBUG] \u001b[0m\u001b[37m[starting] train pairs\u001b[0m\n"
     ]
    },
    {
     "data": {
      "application/vnd.jupyter.widget-view+json": {
       "model_id": "",
       "version_major": 2,
       "version_minor": 0
      },
      "text/plain": [
       "train pairs:   0%|          | 0/1024 [14ms<?, ?it/s]"
      ]
     },
     "metadata": {},
     "output_type": "display_data"
    },
    {
     "name": "stdout",
     "output_type": "stream",
     "text": [
      "\u001b[02;37m[2021-11-20 23:59:07,537][onir_pt][DEBUG] \u001b[0m\u001b[37m[finished] train pairs: [3.03s] [1024it] [337.57it/s]\u001b[0m\n",
      "\u001b[02;37m[2021-11-20 23:59:07,538][onir_pt][DEBUG] \u001b[0m\u001b[37m[finished] training [3.04s]\u001b[0m\n",
      "\u001b[02;37m[2021-11-20 23:59:07,539][onir_pt][INFO] \u001b[0m\u001b[32mtraining   it=0 loss=0.2542\u001b[0m\n",
      "\u001b[02;37m[2021-11-20 23:59:07,539][onir_pt][DEBUG] \u001b[0m\u001b[37m[starting] validation\u001b[0m\n",
      "\u001b[02;37m[2021-11-20 23:59:07,539][onir_pt][DEBUG] \u001b[0m\u001b[37musing GPU (deterministic)\u001b[0m\n",
      "\u001b[02;37m[2021-11-20 23:59:07,539][onir_pt][DEBUG] \u001b[0m\u001b[37m[starting] batches\u001b[0m\n"
     ]
    },
    {
     "data": {
      "application/vnd.jupyter.widget-view+json": {
       "model_id": "",
       "version_major": 2,
       "version_minor": 0
      },
      "text/plain": [
       "batches:   0%|          | 0/125 [14ms<?, ?it/s]"
      ]
     },
     "metadata": {},
     "output_type": "display_data"
    },
    {
     "name": "stdout",
     "output_type": "stream",
     "text": [
      "\u001b[02;37m[2021-11-20 23:59:07,780][onir_pt][DEBUG] \u001b[0m\u001b[37m[finished] batches: [240ms] [125it] [520.87it/s]\u001b[0m\n",
      "\u001b[02;37m[2021-11-20 23:59:07,880][onir_pt][DEBUG] \u001b[0m\u001b[37m[finished] validation [341ms]\u001b[0m\n",
      "\u001b[02;37m[2021-11-20 23:59:07,882][onir_pt][INFO] \u001b[0m\u001b[32mvalidation it=0 map=0.0101 ndcg=0.0211 P_10=0.0580 <--\u001b[0m\n",
      "\u001b[02;37m[2021-11-20 23:59:07,882][onir_pt][DEBUG] \u001b[0m\u001b[37musing GPU (deterministic)\u001b[0m\n",
      "\u001b[02;37m[2021-11-20 23:59:07,882][onir_pt][DEBUG] \u001b[0m\u001b[37m[starting] training\u001b[0m\n",
      "\u001b[02;37m[2021-11-20 23:59:07,882][onir_pt][DEBUG] \u001b[0m\u001b[37m[starting] train pairs\u001b[0m\n"
     ]
    },
    {
     "data": {
      "application/vnd.jupyter.widget-view+json": {
       "model_id": "",
       "version_major": 2,
       "version_minor": 0
      },
      "text/plain": [
       "train pairs:   0%|          | 0/1024 [14ms<?, ?it/s]"
      ]
     },
     "metadata": {},
     "output_type": "display_data"
    },
    {
     "name": "stdout",
     "output_type": "stream",
     "text": [
      "\u001b[02;37m[2021-11-20 23:59:10,778][onir_pt][DEBUG] \u001b[0m\u001b[37m[finished] train pairs: [2.90s] [1024it] [353.64it/s]\u001b[0m\n",
      "\u001b[02;37m[2021-11-20 23:59:10,780][onir_pt][DEBUG] \u001b[0m\u001b[37m[finished] training [2.90s]\u001b[0m\n",
      "\u001b[02;37m[2021-11-20 23:59:10,780][onir_pt][INFO] \u001b[0m\u001b[32mtraining   it=1 loss=0.2525\u001b[0m\n",
      "\u001b[02;37m[2021-11-20 23:59:10,780][onir_pt][DEBUG] \u001b[0m\u001b[37m[starting] validation\u001b[0m\n",
      "\u001b[02;37m[2021-11-20 23:59:10,781][onir_pt][DEBUG] \u001b[0m\u001b[37musing GPU (deterministic)\u001b[0m\n",
      "\u001b[02;37m[2021-11-20 23:59:10,781][onir_pt][DEBUG] \u001b[0m\u001b[37m[starting] batches\u001b[0m\n"
     ]
    },
    {
     "data": {
      "application/vnd.jupyter.widget-view+json": {
       "model_id": "",
       "version_major": 2,
       "version_minor": 0
      },
      "text/plain": [
       "batches:   0%|          | 0/125 [14ms<?, ?it/s]"
      ]
     },
     "metadata": {},
     "output_type": "display_data"
    },
    {
     "name": "stdout",
     "output_type": "stream",
     "text": [
      "\u001b[02;37m[2021-11-20 23:59:11,020][onir_pt][DEBUG] \u001b[0m\u001b[37m[finished] batches: [238ms] [125it] [524.48it/s]\u001b[0m\n",
      "\u001b[02;37m[2021-11-20 23:59:11,120][onir_pt][DEBUG] \u001b[0m\u001b[37m[finished] validation [340ms]\u001b[0m\n",
      "\u001b[02;37m[2021-11-20 23:59:11,121][onir_pt][INFO] \u001b[0m\u001b[32mvalidation it=1 map=0.0100 ndcg=0.0211 P_10=0.0580\u001b[0m\n",
      "\u001b[02;37m[2021-11-20 23:59:11,121][onir_pt][DEBUG] \u001b[0m\u001b[37musing GPU (deterministic)\u001b[0m\n",
      "\u001b[02;37m[2021-11-20 23:59:11,121][onir_pt][DEBUG] \u001b[0m\u001b[37m[starting] training\u001b[0m\n",
      "\u001b[02;37m[2021-11-20 23:59:11,122][onir_pt][DEBUG] \u001b[0m\u001b[37m[starting] train pairs\u001b[0m\n"
     ]
    },
    {
     "data": {
      "application/vnd.jupyter.widget-view+json": {
       "model_id": "",
       "version_major": 2,
       "version_minor": 0
      },
      "text/plain": [
       "train pairs:   0%|          | 0/1024 [14ms<?, ?it/s]"
      ]
     },
     "metadata": {},
     "output_type": "display_data"
    },
    {
     "name": "stdout",
     "output_type": "stream",
     "text": [
      "\u001b[02;37m[2021-11-20 23:59:13,981][onir_pt][DEBUG] \u001b[0m\u001b[37m[finished] train pairs: [2.86s] [1024it] [358.19it/s]\u001b[0m\n",
      "\u001b[02;37m[2021-11-20 23:59:13,982][onir_pt][DEBUG] \u001b[0m\u001b[37m[finished] training [2.86s]\u001b[0m\n",
      "\u001b[02;37m[2021-11-20 23:59:13,982][onir_pt][INFO] \u001b[0m\u001b[32mtraining   it=2 loss=0.2522\u001b[0m\n",
      "\u001b[02;37m[2021-11-20 23:59:13,982][onir_pt][DEBUG] \u001b[0m\u001b[37m[starting] validation\u001b[0m\n",
      "\u001b[02;37m[2021-11-20 23:59:13,982][onir_pt][DEBUG] \u001b[0m\u001b[37musing GPU (deterministic)\u001b[0m\n",
      "\u001b[02;37m[2021-11-20 23:59:13,983][onir_pt][DEBUG] \u001b[0m\u001b[37m[starting] batches\u001b[0m\n"
     ]
    },
    {
     "data": {
      "application/vnd.jupyter.widget-view+json": {
       "model_id": "",
       "version_major": 2,
       "version_minor": 0
      },
      "text/plain": [
       "batches:   0%|          | 0/125 [14ms<?, ?it/s]"
      ]
     },
     "metadata": {},
     "output_type": "display_data"
    },
    {
     "name": "stdout",
     "output_type": "stream",
     "text": [
      "\u001b[02;37m[2021-11-20 23:59:14,222][onir_pt][DEBUG] \u001b[0m\u001b[37m[finished] batches: [239ms] [125it] [524.08it/s]\u001b[0m\n",
      "\u001b[02;37m[2021-11-20 23:59:14,320][onir_pt][DEBUG] \u001b[0m\u001b[37m[finished] validation [338ms]\u001b[0m\n",
      "\u001b[02;37m[2021-11-20 23:59:14,322][onir_pt][INFO] \u001b[0m\u001b[32mvalidation it=2 map=0.0101 ndcg=0.0212 P_10=0.0640 <--\u001b[0m\n",
      "\u001b[02;37m[2021-11-20 23:59:14,322][onir_pt][DEBUG] \u001b[0m\u001b[37musing GPU (deterministic)\u001b[0m\n",
      "\u001b[02;37m[2021-11-20 23:59:14,322][onir_pt][DEBUG] \u001b[0m\u001b[37m[starting] training\u001b[0m\n",
      "\u001b[02;37m[2021-11-20 23:59:14,323][onir_pt][DEBUG] \u001b[0m\u001b[37m[starting] train pairs\u001b[0m\n"
     ]
    },
    {
     "data": {
      "application/vnd.jupyter.widget-view+json": {
       "model_id": "",
       "version_major": 2,
       "version_minor": 0
      },
      "text/plain": [
       "train pairs:   0%|          | 0/1024 [14ms<?, ?it/s]"
      ]
     },
     "metadata": {},
     "output_type": "display_data"
    },
    {
     "name": "stdout",
     "output_type": "stream",
     "text": [
      "\u001b[02;37m[2021-11-20 23:59:17,195][onir_pt][DEBUG] \u001b[0m\u001b[37m[finished] train pairs: [2.87s] [1024it] [356.54it/s]\u001b[0m\n",
      "\u001b[02;37m[2021-11-20 23:59:17,196][onir_pt][DEBUG] \u001b[0m\u001b[37m[finished] training [2.87s]\u001b[0m\n",
      "\u001b[02;37m[2021-11-20 23:59:17,196][onir_pt][INFO] \u001b[0m\u001b[32mtraining   it=3 loss=0.2416\u001b[0m\n",
      "\u001b[02;37m[2021-11-20 23:59:17,196][onir_pt][DEBUG] \u001b[0m\u001b[37m[starting] validation\u001b[0m\n",
      "\u001b[02;37m[2021-11-20 23:59:17,196][onir_pt][DEBUG] \u001b[0m\u001b[37musing GPU (deterministic)\u001b[0m\n",
      "\u001b[02;37m[2021-11-20 23:59:17,197][onir_pt][DEBUG] \u001b[0m\u001b[37m[starting] batches\u001b[0m\n"
     ]
    },
    {
     "data": {
      "application/vnd.jupyter.widget-view+json": {
       "model_id": "",
       "version_major": 2,
       "version_minor": 0
      },
      "text/plain": [
       "batches:   0%|          | 0/125 [14ms<?, ?it/s]"
      ]
     },
     "metadata": {},
     "output_type": "display_data"
    },
    {
     "name": "stdout",
     "output_type": "stream",
     "text": [
      "\u001b[02;37m[2021-11-20 23:59:17,436][onir_pt][DEBUG] \u001b[0m\u001b[37m[finished] batches: [238ms] [125it] [525.00it/s]\u001b[0m\n",
      "\u001b[02;37m[2021-11-20 23:59:17,532][onir_pt][DEBUG] \u001b[0m\u001b[37m[finished] validation [336ms]\u001b[0m\n",
      "\u001b[02;37m[2021-11-20 23:59:17,532][onir_pt][INFO] \u001b[0m\u001b[32mvalidation it=3 map=0.0101 ndcg=0.0211 P_10=0.0600\u001b[0m\n",
      "\u001b[02;37m[2021-11-20 23:59:17,533][onir_pt][DEBUG] \u001b[0m\u001b[37musing GPU (deterministic)\u001b[0m\n",
      "\u001b[02;37m[2021-11-20 23:59:17,533][onir_pt][DEBUG] \u001b[0m\u001b[37m[starting] training\u001b[0m\n",
      "\u001b[02;37m[2021-11-20 23:59:17,533][onir_pt][DEBUG] \u001b[0m\u001b[37m[starting] train pairs\u001b[0m\n"
     ]
    },
    {
     "data": {
      "application/vnd.jupyter.widget-view+json": {
       "model_id": "",
       "version_major": 2,
       "version_minor": 0
      },
      "text/plain": [
       "train pairs:   0%|          | 0/1024 [15ms<?, ?it/s]"
      ]
     },
     "metadata": {},
     "output_type": "display_data"
    },
    {
     "name": "stdout",
     "output_type": "stream",
     "text": [
      "\u001b[02;37m[2021-11-20 23:59:20,399][onir_pt][DEBUG] \u001b[0m\u001b[37m[finished] train pairs: [2.87s] [1024it] [357.40it/s]\u001b[0m\n",
      "\u001b[02;37m[2021-11-20 23:59:20,400][onir_pt][DEBUG] \u001b[0m\u001b[37m[finished] training [2.87s]\u001b[0m\n",
      "\u001b[02;37m[2021-11-20 23:59:20,400][onir_pt][INFO] \u001b[0m\u001b[32mtraining   it=4 loss=0.2399\u001b[0m\n",
      "\u001b[02;37m[2021-11-20 23:59:20,400][onir_pt][DEBUG] \u001b[0m\u001b[37m[starting] validation\u001b[0m\n",
      "\u001b[02;37m[2021-11-20 23:59:20,400][onir_pt][DEBUG] \u001b[0m\u001b[37musing GPU (deterministic)\u001b[0m\n",
      "\u001b[02;37m[2021-11-20 23:59:20,401][onir_pt][DEBUG] \u001b[0m\u001b[37m[starting] batches\u001b[0m\n"
     ]
    },
    {
     "data": {
      "application/vnd.jupyter.widget-view+json": {
       "model_id": "",
       "version_major": 2,
       "version_minor": 0
      },
      "text/plain": [
       "batches:   0%|          | 0/125 [14ms<?, ?it/s]"
      ]
     },
     "metadata": {},
     "output_type": "display_data"
    },
    {
     "name": "stdout",
     "output_type": "stream",
     "text": [
      "\u001b[02;37m[2021-11-20 23:59:20,640][onir_pt][DEBUG] \u001b[0m\u001b[37m[finished] batches: [239ms] [125it] [523.72it/s]\u001b[0m\n",
      "\u001b[02;37m[2021-11-20 23:59:20,738][onir_pt][DEBUG] \u001b[0m\u001b[37m[finished] validation [338ms]\u001b[0m\n",
      "\u001b[02;37m[2021-11-20 23:59:20,738][onir_pt][INFO] \u001b[0m\u001b[32mvalidation it=4 map=0.0098 ndcg=0.0209 P_10=0.0560\u001b[0m\n",
      "\u001b[02;37m[2021-11-20 23:59:20,738][onir_pt][DEBUG] \u001b[0m\u001b[37musing GPU (deterministic)\u001b[0m\n",
      "\u001b[02;37m[2021-11-20 23:59:20,739][onir_pt][DEBUG] \u001b[0m\u001b[37m[starting] training\u001b[0m\n",
      "\u001b[02;37m[2021-11-20 23:59:20,739][onir_pt][DEBUG] \u001b[0m\u001b[37m[starting] train pairs\u001b[0m\n"
     ]
    },
    {
     "data": {
      "application/vnd.jupyter.widget-view+json": {
       "model_id": "",
       "version_major": 2,
       "version_minor": 0
      },
      "text/plain": [
       "train pairs:   0%|          | 0/1024 [14ms<?, ?it/s]"
      ]
     },
     "metadata": {},
     "output_type": "display_data"
    },
    {
     "name": "stdout",
     "output_type": "stream",
     "text": [
      "\u001b[02;37m[2021-11-20 23:59:23,601][onir_pt][DEBUG] \u001b[0m\u001b[37m[finished] train pairs: [2.86s] [1024it] [357.86it/s]\u001b[0m\n",
      "\u001b[02;37m[2021-11-20 23:59:23,602][onir_pt][DEBUG] \u001b[0m\u001b[37m[finished] training [2.86s]\u001b[0m\n",
      "\u001b[02;37m[2021-11-20 23:59:23,602][onir_pt][INFO] \u001b[0m\u001b[32mtraining   it=5 loss=0.2314\u001b[0m\n",
      "\u001b[02;37m[2021-11-20 23:59:23,603][onir_pt][DEBUG] \u001b[0m\u001b[37m[starting] validation\u001b[0m\n",
      "\u001b[02;37m[2021-11-20 23:59:23,603][onir_pt][DEBUG] \u001b[0m\u001b[37musing GPU (deterministic)\u001b[0m\n",
      "\u001b[02;37m[2021-11-20 23:59:23,603][onir_pt][DEBUG] \u001b[0m\u001b[37m[starting] batches\u001b[0m\n"
     ]
    },
    {
     "data": {
      "application/vnd.jupyter.widget-view+json": {
       "model_id": "",
       "version_major": 2,
       "version_minor": 0
      },
      "text/plain": [
       "batches:   0%|          | 0/125 [14ms<?, ?it/s]"
      ]
     },
     "metadata": {},
     "output_type": "display_data"
    },
    {
     "name": "stdout",
     "output_type": "stream",
     "text": [
      "\u001b[02;37m[2021-11-20 23:59:23,844][onir_pt][DEBUG] \u001b[0m\u001b[37m[finished] batches: [241ms] [125it] [519.28it/s]\u001b[0m\n",
      "\u001b[02;37m[2021-11-20 23:59:23,943][onir_pt][DEBUG] \u001b[0m\u001b[37m[finished] validation [340ms]\u001b[0m\n",
      "\u001b[02;37m[2021-11-20 23:59:23,943][onir_pt][INFO] \u001b[0m\u001b[32mvalidation it=5 map=0.0099 ndcg=0.0209 P_10=0.0580\u001b[0m\n",
      "\u001b[02;37m[2021-11-20 23:59:23,944][onir_pt][DEBUG] \u001b[0m\u001b[37musing GPU (deterministic)\u001b[0m\n",
      "\u001b[02;37m[2021-11-20 23:59:23,944][onir_pt][DEBUG] \u001b[0m\u001b[37m[starting] training\u001b[0m\n",
      "\u001b[02;37m[2021-11-20 23:59:23,944][onir_pt][DEBUG] \u001b[0m\u001b[37m[starting] train pairs\u001b[0m\n"
     ]
    },
    {
     "data": {
      "application/vnd.jupyter.widget-view+json": {
       "model_id": "",
       "version_major": 2,
       "version_minor": 0
      },
      "text/plain": [
       "train pairs:   0%|          | 0/1024 [14ms<?, ?it/s]"
      ]
     },
     "metadata": {},
     "output_type": "display_data"
    },
    {
     "name": "stdout",
     "output_type": "stream",
     "text": [
      "\u001b[02;37m[2021-11-20 23:59:26,884][onir_pt][DEBUG] \u001b[0m\u001b[37m[finished] train pairs: [2.94s] [1024it] [348.33it/s]\u001b[0m\n",
      "\u001b[02;37m[2021-11-20 23:59:26,885][onir_pt][DEBUG] \u001b[0m\u001b[37m[finished] training [2.94s]\u001b[0m\n",
      "\u001b[02;37m[2021-11-20 23:59:26,886][onir_pt][INFO] \u001b[0m\u001b[32mtraining   it=6 loss=0.2370\u001b[0m\n",
      "\u001b[02;37m[2021-11-20 23:59:26,886][onir_pt][DEBUG] \u001b[0m\u001b[37m[starting] validation\u001b[0m\n",
      "\u001b[02;37m[2021-11-20 23:59:26,886][onir_pt][DEBUG] \u001b[0m\u001b[37musing GPU (deterministic)\u001b[0m\n",
      "\u001b[02;37m[2021-11-20 23:59:26,886][onir_pt][DEBUG] \u001b[0m\u001b[37m[starting] batches\u001b[0m\n"
     ]
    },
    {
     "data": {
      "application/vnd.jupyter.widget-view+json": {
       "model_id": "",
       "version_major": 2,
       "version_minor": 0
      },
      "text/plain": [
       "batches:   0%|          | 0/125 [14ms<?, ?it/s]"
      ]
     },
     "metadata": {},
     "output_type": "display_data"
    },
    {
     "name": "stdout",
     "output_type": "stream",
     "text": [
      "\u001b[02;37m[2021-11-20 23:59:27,126][onir_pt][DEBUG] \u001b[0m\u001b[37m[finished] batches: [240ms] [125it] [521.89it/s]\u001b[0m\n",
      "\u001b[02;37m[2021-11-20 23:59:27,226][onir_pt][DEBUG] \u001b[0m\u001b[37m[finished] validation [341ms]\u001b[0m\n",
      "\u001b[02;37m[2021-11-20 23:59:27,227][onir_pt][INFO] \u001b[0m\u001b[32mvalidation it=6 map=0.0100 ndcg=0.0210 P_10=0.0580\u001b[0m\n",
      "\u001b[02;37m[2021-11-20 23:59:27,227][onir_pt][DEBUG] \u001b[0m\u001b[37musing GPU (deterministic)\u001b[0m\n",
      "\u001b[02;37m[2021-11-20 23:59:27,227][onir_pt][DEBUG] \u001b[0m\u001b[37m[starting] training\u001b[0m\n",
      "\u001b[02;37m[2021-11-20 23:59:27,228][onir_pt][DEBUG] \u001b[0m\u001b[37m[starting] train pairs\u001b[0m\n"
     ]
    },
    {
     "data": {
      "application/vnd.jupyter.widget-view+json": {
       "model_id": "",
       "version_major": 2,
       "version_minor": 0
      },
      "text/plain": [
       "train pairs:   0%|          | 0/1024 [14ms<?, ?it/s]"
      ]
     },
     "metadata": {},
     "output_type": "display_data"
    },
    {
     "name": "stdout",
     "output_type": "stream",
     "text": [
      "\u001b[02;37m[2021-11-20 23:59:30,114][onir_pt][DEBUG] \u001b[0m\u001b[37m[finished] train pairs: [2.89s] [1024it] [354.87it/s]\u001b[0m\n",
      "\u001b[02;37m[2021-11-20 23:59:30,115][onir_pt][DEBUG] \u001b[0m\u001b[37m[finished] training [2.89s]\u001b[0m\n",
      "\u001b[02;37m[2021-11-20 23:59:30,115][onir_pt][INFO] \u001b[0m\u001b[32mtraining   it=7 loss=0.2345\u001b[0m\n",
      "\u001b[02;37m[2021-11-20 23:59:30,116][onir_pt][DEBUG] \u001b[0m\u001b[37m[starting] validation\u001b[0m\n",
      "\u001b[02;37m[2021-11-20 23:59:30,116][onir_pt][DEBUG] \u001b[0m\u001b[37musing GPU (deterministic)\u001b[0m\n",
      "\u001b[02;37m[2021-11-20 23:59:30,116][onir_pt][DEBUG] \u001b[0m\u001b[37m[starting] batches\u001b[0m\n"
     ]
    },
    {
     "data": {
      "application/vnd.jupyter.widget-view+json": {
       "model_id": "",
       "version_major": 2,
       "version_minor": 0
      },
      "text/plain": [
       "batches:   0%|          | 0/125 [14ms<?, ?it/s]"
      ]
     },
     "metadata": {},
     "output_type": "display_data"
    },
    {
     "name": "stdout",
     "output_type": "stream",
     "text": [
      "\u001b[02;37m[2021-11-20 23:59:30,356][onir_pt][DEBUG] \u001b[0m\u001b[37m[finished] batches: [240ms] [125it] [521.84it/s]\u001b[0m\n",
      "\u001b[02;37m[2021-11-20 23:59:30,453][onir_pt][DEBUG] \u001b[0m\u001b[37m[finished] validation [337ms]\u001b[0m\n",
      "\u001b[02;37m[2021-11-20 23:59:30,454][onir_pt][INFO] \u001b[0m\u001b[32mvalidation it=7 map=0.0103 ndcg=0.0215 P_10=0.0640 <--\u001b[0m\n",
      "\u001b[02;37m[2021-11-20 23:59:30,455][onir_pt][DEBUG] \u001b[0m\u001b[37musing GPU (deterministic)\u001b[0m\n",
      "\u001b[02;37m[2021-11-20 23:59:30,455][onir_pt][DEBUG] \u001b[0m\u001b[37m[starting] training\u001b[0m\n",
      "\u001b[02;37m[2021-11-20 23:59:30,455][onir_pt][DEBUG] \u001b[0m\u001b[37m[starting] train pairs\u001b[0m\n"
     ]
    },
    {
     "data": {
      "application/vnd.jupyter.widget-view+json": {
       "model_id": "",
       "version_major": 2,
       "version_minor": 0
      },
      "text/plain": [
       "train pairs:   0%|          | 0/1024 [14ms<?, ?it/s]"
      ]
     },
     "metadata": {},
     "output_type": "display_data"
    },
    {
     "name": "stdout",
     "output_type": "stream",
     "text": [
      "\u001b[02;37m[2021-11-20 23:59:33,335][onir_pt][DEBUG] \u001b[0m\u001b[37m[finished] train pairs: [2.88s] [1024it] [355.68it/s]\u001b[0m\n",
      "\u001b[02;37m[2021-11-20 23:59:33,336][onir_pt][DEBUG] \u001b[0m\u001b[37m[finished] training [2.88s]\u001b[0m\n",
      "\u001b[02;37m[2021-11-20 23:59:33,336][onir_pt][INFO] \u001b[0m\u001b[32mtraining   it=8 loss=0.2292\u001b[0m\n",
      "\u001b[02;37m[2021-11-20 23:59:33,336][onir_pt][DEBUG] \u001b[0m\u001b[37m[starting] validation\u001b[0m\n",
      "\u001b[02;37m[2021-11-20 23:59:33,336][onir_pt][DEBUG] \u001b[0m\u001b[37musing GPU (deterministic)\u001b[0m\n",
      "\u001b[02;37m[2021-11-20 23:59:33,337][onir_pt][DEBUG] \u001b[0m\u001b[37m[starting] batches\u001b[0m\n"
     ]
    },
    {
     "data": {
      "application/vnd.jupyter.widget-view+json": {
       "model_id": "",
       "version_major": 2,
       "version_minor": 0
      },
      "text/plain": [
       "batches:   0%|          | 0/125 [14ms<?, ?it/s]"
      ]
     },
     "metadata": {},
     "output_type": "display_data"
    },
    {
     "name": "stdout",
     "output_type": "stream",
     "text": [
      "\u001b[02;37m[2021-11-20 23:59:33,577][onir_pt][DEBUG] \u001b[0m\u001b[37m[finished] batches: [240ms] [125it] [520.48it/s]\u001b[0m\n",
      "\u001b[02;37m[2021-11-20 23:59:33,676][onir_pt][DEBUG] \u001b[0m\u001b[37m[finished] validation [340ms]\u001b[0m\n",
      "\u001b[02;37m[2021-11-20 23:59:33,677][onir_pt][INFO] \u001b[0m\u001b[32mvalidation it=8 map=0.0100 ndcg=0.0210 P_10=0.0560\u001b[0m\n",
      "\u001b[02;37m[2021-11-20 23:59:33,677][onir_pt][DEBUG] \u001b[0m\u001b[37musing GPU (deterministic)\u001b[0m\n",
      "\u001b[02;37m[2021-11-20 23:59:33,677][onir_pt][DEBUG] \u001b[0m\u001b[37m[starting] training\u001b[0m\n",
      "\u001b[02;37m[2021-11-20 23:59:33,677][onir_pt][DEBUG] \u001b[0m\u001b[37m[starting] train pairs\u001b[0m\n"
     ]
    },
    {
     "data": {
      "application/vnd.jupyter.widget-view+json": {
       "model_id": "",
       "version_major": 2,
       "version_minor": 0
      },
      "text/plain": [
       "train pairs:   0%|          | 0/1024 [14ms<?, ?it/s]"
      ]
     },
     "metadata": {},
     "output_type": "display_data"
    },
    {
     "name": "stdout",
     "output_type": "stream",
     "text": [
      "\u001b[02;37m[2021-11-20 23:59:36,552][onir_pt][DEBUG] \u001b[0m\u001b[37m[finished] train pairs: [2.87s] [1024it] [356.26it/s]\u001b[0m\n",
      "\u001b[02;37m[2021-11-20 23:59:36,554][onir_pt][DEBUG] \u001b[0m\u001b[37m[finished] training [2.88s]\u001b[0m\n",
      "\u001b[02;37m[2021-11-20 23:59:36,554][onir_pt][INFO] \u001b[0m\u001b[32mtraining   it=9 loss=0.2396\u001b[0m\n",
      "\u001b[02;37m[2021-11-20 23:59:36,554][onir_pt][DEBUG] \u001b[0m\u001b[37m[starting] validation\u001b[0m\n",
      "\u001b[02;37m[2021-11-20 23:59:36,554][onir_pt][DEBUG] \u001b[0m\u001b[37musing GPU (deterministic)\u001b[0m\n",
      "\u001b[02;37m[2021-11-20 23:59:36,555][onir_pt][DEBUG] \u001b[0m\u001b[37m[starting] batches\u001b[0m\n"
     ]
    },
    {
     "data": {
      "application/vnd.jupyter.widget-view+json": {
       "model_id": "",
       "version_major": 2,
       "version_minor": 0
      },
      "text/plain": [
       "batches:   0%|          | 0/125 [14ms<?, ?it/s]"
      ]
     },
     "metadata": {},
     "output_type": "display_data"
    },
    {
     "name": "stdout",
     "output_type": "stream",
     "text": [
      "\u001b[02;37m[2021-11-20 23:59:36,795][onir_pt][DEBUG] \u001b[0m\u001b[37m[finished] batches: [240ms] [125it] [520.87it/s]\u001b[0m\n",
      "\u001b[02;37m[2021-11-20 23:59:36,892][onir_pt][DEBUG] \u001b[0m\u001b[37m[finished] validation [338ms]\u001b[0m\n",
      "\u001b[02;37m[2021-11-20 23:59:36,893][onir_pt][INFO] \u001b[0m\u001b[32mvalidation it=9 map=0.0093 ndcg=0.0203 P_10=0.0520\u001b[0m\n",
      "\u001b[02;37m[2021-11-20 23:59:36,893][onir_pt][DEBUG] \u001b[0m\u001b[37musing GPU (deterministic)\u001b[0m\n",
      "\u001b[02;37m[2021-11-20 23:59:36,893][onir_pt][DEBUG] \u001b[0m\u001b[37m[starting] training\u001b[0m\n",
      "\u001b[02;37m[2021-11-20 23:59:36,893][onir_pt][DEBUG] \u001b[0m\u001b[37m[starting] train pairs\u001b[0m\n"
     ]
    },
    {
     "data": {
      "application/vnd.jupyter.widget-view+json": {
       "model_id": "",
       "version_major": 2,
       "version_minor": 0
      },
      "text/plain": [
       "train pairs:   0%|          | 0/1024 [15ms<?, ?it/s]"
      ]
     },
     "metadata": {},
     "output_type": "display_data"
    },
    {
     "name": "stdout",
     "output_type": "stream",
     "text": [
      "\u001b[02;37m[2021-11-20 23:59:39,800][onir_pt][DEBUG] \u001b[0m\u001b[37m[finished] train pairs: [2.91s] [1024it] [352.33it/s]\u001b[0m\n",
      "\u001b[02;37m[2021-11-20 23:59:39,801][onir_pt][DEBUG] \u001b[0m\u001b[37m[finished] training [2.91s]\u001b[0m\n",
      "\u001b[02;37m[2021-11-20 23:59:39,801][onir_pt][INFO] \u001b[0m\u001b[32mtraining   it=10 loss=0.2292\u001b[0m\n",
      "\u001b[02;37m[2021-11-20 23:59:39,802][onir_pt][DEBUG] \u001b[0m\u001b[37m[starting] validation\u001b[0m\n",
      "\u001b[02;37m[2021-11-20 23:59:39,802][onir_pt][DEBUG] \u001b[0m\u001b[37musing GPU (deterministic)\u001b[0m\n",
      "\u001b[02;37m[2021-11-20 23:59:39,803][onir_pt][DEBUG] \u001b[0m\u001b[37m[starting] batches\u001b[0m\n"
     ]
    },
    {
     "data": {
      "application/vnd.jupyter.widget-view+json": {
       "model_id": "",
       "version_major": 2,
       "version_minor": 0
      },
      "text/plain": [
       "batches:   0%|          | 0/125 [14ms<?, ?it/s]"
      ]
     },
     "metadata": {},
     "output_type": "display_data"
    },
    {
     "name": "stdout",
     "output_type": "stream",
     "text": [
      "\u001b[02;37m[2021-11-20 23:59:40,042][onir_pt][DEBUG] \u001b[0m\u001b[37m[finished] batches: [239ms] [125it] [522.60it/s]\u001b[0m\n",
      "\u001b[02;37m[2021-11-20 23:59:40,141][onir_pt][DEBUG] \u001b[0m\u001b[37m[finished] validation [339ms]\u001b[0m\n",
      "\u001b[02;37m[2021-11-20 23:59:40,141][onir_pt][INFO] \u001b[0m\u001b[32mvalidation it=10 map=0.0095 ndcg=0.0202 P_10=0.0480\u001b[0m\n",
      "\u001b[02;37m[2021-11-20 23:59:40,142][onir_pt][DEBUG] \u001b[0m\u001b[37musing GPU (deterministic)\u001b[0m\n",
      "\u001b[02;37m[2021-11-20 23:59:40,142][onir_pt][DEBUG] \u001b[0m\u001b[37m[starting] training\u001b[0m\n",
      "\u001b[02;37m[2021-11-20 23:59:40,142][onir_pt][DEBUG] \u001b[0m\u001b[37m[starting] train pairs\u001b[0m\n"
     ]
    },
    {
     "data": {
      "application/vnd.jupyter.widget-view+json": {
       "model_id": "",
       "version_major": 2,
       "version_minor": 0
      },
      "text/plain": [
       "train pairs:   0%|          | 0/1024 [14ms<?, ?it/s]"
      ]
     },
     "metadata": {},
     "output_type": "display_data"
    },
    {
     "name": "stdout",
     "output_type": "stream",
     "text": [
      "\u001b[02;37m[2021-11-20 23:59:43,055][onir_pt][DEBUG] \u001b[0m\u001b[37m[finished] train pairs: [2.91s] [1024it] [351.65it/s]\u001b[0m\n",
      "\u001b[02;37m[2021-11-20 23:59:43,056][onir_pt][DEBUG] \u001b[0m\u001b[37m[finished] training [2.91s]\u001b[0m\n",
      "\u001b[02;37m[2021-11-20 23:59:43,056][onir_pt][INFO] \u001b[0m\u001b[32mtraining   it=11 loss=0.2320\u001b[0m\n",
      "\u001b[02;37m[2021-11-20 23:59:43,056][onir_pt][DEBUG] \u001b[0m\u001b[37m[starting] validation\u001b[0m\n",
      "\u001b[02;37m[2021-11-20 23:59:43,056][onir_pt][DEBUG] \u001b[0m\u001b[37musing GPU (deterministic)\u001b[0m\n",
      "\u001b[02;37m[2021-11-20 23:59:43,057][onir_pt][DEBUG] \u001b[0m\u001b[37m[starting] batches\u001b[0m\n"
     ]
    },
    {
     "data": {
      "application/vnd.jupyter.widget-view+json": {
       "model_id": "",
       "version_major": 2,
       "version_minor": 0
      },
      "text/plain": [
       "batches:   0%|          | 0/125 [14ms<?, ?it/s]"
      ]
     },
     "metadata": {},
     "output_type": "display_data"
    },
    {
     "name": "stdout",
     "output_type": "stream",
     "text": [
      "\u001b[02;37m[2021-11-20 23:59:43,297][onir_pt][DEBUG] \u001b[0m\u001b[37m[finished] batches: [241ms] [125it] [519.62it/s]\u001b[0m\n",
      "\u001b[02;37m[2021-11-20 23:59:43,394][onir_pt][DEBUG] \u001b[0m\u001b[37m[finished] validation [338ms]\u001b[0m\n",
      "\u001b[02;37m[2021-11-20 23:59:43,395][onir_pt][INFO] \u001b[0m\u001b[32mvalidation it=11 map=0.0097 ndcg=0.0206 P_10=0.0540\u001b[0m\n",
      "\u001b[02;37m[2021-11-20 23:59:43,395][onir_pt][DEBUG] \u001b[0m\u001b[37musing GPU (deterministic)\u001b[0m\n",
      "\u001b[02;37m[2021-11-20 23:59:43,395][onir_pt][DEBUG] \u001b[0m\u001b[37m[starting] training\u001b[0m\n",
      "\u001b[02;37m[2021-11-20 23:59:43,395][onir_pt][DEBUG] \u001b[0m\u001b[37m[starting] train pairs\u001b[0m\n"
     ]
    },
    {
     "data": {
      "application/vnd.jupyter.widget-view+json": {
       "model_id": "",
       "version_major": 2,
       "version_minor": 0
      },
      "text/plain": [
       "train pairs:   0%|          | 0/1024 [14ms<?, ?it/s]"
      ]
     },
     "metadata": {},
     "output_type": "display_data"
    },
    {
     "name": "stdout",
     "output_type": "stream",
     "text": [
      "\u001b[02;37m[2021-11-20 23:59:46,279][onir_pt][DEBUG] \u001b[0m\u001b[37m[finished] train pairs: [2.88s] [1024it] [355.17it/s]\u001b[0m\n",
      "\u001b[02;37m[2021-11-20 23:59:46,280][onir_pt][DEBUG] \u001b[0m\u001b[37m[finished] training [2.88s]\u001b[0m\n",
      "\u001b[02;37m[2021-11-20 23:59:46,280][onir_pt][INFO] \u001b[0m\u001b[32mtraining   it=12 loss=0.2201\u001b[0m\n",
      "\u001b[02;37m[2021-11-20 23:59:46,280][onir_pt][DEBUG] \u001b[0m\u001b[37m[starting] validation\u001b[0m\n",
      "\u001b[02;37m[2021-11-20 23:59:46,281][onir_pt][DEBUG] \u001b[0m\u001b[37musing GPU (deterministic)\u001b[0m\n",
      "\u001b[02;37m[2021-11-20 23:59:46,281][onir_pt][DEBUG] \u001b[0m\u001b[37m[starting] batches\u001b[0m\n"
     ]
    },
    {
     "data": {
      "application/vnd.jupyter.widget-view+json": {
       "model_id": "",
       "version_major": 2,
       "version_minor": 0
      },
      "text/plain": [
       "batches:   0%|          | 0/125 [14ms<?, ?it/s]"
      ]
     },
     "metadata": {},
     "output_type": "display_data"
    },
    {
     "name": "stdout",
     "output_type": "stream",
     "text": [
      "\u001b[02;37m[2021-11-20 23:59:46,521][onir_pt][DEBUG] \u001b[0m\u001b[37m[finished] batches: [239ms] [125it] [521.97it/s]\u001b[0m\n",
      "\u001b[02;37m[2021-11-20 23:59:46,622][onir_pt][DEBUG] \u001b[0m\u001b[37m[finished] validation [342ms]\u001b[0m\n",
      "\u001b[02;37m[2021-11-20 23:59:46,622][onir_pt][INFO] \u001b[0m\u001b[32mvalidation it=12 map=0.0097 ndcg=0.0205 P_10=0.0540\u001b[0m\n",
      "\u001b[02;37m[2021-11-20 23:59:46,623][onir_pt][DEBUG] \u001b[0m\u001b[37musing GPU (deterministic)\u001b[0m\n",
      "\u001b[02;37m[2021-11-20 23:59:46,623][onir_pt][DEBUG] \u001b[0m\u001b[37m[starting] training\u001b[0m\n",
      "\u001b[02;37m[2021-11-20 23:59:46,623][onir_pt][DEBUG] \u001b[0m\u001b[37m[starting] train pairs\u001b[0m\n"
     ]
    },
    {
     "data": {
      "application/vnd.jupyter.widget-view+json": {
       "model_id": "",
       "version_major": 2,
       "version_minor": 0
      },
      "text/plain": [
       "train pairs:   0%|          | 0/1024 [14ms<?, ?it/s]"
      ]
     },
     "metadata": {},
     "output_type": "display_data"
    },
    {
     "name": "stdout",
     "output_type": "stream",
     "text": [
      "\u001b[02;37m[2021-11-20 23:59:49,611][onir_pt][DEBUG] \u001b[0m\u001b[37m[finished] train pairs: [2.99s] [1024it] [342.73it/s]\u001b[0m\n",
      "\u001b[02;37m[2021-11-20 23:59:49,613][onir_pt][DEBUG] \u001b[0m\u001b[37m[finished] training [2.99s]\u001b[0m\n",
      "\u001b[02;37m[2021-11-20 23:59:49,613][onir_pt][INFO] \u001b[0m\u001b[32mtraining   it=13 loss=0.2334\u001b[0m\n",
      "\u001b[02;37m[2021-11-20 23:59:49,613][onir_pt][DEBUG] \u001b[0m\u001b[37m[starting] validation\u001b[0m\n",
      "\u001b[02;37m[2021-11-20 23:59:49,614][onir_pt][DEBUG] \u001b[0m\u001b[37musing GPU (deterministic)\u001b[0m\n",
      "\u001b[02;37m[2021-11-20 23:59:49,614][onir_pt][DEBUG] \u001b[0m\u001b[37m[starting] batches\u001b[0m\n"
     ]
    },
    {
     "data": {
      "application/vnd.jupyter.widget-view+json": {
       "model_id": "",
       "version_major": 2,
       "version_minor": 0
      },
      "text/plain": [
       "batches:   0%|          | 0/125 [14ms<?, ?it/s]"
      ]
     },
     "metadata": {},
     "output_type": "display_data"
    },
    {
     "name": "stdout",
     "output_type": "stream",
     "text": [
      "\u001b[02;37m[2021-11-20 23:59:49,883][onir_pt][DEBUG] \u001b[0m\u001b[37m[finished] batches: [269ms] [125it] [464.81it/s]\u001b[0m\n",
      "\u001b[02;37m[2021-11-20 23:59:49,983][onir_pt][DEBUG] \u001b[0m\u001b[37m[finished] validation [369ms]\u001b[0m\n",
      "\u001b[02;37m[2021-11-20 23:59:49,983][onir_pt][INFO] \u001b[0m\u001b[32mvalidation it=13 map=0.0094 ndcg=0.0199 P_10=0.0480\u001b[0m\n",
      "\u001b[02;37m[2021-11-20 23:59:49,984][onir_pt][DEBUG] \u001b[0m\u001b[37musing GPU (deterministic)\u001b[0m\n",
      "\u001b[02;37m[2021-11-20 23:59:49,984][onir_pt][DEBUG] \u001b[0m\u001b[37m[starting] training\u001b[0m\n",
      "\u001b[02;37m[2021-11-20 23:59:49,984][onir_pt][DEBUG] \u001b[0m\u001b[37m[starting] train pairs\u001b[0m\n"
     ]
    },
    {
     "data": {
      "application/vnd.jupyter.widget-view+json": {
       "model_id": "",
       "version_major": 2,
       "version_minor": 0
      },
      "text/plain": [
       "train pairs:   0%|          | 0/1024 [15ms<?, ?it/s]"
      ]
     },
     "metadata": {},
     "output_type": "display_data"
    },
    {
     "name": "stdout",
     "output_type": "stream",
     "text": [
      "\u001b[02;37m[2021-11-20 23:59:52,895][onir_pt][DEBUG] \u001b[0m\u001b[37m[finished] train pairs: [2.91s] [1024it] [351.83it/s]\u001b[0m\n",
      "\u001b[02;37m[2021-11-20 23:59:52,896][onir_pt][DEBUG] \u001b[0m\u001b[37m[finished] training [2.91s]\u001b[0m\n",
      "\u001b[02;37m[2021-11-20 23:59:52,896][onir_pt][INFO] \u001b[0m\u001b[32mtraining   it=14 loss=0.2312\u001b[0m\n",
      "\u001b[02;37m[2021-11-20 23:59:52,896][onir_pt][DEBUG] \u001b[0m\u001b[37m[starting] validation\u001b[0m\n",
      "\u001b[02;37m[2021-11-20 23:59:52,897][onir_pt][DEBUG] \u001b[0m\u001b[37musing GPU (deterministic)\u001b[0m\n",
      "\u001b[02;37m[2021-11-20 23:59:52,897][onir_pt][DEBUG] \u001b[0m\u001b[37m[starting] batches\u001b[0m\n"
     ]
    },
    {
     "data": {
      "application/vnd.jupyter.widget-view+json": {
       "model_id": "",
       "version_major": 2,
       "version_minor": 0
      },
      "text/plain": [
       "batches:   0%|          | 0/125 [14ms<?, ?it/s]"
      ]
     },
     "metadata": {},
     "output_type": "display_data"
    },
    {
     "name": "stdout",
     "output_type": "stream",
     "text": [
      "\u001b[02;37m[2021-11-20 23:59:53,137][onir_pt][DEBUG] \u001b[0m\u001b[37m[finished] batches: [240ms] [125it] [521.55it/s]\u001b[0m\n",
      "\u001b[02;37m[2021-11-20 23:59:53,235][onir_pt][DEBUG] \u001b[0m\u001b[37m[finished] validation [338ms]\u001b[0m\n",
      "\u001b[02;37m[2021-11-20 23:59:53,235][onir_pt][INFO] \u001b[0m\u001b[32mvalidation it=14 map=0.0095 ndcg=0.0199 P_10=0.0480\u001b[0m\n",
      "\u001b[02;37m[2021-11-20 23:59:53,236][onir_pt][DEBUG] \u001b[0m\u001b[37musing GPU (deterministic)\u001b[0m\n",
      "\u001b[02;37m[2021-11-20 23:59:53,236][onir_pt][DEBUG] \u001b[0m\u001b[37m[starting] training\u001b[0m\n",
      "\u001b[02;37m[2021-11-20 23:59:53,236][onir_pt][DEBUG] \u001b[0m\u001b[37m[starting] train pairs\u001b[0m\n"
     ]
    },
    {
     "data": {
      "application/vnd.jupyter.widget-view+json": {
       "model_id": "",
       "version_major": 2,
       "version_minor": 0
      },
      "text/plain": [
       "train pairs:   0%|          | 0/1024 [14ms<?, ?it/s]"
      ]
     },
     "metadata": {},
     "output_type": "display_data"
    },
    {
     "name": "stdout",
     "output_type": "stream",
     "text": [
      "\u001b[02;37m[2021-11-20 23:59:56,127][onir_pt][DEBUG] \u001b[0m\u001b[37m[finished] train pairs: [2.89s] [1024it] [354.23it/s]\u001b[0m\n",
      "\u001b[02;37m[2021-11-20 23:59:56,128][onir_pt][DEBUG] \u001b[0m\u001b[37m[finished] training [2.89s]\u001b[0m\n",
      "\u001b[02;37m[2021-11-20 23:59:56,129][onir_pt][INFO] \u001b[0m\u001b[32mtraining   it=15 loss=0.2240\u001b[0m\n",
      "\u001b[02;37m[2021-11-20 23:59:56,129][onir_pt][DEBUG] \u001b[0m\u001b[37m[starting] validation\u001b[0m\n",
      "\u001b[02;37m[2021-11-20 23:59:56,129][onir_pt][DEBUG] \u001b[0m\u001b[37musing GPU (deterministic)\u001b[0m\n",
      "\u001b[02;37m[2021-11-20 23:59:56,130][onir_pt][DEBUG] \u001b[0m\u001b[37m[starting] batches\u001b[0m\n"
     ]
    },
    {
     "data": {
      "application/vnd.jupyter.widget-view+json": {
       "model_id": "",
       "version_major": 2,
       "version_minor": 0
      },
      "text/plain": [
       "batches:   0%|          | 0/125 [14ms<?, ?it/s]"
      ]
     },
     "metadata": {},
     "output_type": "display_data"
    },
    {
     "name": "stdout",
     "output_type": "stream",
     "text": [
      "\u001b[02;37m[2021-11-20 23:59:56,369][onir_pt][DEBUG] \u001b[0m\u001b[37m[finished] batches: [239ms] [125it] [523.46it/s]\u001b[0m\n",
      "\u001b[02;37m[2021-11-20 23:59:56,468][onir_pt][DEBUG] \u001b[0m\u001b[37m[finished] validation [339ms]\u001b[0m\n",
      "\u001b[02;37m[2021-11-20 23:59:56,468][onir_pt][INFO] \u001b[0m\u001b[32mvalidation it=15 map=0.0095 ndcg=0.0199 P_10=0.0460\u001b[0m\n",
      "\u001b[02;37m[2021-11-20 23:59:56,469][onir_pt][DEBUG] \u001b[0m\u001b[37musing GPU (deterministic)\u001b[0m\n",
      "\u001b[02;37m[2021-11-20 23:59:56,469][onir_pt][DEBUG] \u001b[0m\u001b[37m[starting] training\u001b[0m\n",
      "\u001b[02;37m[2021-11-20 23:59:56,469][onir_pt][DEBUG] \u001b[0m\u001b[37m[starting] train pairs\u001b[0m\n"
     ]
    },
    {
     "data": {
      "application/vnd.jupyter.widget-view+json": {
       "model_id": "",
       "version_major": 2,
       "version_minor": 0
      },
      "text/plain": [
       "train pairs:   0%|          | 0/1024 [14ms<?, ?it/s]"
      ]
     },
     "metadata": {},
     "output_type": "display_data"
    },
    {
     "name": "stdout",
     "output_type": "stream",
     "text": [
      "\u001b[02;37m[2021-11-20 23:59:59,538][onir_pt][DEBUG] \u001b[0m\u001b[37m[finished] train pairs: [3.07s] [1024it] [333.76it/s]\u001b[0m\n",
      "\u001b[02;37m[2021-11-20 23:59:59,539][onir_pt][DEBUG] \u001b[0m\u001b[37m[finished] training [3.07s]\u001b[0m\n",
      "\u001b[02;37m[2021-11-20 23:59:59,539][onir_pt][INFO] \u001b[0m\u001b[32mtraining   it=16 loss=0.2272\u001b[0m\n",
      "\u001b[02;37m[2021-11-20 23:59:59,540][onir_pt][DEBUG] \u001b[0m\u001b[37m[starting] validation\u001b[0m\n",
      "\u001b[02;37m[2021-11-20 23:59:59,540][onir_pt][DEBUG] \u001b[0m\u001b[37musing GPU (deterministic)\u001b[0m\n",
      "\u001b[02;37m[2021-11-20 23:59:59,540][onir_pt][DEBUG] \u001b[0m\u001b[37m[starting] batches\u001b[0m\n"
     ]
    },
    {
     "data": {
      "application/vnd.jupyter.widget-view+json": {
       "model_id": "",
       "version_major": 2,
       "version_minor": 0
      },
      "text/plain": [
       "batches:   0%|          | 0/125 [14ms<?, ?it/s]"
      ]
     },
     "metadata": {},
     "output_type": "display_data"
    },
    {
     "name": "stdout",
     "output_type": "stream",
     "text": [
      "\u001b[02;37m[2021-11-20 23:59:59,780][onir_pt][DEBUG] \u001b[0m\u001b[37m[finished] batches: [240ms] [125it] [521.73it/s]\u001b[0m\n",
      "\u001b[02;37m[2021-11-20 23:59:59,880][onir_pt][DEBUG] \u001b[0m\u001b[37m[finished] validation [341ms]\u001b[0m\n",
      "\u001b[02;37m[2021-11-20 23:59:59,881][onir_pt][INFO] \u001b[0m\u001b[32mvalidation it=16 map=0.0096 ndcg=0.0202 P_10=0.0500\u001b[0m\n",
      "\u001b[02;37m[2021-11-20 23:59:59,881][onir_pt][DEBUG] \u001b[0m\u001b[37musing GPU (deterministic)\u001b[0m\n",
      "\u001b[02;37m[2021-11-20 23:59:59,881][onir_pt][DEBUG] \u001b[0m\u001b[37m[starting] training\u001b[0m\n",
      "\u001b[02;37m[2021-11-20 23:59:59,881][onir_pt][DEBUG] \u001b[0m\u001b[37m[starting] train pairs\u001b[0m\n"
     ]
    },
    {
     "data": {
      "application/vnd.jupyter.widget-view+json": {
       "model_id": "",
       "version_major": 2,
       "version_minor": 0
      },
      "text/plain": [
       "train pairs:   0%|          | 0/1024 [14ms<?, ?it/s]"
      ]
     },
     "metadata": {},
     "output_type": "display_data"
    },
    {
     "name": "stdout",
     "output_type": "stream",
     "text": [
      "\u001b[02;37m[2021-11-21 00:00:02,786][onir_pt][DEBUG] \u001b[0m\u001b[37m[finished] train pairs: [2.90s] [1024it] [352.55it/s]\u001b[0m\n",
      "\u001b[02;37m[2021-11-21 00:00:02,787][onir_pt][DEBUG] \u001b[0m\u001b[37m[finished] training [2.91s]\u001b[0m\n",
      "\u001b[02;37m[2021-11-21 00:00:02,788][onir_pt][INFO] \u001b[0m\u001b[32mtraining   it=17 loss=0.2198\u001b[0m\n",
      "\u001b[02;37m[2021-11-21 00:00:02,788][onir_pt][DEBUG] \u001b[0m\u001b[37m[starting] validation\u001b[0m\n",
      "\u001b[02;37m[2021-11-21 00:00:02,788][onir_pt][DEBUG] \u001b[0m\u001b[37musing GPU (deterministic)\u001b[0m\n",
      "\u001b[02;37m[2021-11-21 00:00:02,789][onir_pt][DEBUG] \u001b[0m\u001b[37m[starting] batches\u001b[0m\n"
     ]
    },
    {
     "data": {
      "application/vnd.jupyter.widget-view+json": {
       "model_id": "",
       "version_major": 2,
       "version_minor": 0
      },
      "text/plain": [
       "batches:   0%|          | 0/125 [14ms<?, ?it/s]"
      ]
     },
     "metadata": {},
     "output_type": "display_data"
    },
    {
     "name": "stdout",
     "output_type": "stream",
     "text": [
      "\u001b[02;37m[2021-11-21 00:00:03,032][onir_pt][DEBUG] \u001b[0m\u001b[37m[finished] batches: [243ms] [125it] [514.98it/s]\u001b[0m\n",
      "\u001b[02;37m[2021-11-21 00:00:03,134][onir_pt][DEBUG] \u001b[0m\u001b[37m[finished] validation [346ms]\u001b[0m\n",
      "\u001b[02;37m[2021-11-21 00:00:03,134][onir_pt][INFO] \u001b[0m\u001b[32mvalidation it=17 map=0.0095 ndcg=0.0201 P_10=0.0460\u001b[0m\n",
      "\u001b[02;37m[2021-11-21 00:00:03,135][onir_pt][DEBUG] \u001b[0m\u001b[37musing GPU (deterministic)\u001b[0m\n",
      "\u001b[02;37m[2021-11-21 00:00:03,135][onir_pt][DEBUG] \u001b[0m\u001b[37m[starting] training\u001b[0m\n",
      "\u001b[02;37m[2021-11-21 00:00:03,135][onir_pt][DEBUG] \u001b[0m\u001b[37m[starting] train pairs\u001b[0m\n"
     ]
    },
    {
     "data": {
      "application/vnd.jupyter.widget-view+json": {
       "model_id": "",
       "version_major": 2,
       "version_minor": 0
      },
      "text/plain": [
       "train pairs:   0%|          | 0/1024 [14ms<?, ?it/s]"
      ]
     },
     "metadata": {},
     "output_type": "display_data"
    },
    {
     "name": "stdout",
     "output_type": "stream",
     "text": [
      "\u001b[02;37m[2021-11-21 00:00:06,049][onir_pt][DEBUG] \u001b[0m\u001b[37m[finished] train pairs: [2.91s] [1024it] [351.51it/s]\u001b[0m\n",
      "\u001b[02;37m[2021-11-21 00:00:06,050][onir_pt][DEBUG] \u001b[0m\u001b[37m[finished] training [2.92s]\u001b[0m\n",
      "\u001b[02;37m[2021-11-21 00:00:06,050][onir_pt][INFO] \u001b[0m\u001b[32mtraining   it=18 loss=0.2277\u001b[0m\n",
      "\u001b[02;37m[2021-11-21 00:00:06,050][onir_pt][DEBUG] \u001b[0m\u001b[37m[starting] validation\u001b[0m\n",
      "\u001b[02;37m[2021-11-21 00:00:06,051][onir_pt][DEBUG] \u001b[0m\u001b[37musing GPU (deterministic)\u001b[0m\n",
      "\u001b[02;37m[2021-11-21 00:00:06,051][onir_pt][DEBUG] \u001b[0m\u001b[37m[starting] batches\u001b[0m\n"
     ]
    },
    {
     "data": {
      "application/vnd.jupyter.widget-view+json": {
       "model_id": "",
       "version_major": 2,
       "version_minor": 0
      },
      "text/plain": [
       "batches:   0%|          | 0/125 [14ms<?, ?it/s]"
      ]
     },
     "metadata": {},
     "output_type": "display_data"
    },
    {
     "name": "stdout",
     "output_type": "stream",
     "text": [
      "\u001b[02;37m[2021-11-21 00:00:06,291][onir_pt][DEBUG] \u001b[0m\u001b[37m[finished] batches: [240ms] [125it] [520.93it/s]\u001b[0m\n",
      "\u001b[02;37m[2021-11-21 00:00:06,389][onir_pt][DEBUG] \u001b[0m\u001b[37m[finished] validation [338ms]\u001b[0m\n",
      "\u001b[02;37m[2021-11-21 00:00:06,389][onir_pt][INFO] \u001b[0m\u001b[32mvalidation it=18 map=0.0097 ndcg=0.0205 P_10=0.0520\u001b[0m\n",
      "\u001b[02;37m[2021-11-21 00:00:06,389][onir_pt][DEBUG] \u001b[0m\u001b[37musing GPU (deterministic)\u001b[0m\n",
      "\u001b[02;37m[2021-11-21 00:00:06,390][onir_pt][DEBUG] \u001b[0m\u001b[37m[starting] training\u001b[0m\n",
      "\u001b[02;37m[2021-11-21 00:00:06,390][onir_pt][DEBUG] \u001b[0m\u001b[37m[starting] train pairs\u001b[0m\n"
     ]
    },
    {
     "data": {
      "application/vnd.jupyter.widget-view+json": {
       "model_id": "",
       "version_major": 2,
       "version_minor": 0
      },
      "text/plain": [
       "train pairs:   0%|          | 0/1024 [15ms<?, ?it/s]"
      ]
     },
     "metadata": {},
     "output_type": "display_data"
    },
    {
     "name": "stdout",
     "output_type": "stream",
     "text": [
      "\u001b[02;37m[2021-11-21 00:00:09,289][onir_pt][DEBUG] \u001b[0m\u001b[37m[finished] train pairs: [2.90s] [1024it] [353.23it/s]\u001b[0m\n",
      "\u001b[02;37m[2021-11-21 00:00:09,290][onir_pt][DEBUG] \u001b[0m\u001b[37m[finished] training [2.90s]\u001b[0m\n",
      "\u001b[02;37m[2021-11-21 00:00:09,291][onir_pt][INFO] \u001b[0m\u001b[32mtraining   it=19 loss=0.2324\u001b[0m\n",
      "\u001b[02;37m[2021-11-21 00:00:09,291][onir_pt][DEBUG] \u001b[0m\u001b[37m[starting] validation\u001b[0m\n",
      "\u001b[02;37m[2021-11-21 00:00:09,291][onir_pt][DEBUG] \u001b[0m\u001b[37musing GPU (deterministic)\u001b[0m\n",
      "\u001b[02;37m[2021-11-21 00:00:09,291][onir_pt][DEBUG] \u001b[0m\u001b[37m[starting] batches\u001b[0m\n"
     ]
    },
    {
     "data": {
      "application/vnd.jupyter.widget-view+json": {
       "model_id": "",
       "version_major": 2,
       "version_minor": 0
      },
      "text/plain": [
       "batches:   0%|          | 0/125 [14ms<?, ?it/s]"
      ]
     },
     "metadata": {},
     "output_type": "display_data"
    },
    {
     "name": "stdout",
     "output_type": "stream",
     "text": [
      "\u001b[02;37m[2021-11-21 00:00:09,530][onir_pt][DEBUG] \u001b[0m\u001b[37m[finished] batches: [238ms] [125it] [524.37it/s]\u001b[0m\n",
      "\u001b[02;37m[2021-11-21 00:00:09,628][onir_pt][DEBUG] \u001b[0m\u001b[37m[finished] validation [337ms]\u001b[0m\n",
      "\u001b[02;37m[2021-11-21 00:00:09,628][onir_pt][INFO] \u001b[0m\u001b[32mvalidation it=19 map=0.0097 ndcg=0.0204 P_10=0.0520\u001b[0m\n",
      "\u001b[02;37m[2021-11-21 00:00:09,629][onir_pt][DEBUG] \u001b[0m\u001b[37musing GPU (deterministic)\u001b[0m\n",
      "\u001b[02;37m[2021-11-21 00:00:09,629][onir_pt][DEBUG] \u001b[0m\u001b[37m[starting] training\u001b[0m\n",
      "\u001b[02;37m[2021-11-21 00:00:09,629][onir_pt][DEBUG] \u001b[0m\u001b[37m[starting] train pairs\u001b[0m\n"
     ]
    },
    {
     "data": {
      "application/vnd.jupyter.widget-view+json": {
       "model_id": "",
       "version_major": 2,
       "version_minor": 0
      },
      "text/plain": [
       "train pairs:   0%|          | 0/1024 [14ms<?, ?it/s]"
      ]
     },
     "metadata": {},
     "output_type": "display_data"
    },
    {
     "name": "stdout",
     "output_type": "stream",
     "text": [
      "\u001b[02;37m[2021-11-21 00:00:12,655][onir_pt][DEBUG] \u001b[0m\u001b[37m[finished] train pairs: [3.03s] [1024it] [338.43it/s]\u001b[0m\n",
      "\u001b[02;37m[2021-11-21 00:00:12,656][onir_pt][DEBUG] \u001b[0m\u001b[37m[finished] training [3.03s]\u001b[0m\n",
      "\u001b[02;37m[2021-11-21 00:00:12,657][onir_pt][INFO] \u001b[0m\u001b[32mtraining   it=20 loss=0.2185\u001b[0m\n",
      "\u001b[02;37m[2021-11-21 00:00:12,657][onir_pt][DEBUG] \u001b[0m\u001b[37m[starting] validation\u001b[0m\n",
      "\u001b[02;37m[2021-11-21 00:00:12,657][onir_pt][DEBUG] \u001b[0m\u001b[37musing GPU (deterministic)\u001b[0m\n",
      "\u001b[02;37m[2021-11-21 00:00:12,658][onir_pt][DEBUG] \u001b[0m\u001b[37m[starting] batches\u001b[0m\n"
     ]
    },
    {
     "data": {
      "application/vnd.jupyter.widget-view+json": {
       "model_id": "",
       "version_major": 2,
       "version_minor": 0
      },
      "text/plain": [
       "batches:   0%|          | 0/125 [14ms<?, ?it/s]"
      ]
     },
     "metadata": {},
     "output_type": "display_data"
    },
    {
     "name": "stdout",
     "output_type": "stream",
     "text": [
      "\u001b[02;37m[2021-11-21 00:00:12,928][onir_pt][DEBUG] \u001b[0m\u001b[37m[finished] batches: [270ms] [125it] [463.08it/s]\u001b[0m\n",
      "\u001b[02;37m[2021-11-21 00:00:13,025][onir_pt][DEBUG] \u001b[0m\u001b[37m[finished] validation [368ms]\u001b[0m\n",
      "\u001b[02;37m[2021-11-21 00:00:13,026][onir_pt][INFO] \u001b[0m\u001b[32mvalidation it=20 map=0.0096 ndcg=0.0202 P_10=0.0540\u001b[0m\n",
      "\u001b[02;37m[2021-11-21 00:00:13,026][onir_pt][DEBUG] \u001b[0m\u001b[37musing GPU (deterministic)\u001b[0m\n",
      "\u001b[02;37m[2021-11-21 00:00:13,026][onir_pt][DEBUG] \u001b[0m\u001b[37m[starting] training\u001b[0m\n",
      "\u001b[02;37m[2021-11-21 00:00:13,027][onir_pt][DEBUG] \u001b[0m\u001b[37m[starting] train pairs\u001b[0m\n"
     ]
    },
    {
     "data": {
      "application/vnd.jupyter.widget-view+json": {
       "model_id": "",
       "version_major": 2,
       "version_minor": 0
      },
      "text/plain": [
       "train pairs:   0%|          | 0/1024 [14ms<?, ?it/s]"
      ]
     },
     "metadata": {},
     "output_type": "display_data"
    },
    {
     "name": "stdout",
     "output_type": "stream",
     "text": [
      "\u001b[02;37m[2021-11-21 00:00:16,173][onir_pt][DEBUG] \u001b[0m\u001b[37m[finished] train pairs: [3.15s] [1024it] [325.49it/s]\u001b[0m\n",
      "\u001b[02;37m[2021-11-21 00:00:16,174][onir_pt][DEBUG] \u001b[0m\u001b[37m[finished] training [3.15s]\u001b[0m\n",
      "\u001b[02;37m[2021-11-21 00:00:16,174][onir_pt][INFO] \u001b[0m\u001b[32mtraining   it=21 loss=0.2225\u001b[0m\n",
      "\u001b[02;37m[2021-11-21 00:00:16,174][onir_pt][DEBUG] \u001b[0m\u001b[37m[starting] validation\u001b[0m\n",
      "\u001b[02;37m[2021-11-21 00:00:16,174][onir_pt][DEBUG] \u001b[0m\u001b[37musing GPU (deterministic)\u001b[0m\n",
      "\u001b[02;37m[2021-11-21 00:00:16,175][onir_pt][DEBUG] \u001b[0m\u001b[37m[starting] batches\u001b[0m\n"
     ]
    },
    {
     "data": {
      "application/vnd.jupyter.widget-view+json": {
       "model_id": "",
       "version_major": 2,
       "version_minor": 0
      },
      "text/plain": [
       "batches:   0%|          | 0/125 [14ms<?, ?it/s]"
      ]
     },
     "metadata": {},
     "output_type": "display_data"
    },
    {
     "name": "stdout",
     "output_type": "stream",
     "text": [
      "\u001b[02;37m[2021-11-21 00:00:16,415][onir_pt][DEBUG] \u001b[0m\u001b[37m[finished] batches: [240ms] [125it] [521.57it/s]\u001b[0m\n",
      "\u001b[02;37m[2021-11-21 00:00:16,515][onir_pt][DEBUG] \u001b[0m\u001b[37m[finished] validation [340ms]\u001b[0m\n",
      "\u001b[02;37m[2021-11-21 00:00:16,515][onir_pt][INFO] \u001b[0m\u001b[32mvalidation it=21 map=0.0097 ndcg=0.0203 P_10=0.0540\u001b[0m\n",
      "\u001b[02;37m[2021-11-21 00:00:16,515][onir_pt][DEBUG] \u001b[0m\u001b[37musing GPU (deterministic)\u001b[0m\n",
      "\u001b[02;37m[2021-11-21 00:00:16,516][onir_pt][DEBUG] \u001b[0m\u001b[37m[starting] training\u001b[0m\n",
      "\u001b[02;37m[2021-11-21 00:00:16,516][onir_pt][DEBUG] \u001b[0m\u001b[37m[starting] train pairs\u001b[0m\n"
     ]
    },
    {
     "data": {
      "application/vnd.jupyter.widget-view+json": {
       "model_id": "",
       "version_major": 2,
       "version_minor": 0
      },
      "text/plain": [
       "train pairs:   0%|          | 0/1024 [14ms<?, ?it/s]"
      ]
     },
     "metadata": {},
     "output_type": "display_data"
    },
    {
     "name": "stdout",
     "output_type": "stream",
     "text": [
      "\u001b[02;37m[2021-11-21 00:00:19,385][onir_pt][DEBUG] \u001b[0m\u001b[37m[finished] train pairs: [2.87s] [1024it] [356.89it/s]\u001b[0m\n",
      "\u001b[02;37m[2021-11-21 00:00:19,387][onir_pt][DEBUG] \u001b[0m\u001b[37m[finished] training [2.87s]\u001b[0m\n",
      "\u001b[02;37m[2021-11-21 00:00:19,387][onir_pt][INFO] \u001b[0m\u001b[32mtraining   it=22 loss=0.2243\u001b[0m\n",
      "\u001b[02;37m[2021-11-21 00:00:19,387][onir_pt][DEBUG] \u001b[0m\u001b[37m[starting] validation\u001b[0m\n",
      "\u001b[02;37m[2021-11-21 00:00:19,387][onir_pt][DEBUG] \u001b[0m\u001b[37musing GPU (deterministic)\u001b[0m\n",
      "\u001b[02;37m[2021-11-21 00:00:19,388][onir_pt][DEBUG] \u001b[0m\u001b[37m[starting] batches\u001b[0m\n"
     ]
    },
    {
     "data": {
      "application/vnd.jupyter.widget-view+json": {
       "model_id": "",
       "version_major": 2,
       "version_minor": 0
      },
      "text/plain": [
       "batches:   0%|          | 0/125 [14ms<?, ?it/s]"
      ]
     },
     "metadata": {},
     "output_type": "display_data"
    },
    {
     "name": "stdout",
     "output_type": "stream",
     "text": [
      "\u001b[02;37m[2021-11-21 00:00:19,628][onir_pt][DEBUG] \u001b[0m\u001b[37m[finished] batches: [240ms] [125it] [521.41it/s]\u001b[0m\n",
      "\u001b[02;37m[2021-11-21 00:00:19,725][onir_pt][DEBUG] \u001b[0m\u001b[37m[finished] validation [338ms]\u001b[0m\n",
      "\u001b[02;37m[2021-11-21 00:00:19,725][onir_pt][INFO] \u001b[0m\u001b[32mvalidation it=22 map=0.0097 ndcg=0.0203 P_10=0.0540\u001b[0m\n",
      "\u001b[02;37m[2021-11-21 00:00:19,726][onir_pt][DEBUG] \u001b[0m\u001b[37musing GPU (deterministic)\u001b[0m\n",
      "\u001b[02;37m[2021-11-21 00:00:19,726][onir_pt][DEBUG] \u001b[0m\u001b[37m[starting] training\u001b[0m\n",
      "\u001b[02;37m[2021-11-21 00:00:19,726][onir_pt][DEBUG] \u001b[0m\u001b[37m[starting] train pairs\u001b[0m\n"
     ]
    },
    {
     "data": {
      "application/vnd.jupyter.widget-view+json": {
       "model_id": "",
       "version_major": 2,
       "version_minor": 0
      },
      "text/plain": [
       "train pairs:   0%|          | 0/1024 [14ms<?, ?it/s]"
      ]
     },
     "metadata": {},
     "output_type": "display_data"
    },
    {
     "name": "stdout",
     "output_type": "stream",
     "text": [
      "\u001b[02;37m[2021-11-21 00:00:22,603][onir_pt][DEBUG] \u001b[0m\u001b[37m[finished] train pairs: [2.88s] [1024it] [355.98it/s]\u001b[0m\n",
      "\u001b[02;37m[2021-11-21 00:00:22,604][onir_pt][DEBUG] \u001b[0m\u001b[37m[finished] training [2.88s]\u001b[0m\n",
      "\u001b[02;37m[2021-11-21 00:00:22,604][onir_pt][INFO] \u001b[0m\u001b[32mtraining   it=23 loss=0.2260\u001b[0m\n",
      "\u001b[02;37m[2021-11-21 00:00:22,605][onir_pt][DEBUG] \u001b[0m\u001b[37m[starting] validation\u001b[0m\n",
      "\u001b[02;37m[2021-11-21 00:00:22,605][onir_pt][DEBUG] \u001b[0m\u001b[37musing GPU (deterministic)\u001b[0m\n",
      "\u001b[02;37m[2021-11-21 00:00:22,605][onir_pt][DEBUG] \u001b[0m\u001b[37m[starting] batches\u001b[0m\n"
     ]
    },
    {
     "data": {
      "application/vnd.jupyter.widget-view+json": {
       "model_id": "",
       "version_major": 2,
       "version_minor": 0
      },
      "text/plain": [
       "batches:   0%|          | 0/125 [14ms<?, ?it/s]"
      ]
     },
     "metadata": {},
     "output_type": "display_data"
    },
    {
     "name": "stdout",
     "output_type": "stream",
     "text": [
      "\u001b[02;37m[2021-11-21 00:00:22,845][onir_pt][DEBUG] \u001b[0m\u001b[37m[finished] batches: [239ms] [125it] [522.77it/s]\u001b[0m\n",
      "\u001b[02;37m[2021-11-21 00:00:22,946][onir_pt][DEBUG] \u001b[0m\u001b[37m[finished] validation [342ms]\u001b[0m\n",
      "\u001b[02;37m[2021-11-21 00:00:22,947][onir_pt][INFO] \u001b[0m\u001b[32mvalidation it=23 map=0.0096 ndcg=0.0202 P_10=0.0500\u001b[0m\n",
      "\u001b[02;37m[2021-11-21 00:00:22,947][onir_pt][DEBUG] \u001b[0m\u001b[37musing GPU (deterministic)\u001b[0m\n",
      "\u001b[02;37m[2021-11-21 00:00:22,947][onir_pt][DEBUG] \u001b[0m\u001b[37m[starting] training\u001b[0m\n",
      "\u001b[02;37m[2021-11-21 00:00:22,948][onir_pt][DEBUG] \u001b[0m\u001b[37m[starting] train pairs\u001b[0m\n"
     ]
    },
    {
     "data": {
      "application/vnd.jupyter.widget-view+json": {
       "model_id": "",
       "version_major": 2,
       "version_minor": 0
      },
      "text/plain": [
       "train pairs:   0%|          | 0/1024 [14ms<?, ?it/s]"
      ]
     },
     "metadata": {},
     "output_type": "display_data"
    },
    {
     "name": "stdout",
     "output_type": "stream",
     "text": [
      "\u001b[02;37m[2021-11-21 00:00:25,835][onir_pt][DEBUG] \u001b[0m\u001b[37m[finished] train pairs: [2.89s] [1024it] [354.70it/s]\u001b[0m\n",
      "\u001b[02;37m[2021-11-21 00:00:25,836][onir_pt][DEBUG] \u001b[0m\u001b[37m[finished] training [2.89s]\u001b[0m\n",
      "\u001b[02;37m[2021-11-21 00:00:25,837][onir_pt][INFO] \u001b[0m\u001b[32mtraining   it=24 loss=0.2235\u001b[0m\n",
      "\u001b[02;37m[2021-11-21 00:00:25,837][onir_pt][DEBUG] \u001b[0m\u001b[37m[starting] validation\u001b[0m\n",
      "\u001b[02;37m[2021-11-21 00:00:25,837][onir_pt][DEBUG] \u001b[0m\u001b[37musing GPU (deterministic)\u001b[0m\n",
      "\u001b[02;37m[2021-11-21 00:00:25,837][onir_pt][DEBUG] \u001b[0m\u001b[37m[starting] batches\u001b[0m\n"
     ]
    },
    {
     "data": {
      "application/vnd.jupyter.widget-view+json": {
       "model_id": "",
       "version_major": 2,
       "version_minor": 0
      },
      "text/plain": [
       "batches:   0%|          | 0/125 [14ms<?, ?it/s]"
      ]
     },
     "metadata": {},
     "output_type": "display_data"
    },
    {
     "name": "stdout",
     "output_type": "stream",
     "text": [
      "\u001b[02;37m[2021-11-21 00:00:26,076][onir_pt][DEBUG] \u001b[0m\u001b[37m[finished] batches: [238ms] [125it] [525.05it/s]\u001b[0m\n",
      "\u001b[02;37m[2021-11-21 00:00:26,174][onir_pt][DEBUG] \u001b[0m\u001b[37m[finished] validation [337ms]\u001b[0m\n",
      "\u001b[02;37m[2021-11-21 00:00:26,174][onir_pt][INFO] \u001b[0m\u001b[32mvalidation it=24 map=0.0098 ndcg=0.0204 P_10=0.0520\u001b[0m\n",
      "\u001b[02;37m[2021-11-21 00:00:26,174][onir_pt][DEBUG] \u001b[0m\u001b[37musing GPU (deterministic)\u001b[0m\n",
      "\u001b[02;37m[2021-11-21 00:00:26,175][onir_pt][DEBUG] \u001b[0m\u001b[37m[starting] training\u001b[0m\n",
      "\u001b[02;37m[2021-11-21 00:00:26,175][onir_pt][DEBUG] \u001b[0m\u001b[37m[starting] train pairs\u001b[0m\n"
     ]
    },
    {
     "data": {
      "application/vnd.jupyter.widget-view+json": {
       "model_id": "",
       "version_major": 2,
       "version_minor": 0
      },
      "text/plain": [
       "train pairs:   0%|          | 0/1024 [14ms<?, ?it/s]"
      ]
     },
     "metadata": {},
     "output_type": "display_data"
    },
    {
     "name": "stdout",
     "output_type": "stream",
     "text": [
      "\u001b[02;37m[2021-11-21 00:00:29,058][onir_pt][DEBUG] \u001b[0m\u001b[37m[finished] train pairs: [2.88s] [1024it] [355.18it/s]\u001b[0m\n",
      "\u001b[02;37m[2021-11-21 00:00:29,060][onir_pt][DEBUG] \u001b[0m\u001b[37m[finished] training [2.89s]\u001b[0m\n",
      "\u001b[02;37m[2021-11-21 00:00:29,060][onir_pt][INFO] \u001b[0m\u001b[32mtraining   it=25 loss=0.2287\u001b[0m\n",
      "\u001b[02;37m[2021-11-21 00:00:29,060][onir_pt][DEBUG] \u001b[0m\u001b[37m[starting] validation\u001b[0m\n",
      "\u001b[02;37m[2021-11-21 00:00:29,060][onir_pt][DEBUG] \u001b[0m\u001b[37musing GPU (deterministic)\u001b[0m\n",
      "\u001b[02;37m[2021-11-21 00:00:29,061][onir_pt][DEBUG] \u001b[0m\u001b[37m[starting] batches\u001b[0m\n"
     ]
    },
    {
     "data": {
      "application/vnd.jupyter.widget-view+json": {
       "model_id": "",
       "version_major": 2,
       "version_minor": 0
      },
      "text/plain": [
       "batches:   0%|          | 0/125 [14ms<?, ?it/s]"
      ]
     },
     "metadata": {},
     "output_type": "display_data"
    },
    {
     "name": "stdout",
     "output_type": "stream",
     "text": [
      "\u001b[02;37m[2021-11-21 00:00:29,304][onir_pt][DEBUG] \u001b[0m\u001b[37m[finished] batches: [242ms] [125it] [516.48it/s]\u001b[0m\n",
      "\u001b[02;37m[2021-11-21 00:00:29,406][onir_pt][DEBUG] \u001b[0m\u001b[37m[finished] validation [346ms]\u001b[0m\n",
      "\u001b[02;37m[2021-11-21 00:00:29,406][onir_pt][INFO] \u001b[0m\u001b[32mvalidation it=25 map=0.0098 ndcg=0.0206 P_10=0.0540\u001b[0m\n",
      "\u001b[02;37m[2021-11-21 00:00:29,407][onir_pt][DEBUG] \u001b[0m\u001b[37musing GPU (deterministic)\u001b[0m\n",
      "\u001b[02;37m[2021-11-21 00:00:29,407][onir_pt][DEBUG] \u001b[0m\u001b[37m[starting] training\u001b[0m\n",
      "\u001b[02;37m[2021-11-21 00:00:29,407][onir_pt][DEBUG] \u001b[0m\u001b[37m[starting] train pairs\u001b[0m\n"
     ]
    },
    {
     "data": {
      "application/vnd.jupyter.widget-view+json": {
       "model_id": "",
       "version_major": 2,
       "version_minor": 0
      },
      "text/plain": [
       "train pairs:   0%|          | 0/1024 [14ms<?, ?it/s]"
      ]
     },
     "metadata": {},
     "output_type": "display_data"
    },
    {
     "name": "stdout",
     "output_type": "stream",
     "text": [
      "\u001b[02;37m[2021-11-21 00:00:32,345][onir_pt][DEBUG] \u001b[0m\u001b[37m[finished] train pairs: [2.94s] [1024it] [348.58it/s]\u001b[0m\n",
      "\u001b[02;37m[2021-11-21 00:00:32,346][onir_pt][DEBUG] \u001b[0m\u001b[37m[finished] training [2.94s]\u001b[0m\n",
      "\u001b[02;37m[2021-11-21 00:00:32,346][onir_pt][INFO] \u001b[0m\u001b[32mtraining   it=26 loss=0.2284\u001b[0m\n",
      "\u001b[02;37m[2021-11-21 00:00:32,347][onir_pt][DEBUG] \u001b[0m\u001b[37m[starting] validation\u001b[0m\n",
      "\u001b[02;37m[2021-11-21 00:00:32,347][onir_pt][DEBUG] \u001b[0m\u001b[37musing GPU (deterministic)\u001b[0m\n",
      "\u001b[02;37m[2021-11-21 00:00:32,347][onir_pt][DEBUG] \u001b[0m\u001b[37m[starting] batches\u001b[0m\n"
     ]
    },
    {
     "data": {
      "application/vnd.jupyter.widget-view+json": {
       "model_id": "",
       "version_major": 2,
       "version_minor": 0
      },
      "text/plain": [
       "batches:   0%|          | 0/125 [14ms<?, ?it/s]"
      ]
     },
     "metadata": {},
     "output_type": "display_data"
    },
    {
     "name": "stdout",
     "output_type": "stream",
     "text": [
      "\u001b[02;37m[2021-11-21 00:00:32,585][onir_pt][DEBUG] \u001b[0m\u001b[37m[finished] batches: [238ms] [125it] [526.22it/s]\u001b[0m\n",
      "\u001b[02;37m[2021-11-21 00:00:32,683][onir_pt][DEBUG] \u001b[0m\u001b[37m[finished] validation [337ms]\u001b[0m\n",
      "\u001b[02;37m[2021-11-21 00:00:32,684][onir_pt][INFO] \u001b[0m\u001b[32mvalidation it=26 map=0.0098 ndcg=0.0205 P_10=0.0560\u001b[0m\n",
      "\u001b[02;37m[2021-11-21 00:00:32,684][onir_pt][DEBUG] \u001b[0m\u001b[37musing GPU (deterministic)\u001b[0m\n",
      "\u001b[02;37m[2021-11-21 00:00:32,685][onir_pt][DEBUG] \u001b[0m\u001b[37m[starting] training\u001b[0m\n",
      "\u001b[02;37m[2021-11-21 00:00:32,685][onir_pt][DEBUG] \u001b[0m\u001b[37m[starting] train pairs\u001b[0m\n"
     ]
    },
    {
     "data": {
      "application/vnd.jupyter.widget-view+json": {
       "model_id": "",
       "version_major": 2,
       "version_minor": 0
      },
      "text/plain": [
       "train pairs:   0%|          | 0/1024 [14ms<?, ?it/s]"
      ]
     },
     "metadata": {},
     "output_type": "display_data"
    },
    {
     "name": "stdout",
     "output_type": "stream",
     "text": [
      "\u001b[02;37m[2021-11-21 00:00:35,574][onir_pt][DEBUG] \u001b[0m\u001b[37m[finished] train pairs: [2.89s] [1024it] [354.50it/s]\u001b[0m\n",
      "\u001b[02;37m[2021-11-21 00:00:35,575][onir_pt][DEBUG] \u001b[0m\u001b[37m[finished] training [2.89s]\u001b[0m\n",
      "\u001b[02;37m[2021-11-21 00:00:35,575][onir_pt][INFO] \u001b[0m\u001b[32mtraining   it=27 loss=0.2187\u001b[0m\n",
      "\u001b[02;37m[2021-11-21 00:00:35,575][onir_pt][DEBUG] \u001b[0m\u001b[37m[starting] validation\u001b[0m\n",
      "\u001b[02;37m[2021-11-21 00:00:35,575][onir_pt][DEBUG] \u001b[0m\u001b[37musing GPU (deterministic)\u001b[0m\n",
      "\u001b[02;37m[2021-11-21 00:00:35,576][onir_pt][DEBUG] \u001b[0m\u001b[37m[starting] batches\u001b[0m\n"
     ]
    },
    {
     "data": {
      "application/vnd.jupyter.widget-view+json": {
       "model_id": "",
       "version_major": 2,
       "version_minor": 0
      },
      "text/plain": [
       "batches:   0%|          | 0/125 [14ms<?, ?it/s]"
      ]
     },
     "metadata": {},
     "output_type": "display_data"
    },
    {
     "name": "stdout",
     "output_type": "stream",
     "text": [
      "\u001b[02;37m[2021-11-21 00:00:35,816][onir_pt][DEBUG] \u001b[0m\u001b[37m[finished] batches: [239ms] [125it] [523.11it/s]\u001b[0m\n",
      "\u001b[02;37m[2021-11-21 00:00:35,914][onir_pt][DEBUG] \u001b[0m\u001b[37m[finished] validation [339ms]\u001b[0m\n",
      "\u001b[02;37m[2021-11-21 00:00:35,914][onir_pt][INFO] \u001b[0m\u001b[32mvalidation it=27 map=0.0098 ndcg=0.0206 P_10=0.0580\u001b[0m\n",
      "\u001b[02;37m[2021-11-21 00:00:35,915][onir_pt][INFO] \u001b[0m\u001b[32mearly stopping; model reverting back to it=7\u001b[0m\n"
     ]
    }
   ],
   "source": [
    "# TODO\n",
    "from sklearn.model_selection import train_test_split\n",
    "\n",
    "# cord19 has been loaded above\n",
    "topics = cord19.get_topics(variant='title')\n",
    "\n",
    "SEED=42\n",
    "tr_va_topics, test_topics = train_test_split(topics, test_size=15, random_state=SEED)\n",
    "train_topics, valid_topics =  train_test_split(tr_va_topics, test_size=5, random_state=SEED)\n",
    "\n",
    "knrm = onir_pt.reranker('knrm', 'wordvec_hash', text_field='abstract')\n",
    "\n",
    "br = pt.BatchRetrieve(index) % 100\n",
    "\n",
    "pipeline = (br >> pt.text.get_text(cord19, 'abstract') \n",
    "            >> knrm) \n",
    "\n",
    "pipeline.fit(\n",
    "    train_topics,\n",
    "    cord19.get_qrels(),\n",
    "    valid_topics,\n",
    "    cord19.get_qrels())"
   ]
  },
  {
   "cell_type": "code",
   "execution_count": 25,
   "metadata": {},
   "outputs": [
    {
     "name": "stdout",
     "output_type": "stream",
     "text": [
      "\u001b[02;37m[2021-11-21 00:17:11,497][onir_pt][DEBUG] \u001b[0m\u001b[37m[starting] validation\u001b[0m\n",
      "\u001b[02;37m[2021-11-21 00:17:11,497][onir_pt][DEBUG] \u001b[0m\u001b[37musing GPU (deterministic)\u001b[0m\n",
      "\u001b[02;37m[2021-11-21 00:17:11,498][onir_pt][DEBUG] \u001b[0m\u001b[37m[starting] batches\u001b[0m\n"
     ]
    },
    {
     "data": {
      "application/vnd.jupyter.widget-view+json": {
       "model_id": "",
       "version_major": 2,
       "version_minor": 0
      },
      "text/plain": [
       "batches:   0%|          | 0/125 [14ms<?, ?it/s]"
      ]
     },
     "metadata": {},
     "output_type": "display_data"
    },
    {
     "name": "stdout",
     "output_type": "stream",
     "text": [
      "\u001b[02;37m[2021-11-21 00:17:11,756][onir_pt][DEBUG] \u001b[0m\u001b[37m[finished] batches: [258ms] [125it] [483.85it/s]\u001b[0m\n",
      "\u001b[02;37m[2021-11-21 00:17:11,862][onir_pt][DEBUG] \u001b[0m\u001b[37m[finished] validation [365ms]\u001b[0m\n",
      "\u001b[02;37m[2021-11-21 00:17:11,862][onir_pt][INFO] \u001b[0m\u001b[32mpre-validation: 0.0114\u001b[0m\n",
      "\u001b[02;37m[2021-11-21 00:17:11,864][onir_pt][DEBUG] \u001b[0m\u001b[37musing GPU (deterministic)\u001b[0m\n",
      "\u001b[02;37m[2021-11-21 00:17:11,864][onir_pt][DEBUG] \u001b[0m\u001b[37m[starting] training\u001b[0m\n",
      "\u001b[02;37m[2021-11-21 00:17:11,864][onir_pt][DEBUG] \u001b[0m\u001b[37m[starting] train pairs\u001b[0m\n"
     ]
    },
    {
     "data": {
      "application/vnd.jupyter.widget-view+json": {
       "model_id": "",
       "version_major": 2,
       "version_minor": 0
      },
      "text/plain": [
       "train pairs:   0%|          | 0/1024 [15ms<?, ?it/s]"
      ]
     },
     "metadata": {},
     "output_type": "display_data"
    },
    {
     "name": "stdout",
     "output_type": "stream",
     "text": [
      "\u001b[02;37m[2021-11-21 00:17:14,798][onir_pt][DEBUG] \u001b[0m\u001b[37m[finished] train pairs: [2.93s] [1024it] [349.07it/s]\u001b[0m\n",
      "\u001b[02;37m[2021-11-21 00:17:14,799][onir_pt][DEBUG] \u001b[0m\u001b[37m[finished] training [2.94s]\u001b[0m\n",
      "\u001b[02;37m[2021-11-21 00:17:14,799][onir_pt][INFO] \u001b[0m\u001b[32mtraining   it=0 loss=0.1666\u001b[0m\n",
      "\u001b[02;37m[2021-11-21 00:17:14,799][onir_pt][DEBUG] \u001b[0m\u001b[37m[starting] validation\u001b[0m\n",
      "\u001b[02;37m[2021-11-21 00:17:14,800][onir_pt][DEBUG] \u001b[0m\u001b[37musing GPU (deterministic)\u001b[0m\n",
      "\u001b[02;37m[2021-11-21 00:17:14,800][onir_pt][DEBUG] \u001b[0m\u001b[37m[starting] batches\u001b[0m\n"
     ]
    },
    {
     "data": {
      "application/vnd.jupyter.widget-view+json": {
       "model_id": "",
       "version_major": 2,
       "version_minor": 0
      },
      "text/plain": [
       "batches:   0%|          | 0/125 [14ms<?, ?it/s]"
      ]
     },
     "metadata": {},
     "output_type": "display_data"
    },
    {
     "name": "stdout",
     "output_type": "stream",
     "text": [
      "\u001b[02;37m[2021-11-21 00:17:15,025][onir_pt][DEBUG] \u001b[0m\u001b[37m[finished] batches: [224ms] [125it] [556.89it/s]\u001b[0m\n",
      "\u001b[02;37m[2021-11-21 00:17:15,126][onir_pt][DEBUG] \u001b[0m\u001b[37m[finished] validation [326ms]\u001b[0m\n",
      "\u001b[02;37m[2021-11-21 00:17:15,126][onir_pt][INFO] \u001b[0m\u001b[32mvalidation it=0 map=0.0112 ndcg=0.0221 P_10=0.0660\u001b[0m\n",
      "\u001b[02;37m[2021-11-21 00:17:15,127][onir_pt][DEBUG] \u001b[0m\u001b[37musing GPU (deterministic)\u001b[0m\n",
      "\u001b[02;37m[2021-11-21 00:17:15,127][onir_pt][DEBUG] \u001b[0m\u001b[37m[starting] training\u001b[0m\n",
      "\u001b[02;37m[2021-11-21 00:17:15,127][onir_pt][DEBUG] \u001b[0m\u001b[37m[starting] train pairs\u001b[0m\n"
     ]
    },
    {
     "data": {
      "application/vnd.jupyter.widget-view+json": {
       "model_id": "",
       "version_major": 2,
       "version_minor": 0
      },
      "text/plain": [
       "train pairs:   0%|          | 0/1024 [14ms<?, ?it/s]"
      ]
     },
     "metadata": {},
     "output_type": "display_data"
    },
    {
     "name": "stdout",
     "output_type": "stream",
     "text": [
      "\u001b[02;37m[2021-11-21 00:17:17,970][onir_pt][DEBUG] \u001b[0m\u001b[37m[finished] train pairs: [2.84s] [1024it] [360.30it/s]\u001b[0m\n",
      "\u001b[02;37m[2021-11-21 00:17:17,971][onir_pt][DEBUG] \u001b[0m\u001b[37m[finished] training [2.84s]\u001b[0m\n",
      "\u001b[02;37m[2021-11-21 00:17:17,971][onir_pt][INFO] \u001b[0m\u001b[32mtraining   it=1 loss=0.1688\u001b[0m\n",
      "\u001b[02;37m[2021-11-21 00:17:17,972][onir_pt][DEBUG] \u001b[0m\u001b[37m[starting] validation\u001b[0m\n",
      "\u001b[02;37m[2021-11-21 00:17:17,972][onir_pt][DEBUG] \u001b[0m\u001b[37musing GPU (deterministic)\u001b[0m\n",
      "\u001b[02;37m[2021-11-21 00:17:17,972][onir_pt][DEBUG] \u001b[0m\u001b[37m[starting] batches\u001b[0m\n"
     ]
    },
    {
     "data": {
      "application/vnd.jupyter.widget-view+json": {
       "model_id": "",
       "version_major": 2,
       "version_minor": 0
      },
      "text/plain": [
       "batches:   0%|          | 0/125 [14ms<?, ?it/s]"
      ]
     },
     "metadata": {},
     "output_type": "display_data"
    },
    {
     "name": "stdout",
     "output_type": "stream",
     "text": [
      "\u001b[02;37m[2021-11-21 00:17:18,198][onir_pt][DEBUG] \u001b[0m\u001b[37m[finished] batches: [225ms] [125it] [555.15it/s]\u001b[0m\n",
      "\u001b[02;37m[2021-11-21 00:17:18,299][onir_pt][DEBUG] \u001b[0m\u001b[37m[finished] validation [328ms]\u001b[0m\n",
      "\u001b[02;37m[2021-11-21 00:17:18,301][onir_pt][INFO] \u001b[0m\u001b[32mvalidation it=1 map=0.0114 ndcg=0.0225 P_10=0.0680 <--\u001b[0m\n",
      "\u001b[02;37m[2021-11-21 00:17:18,301][onir_pt][DEBUG] \u001b[0m\u001b[37musing GPU (deterministic)\u001b[0m\n",
      "\u001b[02;37m[2021-11-21 00:17:18,301][onir_pt][DEBUG] \u001b[0m\u001b[37m[starting] training\u001b[0m\n",
      "\u001b[02;37m[2021-11-21 00:17:18,302][onir_pt][DEBUG] \u001b[0m\u001b[37m[starting] train pairs\u001b[0m\n"
     ]
    },
    {
     "data": {
      "application/vnd.jupyter.widget-view+json": {
       "model_id": "",
       "version_major": 2,
       "version_minor": 0
      },
      "text/plain": [
       "train pairs:   0%|          | 0/1024 [14ms<?, ?it/s]"
      ]
     },
     "metadata": {},
     "output_type": "display_data"
    },
    {
     "name": "stdout",
     "output_type": "stream",
     "text": [
      "\u001b[02;37m[2021-11-21 00:17:21,180][onir_pt][DEBUG] \u001b[0m\u001b[37m[finished] train pairs: [2.88s] [1024it] [355.80it/s]\u001b[0m\n",
      "\u001b[02;37m[2021-11-21 00:17:21,181][onir_pt][DEBUG] \u001b[0m\u001b[37m[finished] training [2.88s]\u001b[0m\n",
      "\u001b[02;37m[2021-11-21 00:17:21,181][onir_pt][INFO] \u001b[0m\u001b[32mtraining   it=2 loss=0.1729\u001b[0m\n",
      "\u001b[02;37m[2021-11-21 00:17:21,182][onir_pt][DEBUG] \u001b[0m\u001b[37m[starting] validation\u001b[0m\n",
      "\u001b[02;37m[2021-11-21 00:17:21,182][onir_pt][DEBUG] \u001b[0m\u001b[37musing GPU (deterministic)\u001b[0m\n",
      "\u001b[02;37m[2021-11-21 00:17:21,183][onir_pt][DEBUG] \u001b[0m\u001b[37m[starting] batches\u001b[0m\n"
     ]
    },
    {
     "data": {
      "application/vnd.jupyter.widget-view+json": {
       "model_id": "",
       "version_major": 2,
       "version_minor": 0
      },
      "text/plain": [
       "batches:   0%|          | 0/125 [14ms<?, ?it/s]"
      ]
     },
     "metadata": {},
     "output_type": "display_data"
    },
    {
     "name": "stdout",
     "output_type": "stream",
     "text": [
      "\u001b[02;37m[2021-11-21 00:17:21,411][onir_pt][DEBUG] \u001b[0m\u001b[37m[finished] batches: [228ms] [125it] [548.05it/s]\u001b[0m\n",
      "\u001b[02;37m[2021-11-21 00:17:21,513][onir_pt][DEBUG] \u001b[0m\u001b[37m[finished] validation [331ms]\u001b[0m\n",
      "\u001b[02;37m[2021-11-21 00:17:21,514][onir_pt][INFO] \u001b[0m\u001b[32mvalidation it=2 map=0.0115 ndcg=0.0225 P_10=0.0700 <--\u001b[0m\n",
      "\u001b[02;37m[2021-11-21 00:17:21,514][onir_pt][DEBUG] \u001b[0m\u001b[37musing GPU (deterministic)\u001b[0m\n",
      "\u001b[02;37m[2021-11-21 00:17:21,515][onir_pt][DEBUG] \u001b[0m\u001b[37m[starting] training\u001b[0m\n",
      "\u001b[02;37m[2021-11-21 00:17:21,515][onir_pt][DEBUG] \u001b[0m\u001b[37m[starting] train pairs\u001b[0m\n"
     ]
    },
    {
     "data": {
      "application/vnd.jupyter.widget-view+json": {
       "model_id": "",
       "version_major": 2,
       "version_minor": 0
      },
      "text/plain": [
       "train pairs:   0%|          | 0/1024 [14ms<?, ?it/s]"
      ]
     },
     "metadata": {},
     "output_type": "display_data"
    },
    {
     "name": "stdout",
     "output_type": "stream",
     "text": [
      "\u001b[02;37m[2021-11-21 00:17:24,359][onir_pt][DEBUG] \u001b[0m\u001b[37m[finished] train pairs: [2.84s] [1024it] [360.07it/s]\u001b[0m\n",
      "\u001b[02;37m[2021-11-21 00:17:24,360][onir_pt][DEBUG] \u001b[0m\u001b[37m[finished] training [2.85s]\u001b[0m\n",
      "\u001b[02;37m[2021-11-21 00:17:24,361][onir_pt][INFO] \u001b[0m\u001b[32mtraining   it=3 loss=0.1723\u001b[0m\n",
      "\u001b[02;37m[2021-11-21 00:17:24,361][onir_pt][DEBUG] \u001b[0m\u001b[37m[starting] validation\u001b[0m\n",
      "\u001b[02;37m[2021-11-21 00:17:24,361][onir_pt][DEBUG] \u001b[0m\u001b[37musing GPU (deterministic)\u001b[0m\n",
      "\u001b[02;37m[2021-11-21 00:17:24,362][onir_pt][DEBUG] \u001b[0m\u001b[37m[starting] batches\u001b[0m\n"
     ]
    },
    {
     "data": {
      "application/vnd.jupyter.widget-view+json": {
       "model_id": "",
       "version_major": 2,
       "version_minor": 0
      },
      "text/plain": [
       "batches:   0%|          | 0/125 [14ms<?, ?it/s]"
      ]
     },
     "metadata": {},
     "output_type": "display_data"
    },
    {
     "name": "stdout",
     "output_type": "stream",
     "text": [
      "\u001b[02;37m[2021-11-21 00:17:24,590][onir_pt][DEBUG] \u001b[0m\u001b[37m[finished] batches: [228ms] [125it] [548.19it/s]\u001b[0m\n",
      "\u001b[02;37m[2021-11-21 00:17:24,695][onir_pt][DEBUG] \u001b[0m\u001b[37m[finished] validation [335ms]\u001b[0m\n",
      "\u001b[02;37m[2021-11-21 00:17:24,696][onir_pt][INFO] \u001b[0m\u001b[32mvalidation it=3 map=0.0114 ndcg=0.0224 P_10=0.0720\u001b[0m\n",
      "\u001b[02;37m[2021-11-21 00:17:24,696][onir_pt][DEBUG] \u001b[0m\u001b[37musing GPU (deterministic)\u001b[0m\n",
      "\u001b[02;37m[2021-11-21 00:17:24,696][onir_pt][DEBUG] \u001b[0m\u001b[37m[starting] training\u001b[0m\n",
      "\u001b[02;37m[2021-11-21 00:17:24,697][onir_pt][DEBUG] \u001b[0m\u001b[37m[starting] train pairs\u001b[0m\n"
     ]
    },
    {
     "data": {
      "application/vnd.jupyter.widget-view+json": {
       "model_id": "",
       "version_major": 2,
       "version_minor": 0
      },
      "text/plain": [
       "train pairs:   0%|          | 0/1024 [14ms<?, ?it/s]"
      ]
     },
     "metadata": {},
     "output_type": "display_data"
    },
    {
     "name": "stdout",
     "output_type": "stream",
     "text": [
      "\u001b[02;37m[2021-11-21 00:17:27,703][onir_pt][DEBUG] \u001b[0m\u001b[37m[finished] train pairs: [3.01s] [1024it] [340.66it/s]\u001b[0m\n",
      "\u001b[02;37m[2021-11-21 00:17:27,704][onir_pt][DEBUG] \u001b[0m\u001b[37m[finished] training [3.01s]\u001b[0m\n",
      "\u001b[02;37m[2021-11-21 00:17:27,704][onir_pt][INFO] \u001b[0m\u001b[32mtraining   it=4 loss=0.1648\u001b[0m\n",
      "\u001b[02;37m[2021-11-21 00:17:27,705][onir_pt][DEBUG] \u001b[0m\u001b[37m[starting] validation\u001b[0m\n",
      "\u001b[02;37m[2021-11-21 00:17:27,705][onir_pt][DEBUG] \u001b[0m\u001b[37musing GPU (deterministic)\u001b[0m\n",
      "\u001b[02;37m[2021-11-21 00:17:27,705][onir_pt][DEBUG] \u001b[0m\u001b[37m[starting] batches\u001b[0m\n"
     ]
    },
    {
     "data": {
      "application/vnd.jupyter.widget-view+json": {
       "model_id": "",
       "version_major": 2,
       "version_minor": 0
      },
      "text/plain": [
       "batches:   0%|          | 0/125 [14ms<?, ?it/s]"
      ]
     },
     "metadata": {},
     "output_type": "display_data"
    },
    {
     "name": "stdout",
     "output_type": "stream",
     "text": [
      "\u001b[02;37m[2021-11-21 00:17:27,934][onir_pt][DEBUG] \u001b[0m\u001b[37m[finished] batches: [228ms] [125it] [547.22it/s]\u001b[0m\n",
      "\u001b[02;37m[2021-11-21 00:17:28,037][onir_pt][DEBUG] \u001b[0m\u001b[37m[finished] validation [332ms]\u001b[0m\n",
      "\u001b[02;37m[2021-11-21 00:17:28,038][onir_pt][INFO] \u001b[0m\u001b[32mvalidation it=4 map=0.0115 ndcg=0.0227 P_10=0.0720 <--\u001b[0m\n",
      "\u001b[02;37m[2021-11-21 00:17:28,038][onir_pt][DEBUG] \u001b[0m\u001b[37musing GPU (deterministic)\u001b[0m\n",
      "\u001b[02;37m[2021-11-21 00:17:28,039][onir_pt][DEBUG] \u001b[0m\u001b[37m[starting] training\u001b[0m\n",
      "\u001b[02;37m[2021-11-21 00:17:28,039][onir_pt][DEBUG] \u001b[0m\u001b[37m[starting] train pairs\u001b[0m\n"
     ]
    },
    {
     "data": {
      "application/vnd.jupyter.widget-view+json": {
       "model_id": "",
       "version_major": 2,
       "version_minor": 0
      },
      "text/plain": [
       "train pairs:   0%|          | 0/1024 [14ms<?, ?it/s]"
      ]
     },
     "metadata": {},
     "output_type": "display_data"
    },
    {
     "name": "stdout",
     "output_type": "stream",
     "text": [
      "\u001b[02;37m[2021-11-21 00:17:30,991][onir_pt][DEBUG] \u001b[0m\u001b[37m[finished] train pairs: [2.95s] [1024it] [346.91it/s]\u001b[0m\n",
      "\u001b[02;37m[2021-11-21 00:17:30,993][onir_pt][DEBUG] \u001b[0m\u001b[37m[finished] training [2.95s]\u001b[0m\n",
      "\u001b[02;37m[2021-11-21 00:17:30,993][onir_pt][INFO] \u001b[0m\u001b[32mtraining   it=5 loss=0.1812\u001b[0m\n",
      "\u001b[02;37m[2021-11-21 00:17:30,993][onir_pt][DEBUG] \u001b[0m\u001b[37m[starting] validation\u001b[0m\n",
      "\u001b[02;37m[2021-11-21 00:17:30,993][onir_pt][DEBUG] \u001b[0m\u001b[37musing GPU (deterministic)\u001b[0m\n",
      "\u001b[02;37m[2021-11-21 00:17:30,994][onir_pt][DEBUG] \u001b[0m\u001b[37m[starting] batches\u001b[0m\n"
     ]
    },
    {
     "data": {
      "application/vnd.jupyter.widget-view+json": {
       "model_id": "",
       "version_major": 2,
       "version_minor": 0
      },
      "text/plain": [
       "batches:   0%|          | 0/125 [14ms<?, ?it/s]"
      ]
     },
     "metadata": {},
     "output_type": "display_data"
    },
    {
     "name": "stdout",
     "output_type": "stream",
     "text": [
      "\u001b[02;37m[2021-11-21 00:17:31,220][onir_pt][DEBUG] \u001b[0m\u001b[37m[finished] batches: [226ms] [125it] [552.51it/s]\u001b[0m\n",
      "\u001b[02;37m[2021-11-21 00:17:31,320][onir_pt][DEBUG] \u001b[0m\u001b[37m[finished] validation [327ms]\u001b[0m\n",
      "\u001b[02;37m[2021-11-21 00:17:31,321][onir_pt][INFO] \u001b[0m\u001b[32mvalidation it=5 map=0.0114 ndcg=0.0225 P_10=0.0720\u001b[0m\n",
      "\u001b[02;37m[2021-11-21 00:17:31,321][onir_pt][DEBUG] \u001b[0m\u001b[37musing GPU (deterministic)\u001b[0m\n",
      "\u001b[02;37m[2021-11-21 00:17:31,321][onir_pt][DEBUG] \u001b[0m\u001b[37m[starting] training\u001b[0m\n",
      "\u001b[02;37m[2021-11-21 00:17:31,322][onir_pt][DEBUG] \u001b[0m\u001b[37m[starting] train pairs\u001b[0m\n"
     ]
    },
    {
     "data": {
      "application/vnd.jupyter.widget-view+json": {
       "model_id": "",
       "version_major": 2,
       "version_minor": 0
      },
      "text/plain": [
       "train pairs:   0%|          | 0/1024 [14ms<?, ?it/s]"
      ]
     },
     "metadata": {},
     "output_type": "display_data"
    },
    {
     "name": "stdout",
     "output_type": "stream",
     "text": [
      "\u001b[02;37m[2021-11-21 00:17:34,139][onir_pt][DEBUG] \u001b[0m\u001b[37m[finished] train pairs: [2.82s] [1024it] [363.46it/s]\u001b[0m\n",
      "\u001b[02;37m[2021-11-21 00:17:34,140][onir_pt][DEBUG] \u001b[0m\u001b[37m[finished] training [2.82s]\u001b[0m\n",
      "\u001b[02;37m[2021-11-21 00:17:34,141][onir_pt][INFO] \u001b[0m\u001b[32mtraining   it=6 loss=0.1695\u001b[0m\n",
      "\u001b[02;37m[2021-11-21 00:17:34,141][onir_pt][DEBUG] \u001b[0m\u001b[37m[starting] validation\u001b[0m\n",
      "\u001b[02;37m[2021-11-21 00:17:34,141][onir_pt][DEBUG] \u001b[0m\u001b[37musing GPU (deterministic)\u001b[0m\n",
      "\u001b[02;37m[2021-11-21 00:17:34,142][onir_pt][DEBUG] \u001b[0m\u001b[37m[starting] batches\u001b[0m\n"
     ]
    },
    {
     "data": {
      "application/vnd.jupyter.widget-view+json": {
       "model_id": "",
       "version_major": 2,
       "version_minor": 0
      },
      "text/plain": [
       "batches:   0%|          | 0/125 [14ms<?, ?it/s]"
      ]
     },
     "metadata": {},
     "output_type": "display_data"
    },
    {
     "name": "stdout",
     "output_type": "stream",
     "text": [
      "\u001b[02;37m[2021-11-21 00:17:34,368][onir_pt][DEBUG] \u001b[0m\u001b[37m[finished] batches: [226ms] [125it] [552.64it/s]\u001b[0m\n",
      "\u001b[02;37m[2021-11-21 00:17:34,469][onir_pt][DEBUG] \u001b[0m\u001b[37m[finished] validation [328ms]\u001b[0m\n",
      "\u001b[02;37m[2021-11-21 00:17:34,469][onir_pt][INFO] \u001b[0m\u001b[32mvalidation it=6 map=0.0114 ndcg=0.0226 P_10=0.0720\u001b[0m\n",
      "\u001b[02;37m[2021-11-21 00:17:34,470][onir_pt][DEBUG] \u001b[0m\u001b[37musing GPU (deterministic)\u001b[0m\n",
      "\u001b[02;37m[2021-11-21 00:17:34,470][onir_pt][DEBUG] \u001b[0m\u001b[37m[starting] training\u001b[0m\n",
      "\u001b[02;37m[2021-11-21 00:17:34,470][onir_pt][DEBUG] \u001b[0m\u001b[37m[starting] train pairs\u001b[0m\n"
     ]
    },
    {
     "data": {
      "application/vnd.jupyter.widget-view+json": {
       "model_id": "",
       "version_major": 2,
       "version_minor": 0
      },
      "text/plain": [
       "train pairs:   0%|          | 0/1024 [14ms<?, ?it/s]"
      ]
     },
     "metadata": {},
     "output_type": "display_data"
    },
    {
     "name": "stdout",
     "output_type": "stream",
     "text": [
      "\u001b[02;37m[2021-11-21 00:17:37,291][onir_pt][DEBUG] \u001b[0m\u001b[37m[finished] train pairs: [2.82s] [1024it] [363.02it/s]\u001b[0m\n",
      "\u001b[02;37m[2021-11-21 00:17:37,292][onir_pt][DEBUG] \u001b[0m\u001b[37m[finished] training [2.82s]\u001b[0m\n",
      "\u001b[02;37m[2021-11-21 00:17:37,292][onir_pt][INFO] \u001b[0m\u001b[32mtraining   it=7 loss=0.1774\u001b[0m\n",
      "\u001b[02;37m[2021-11-21 00:17:37,293][onir_pt][DEBUG] \u001b[0m\u001b[37m[starting] validation\u001b[0m\n",
      "\u001b[02;37m[2021-11-21 00:17:37,293][onir_pt][DEBUG] \u001b[0m\u001b[37musing GPU (deterministic)\u001b[0m\n",
      "\u001b[02;37m[2021-11-21 00:17:37,293][onir_pt][DEBUG] \u001b[0m\u001b[37m[starting] batches\u001b[0m\n"
     ]
    },
    {
     "data": {
      "application/vnd.jupyter.widget-view+json": {
       "model_id": "",
       "version_major": 2,
       "version_minor": 0
      },
      "text/plain": [
       "batches:   0%|          | 0/125 [14ms<?, ?it/s]"
      ]
     },
     "metadata": {},
     "output_type": "display_data"
    },
    {
     "name": "stdout",
     "output_type": "stream",
     "text": [
      "\u001b[02;37m[2021-11-21 00:17:37,520][onir_pt][DEBUG] \u001b[0m\u001b[37m[finished] batches: [227ms] [125it] [551.11it/s]\u001b[0m\n",
      "\u001b[02;37m[2021-11-21 00:17:37,623][onir_pt][DEBUG] \u001b[0m\u001b[37m[finished] validation [331ms]\u001b[0m\n",
      "\u001b[02;37m[2021-11-21 00:17:37,624][onir_pt][INFO] \u001b[0m\u001b[32mvalidation it=7 map=0.0114 ndcg=0.0225 P_10=0.0720\u001b[0m\n",
      "\u001b[02;37m[2021-11-21 00:17:37,624][onir_pt][DEBUG] \u001b[0m\u001b[37musing GPU (deterministic)\u001b[0m\n",
      "\u001b[02;37m[2021-11-21 00:17:37,624][onir_pt][DEBUG] \u001b[0m\u001b[37m[starting] training\u001b[0m\n",
      "\u001b[02;37m[2021-11-21 00:17:37,625][onir_pt][DEBUG] \u001b[0m\u001b[37m[starting] train pairs\u001b[0m\n"
     ]
    },
    {
     "data": {
      "application/vnd.jupyter.widget-view+json": {
       "model_id": "",
       "version_major": 2,
       "version_minor": 0
      },
      "text/plain": [
       "train pairs:   0%|          | 0/1024 [14ms<?, ?it/s]"
      ]
     },
     "metadata": {},
     "output_type": "display_data"
    },
    {
     "name": "stdout",
     "output_type": "stream",
     "text": [
      "\u001b[02;37m[2021-11-21 00:17:40,479][onir_pt][DEBUG] \u001b[0m\u001b[37m[finished] train pairs: [2.85s] [1024it] [358.81it/s]\u001b[0m\n",
      "\u001b[02;37m[2021-11-21 00:17:40,480][onir_pt][DEBUG] \u001b[0m\u001b[37m[finished] training [2.86s]\u001b[0m\n",
      "\u001b[02;37m[2021-11-21 00:17:40,480][onir_pt][INFO] \u001b[0m\u001b[32mtraining   it=8 loss=0.1705\u001b[0m\n",
      "\u001b[02;37m[2021-11-21 00:17:40,480][onir_pt][DEBUG] \u001b[0m\u001b[37m[starting] validation\u001b[0m\n",
      "\u001b[02;37m[2021-11-21 00:17:40,480][onir_pt][DEBUG] \u001b[0m\u001b[37musing GPU (deterministic)\u001b[0m\n",
      "\u001b[02;37m[2021-11-21 00:17:40,481][onir_pt][DEBUG] \u001b[0m\u001b[37m[starting] batches\u001b[0m\n"
     ]
    },
    {
     "data": {
      "application/vnd.jupyter.widget-view+json": {
       "model_id": "",
       "version_major": 2,
       "version_minor": 0
      },
      "text/plain": [
       "batches:   0%|          | 0/125 [14ms<?, ?it/s]"
      ]
     },
     "metadata": {},
     "output_type": "display_data"
    },
    {
     "name": "stdout",
     "output_type": "stream",
     "text": [
      "\u001b[02;37m[2021-11-21 00:17:40,710][onir_pt][DEBUG] \u001b[0m\u001b[37m[finished] batches: [228ms] [125it] [547.12it/s]\u001b[0m\n",
      "\u001b[02;37m[2021-11-21 00:17:40,810][onir_pt][DEBUG] \u001b[0m\u001b[37m[finished] validation [330ms]\u001b[0m\n",
      "\u001b[02;37m[2021-11-21 00:17:40,811][onir_pt][INFO] \u001b[0m\u001b[32mvalidation it=8 map=0.0114 ndcg=0.0225 P_10=0.0700\u001b[0m\n",
      "\u001b[02;37m[2021-11-21 00:17:40,811][onir_pt][DEBUG] \u001b[0m\u001b[37musing GPU (deterministic)\u001b[0m\n",
      "\u001b[02;37m[2021-11-21 00:17:40,811][onir_pt][DEBUG] \u001b[0m\u001b[37m[starting] training\u001b[0m\n",
      "\u001b[02;37m[2021-11-21 00:17:40,811][onir_pt][DEBUG] \u001b[0m\u001b[37m[starting] train pairs\u001b[0m\n"
     ]
    },
    {
     "data": {
      "application/vnd.jupyter.widget-view+json": {
       "model_id": "",
       "version_major": 2,
       "version_minor": 0
      },
      "text/plain": [
       "train pairs:   0%|          | 0/1024 [14ms<?, ?it/s]"
      ]
     },
     "metadata": {},
     "output_type": "display_data"
    },
    {
     "name": "stdout",
     "output_type": "stream",
     "text": [
      "\u001b[02;37m[2021-11-21 00:17:43,656][onir_pt][DEBUG] \u001b[0m\u001b[37m[finished] train pairs: [2.84s] [1024it] [360.02it/s]\u001b[0m\n",
      "\u001b[02;37m[2021-11-21 00:17:43,657][onir_pt][DEBUG] \u001b[0m\u001b[37m[finished] training [2.85s]\u001b[0m\n",
      "\u001b[02;37m[2021-11-21 00:17:43,657][onir_pt][INFO] \u001b[0m\u001b[32mtraining   it=9 loss=0.1713\u001b[0m\n",
      "\u001b[02;37m[2021-11-21 00:17:43,657][onir_pt][DEBUG] \u001b[0m\u001b[37m[starting] validation\u001b[0m\n",
      "\u001b[02;37m[2021-11-21 00:17:43,658][onir_pt][DEBUG] \u001b[0m\u001b[37musing GPU (deterministic)\u001b[0m\n",
      "\u001b[02;37m[2021-11-21 00:17:43,658][onir_pt][DEBUG] \u001b[0m\u001b[37m[starting] batches\u001b[0m\n"
     ]
    },
    {
     "data": {
      "application/vnd.jupyter.widget-view+json": {
       "model_id": "",
       "version_major": 2,
       "version_minor": 0
      },
      "text/plain": [
       "batches:   0%|          | 0/125 [14ms<?, ?it/s]"
      ]
     },
     "metadata": {},
     "output_type": "display_data"
    },
    {
     "name": "stdout",
     "output_type": "stream",
     "text": [
      "\u001b[02;37m[2021-11-21 00:17:43,886][onir_pt][DEBUG] \u001b[0m\u001b[37m[finished] batches: [227ms] [125it] [550.05it/s]\u001b[0m\n",
      "\u001b[02;37m[2021-11-21 00:17:43,990][onir_pt][DEBUG] \u001b[0m\u001b[37m[finished] validation [333ms]\u001b[0m\n",
      "\u001b[02;37m[2021-11-21 00:17:43,991][onir_pt][INFO] \u001b[0m\u001b[32mvalidation it=9 map=0.0114 ndcg=0.0225 P_10=0.0700\u001b[0m\n",
      "\u001b[02;37m[2021-11-21 00:17:43,991][onir_pt][DEBUG] \u001b[0m\u001b[37musing GPU (deterministic)\u001b[0m\n",
      "\u001b[02;37m[2021-11-21 00:17:43,991][onir_pt][DEBUG] \u001b[0m\u001b[37m[starting] training\u001b[0m\n",
      "\u001b[02;37m[2021-11-21 00:17:43,991][onir_pt][DEBUG] \u001b[0m\u001b[37m[starting] train pairs\u001b[0m\n"
     ]
    },
    {
     "data": {
      "application/vnd.jupyter.widget-view+json": {
       "model_id": "",
       "version_major": 2,
       "version_minor": 0
      },
      "text/plain": [
       "train pairs:   0%|          | 0/1024 [14ms<?, ?it/s]"
      ]
     },
     "metadata": {},
     "output_type": "display_data"
    },
    {
     "name": "stdout",
     "output_type": "stream",
     "text": [
      "\u001b[02;37m[2021-11-21 00:17:46,929][onir_pt][DEBUG] \u001b[0m\u001b[37m[finished] train pairs: [2.94s] [1024it] [348.60it/s]\u001b[0m\n",
      "\u001b[02;37m[2021-11-21 00:17:46,931][onir_pt][DEBUG] \u001b[0m\u001b[37m[finished] training [2.94s]\u001b[0m\n",
      "\u001b[02;37m[2021-11-21 00:17:46,931][onir_pt][INFO] \u001b[0m\u001b[32mtraining   it=10 loss=0.1646\u001b[0m\n",
      "\u001b[02;37m[2021-11-21 00:17:46,931][onir_pt][DEBUG] \u001b[0m\u001b[37m[starting] validation\u001b[0m\n",
      "\u001b[02;37m[2021-11-21 00:17:46,931][onir_pt][DEBUG] \u001b[0m\u001b[37musing GPU (deterministic)\u001b[0m\n",
      "\u001b[02;37m[2021-11-21 00:17:46,932][onir_pt][DEBUG] \u001b[0m\u001b[37m[starting] batches\u001b[0m\n"
     ]
    },
    {
     "data": {
      "application/vnd.jupyter.widget-view+json": {
       "model_id": "",
       "version_major": 2,
       "version_minor": 0
      },
      "text/plain": [
       "batches:   0%|          | 0/125 [14ms<?, ?it/s]"
      ]
     },
     "metadata": {},
     "output_type": "display_data"
    },
    {
     "name": "stdout",
     "output_type": "stream",
     "text": [
      "\u001b[02;37m[2021-11-21 00:17:47,158][onir_pt][DEBUG] \u001b[0m\u001b[37m[finished] batches: [227ms] [125it] [551.66it/s]\u001b[0m\n",
      "\u001b[02;37m[2021-11-21 00:17:47,258][onir_pt][DEBUG] \u001b[0m\u001b[37m[finished] validation [327ms]\u001b[0m\n",
      "\u001b[02;37m[2021-11-21 00:17:47,259][onir_pt][INFO] \u001b[0m\u001b[32mvalidation it=10 map=0.0115 ndcg=0.0224 P_10=0.0720\u001b[0m\n",
      "\u001b[02;37m[2021-11-21 00:17:47,259][onir_pt][DEBUG] \u001b[0m\u001b[37musing GPU (deterministic)\u001b[0m\n",
      "\u001b[02;37m[2021-11-21 00:17:47,260][onir_pt][DEBUG] \u001b[0m\u001b[37m[starting] training\u001b[0m\n",
      "\u001b[02;37m[2021-11-21 00:17:47,260][onir_pt][DEBUG] \u001b[0m\u001b[37m[starting] train pairs\u001b[0m\n"
     ]
    },
    {
     "data": {
      "application/vnd.jupyter.widget-view+json": {
       "model_id": "",
       "version_major": 2,
       "version_minor": 0
      },
      "text/plain": [
       "train pairs:   0%|          | 0/1024 [14ms<?, ?it/s]"
      ]
     },
     "metadata": {},
     "output_type": "display_data"
    },
    {
     "name": "stdout",
     "output_type": "stream",
     "text": [
      "\u001b[02;37m[2021-11-21 00:17:50,096][onir_pt][DEBUG] \u001b[0m\u001b[37m[finished] train pairs: [2.84s] [1024it] [361.11it/s]\u001b[0m\n",
      "\u001b[02;37m[2021-11-21 00:17:50,097][onir_pt][DEBUG] \u001b[0m\u001b[37m[finished] training [2.84s]\u001b[0m\n",
      "\u001b[02;37m[2021-11-21 00:17:50,097][onir_pt][INFO] \u001b[0m\u001b[32mtraining   it=11 loss=0.1705\u001b[0m\n",
      "\u001b[02;37m[2021-11-21 00:17:50,097][onir_pt][DEBUG] \u001b[0m\u001b[37m[starting] validation\u001b[0m\n",
      "\u001b[02;37m[2021-11-21 00:17:50,097][onir_pt][DEBUG] \u001b[0m\u001b[37musing GPU (deterministic)\u001b[0m\n",
      "\u001b[02;37m[2021-11-21 00:17:50,098][onir_pt][DEBUG] \u001b[0m\u001b[37m[starting] batches\u001b[0m\n"
     ]
    },
    {
     "data": {
      "application/vnd.jupyter.widget-view+json": {
       "model_id": "",
       "version_major": 2,
       "version_minor": 0
      },
      "text/plain": [
       "batches:   0%|          | 0/125 [14ms<?, ?it/s]"
      ]
     },
     "metadata": {},
     "output_type": "display_data"
    },
    {
     "name": "stdout",
     "output_type": "stream",
     "text": [
      "\u001b[02;37m[2021-11-21 00:17:50,325][onir_pt][DEBUG] \u001b[0m\u001b[37m[finished] batches: [227ms] [125it] [551.69it/s]\u001b[0m\n",
      "\u001b[02;37m[2021-11-21 00:17:50,425][onir_pt][DEBUG] \u001b[0m\u001b[37m[finished] validation [328ms]\u001b[0m\n",
      "\u001b[02;37m[2021-11-21 00:17:50,426][onir_pt][INFO] \u001b[0m\u001b[32mvalidation it=11 map=0.0115 ndcg=0.0224 P_10=0.0720\u001b[0m\n",
      "\u001b[02;37m[2021-11-21 00:17:50,426][onir_pt][DEBUG] \u001b[0m\u001b[37musing GPU (deterministic)\u001b[0m\n",
      "\u001b[02;37m[2021-11-21 00:17:50,426][onir_pt][DEBUG] \u001b[0m\u001b[37m[starting] training\u001b[0m\n",
      "\u001b[02;37m[2021-11-21 00:17:50,427][onir_pt][DEBUG] \u001b[0m\u001b[37m[starting] train pairs\u001b[0m\n"
     ]
    },
    {
     "data": {
      "application/vnd.jupyter.widget-view+json": {
       "model_id": "",
       "version_major": 2,
       "version_minor": 0
      },
      "text/plain": [
       "train pairs:   0%|          | 0/1024 [14ms<?, ?it/s]"
      ]
     },
     "metadata": {},
     "output_type": "display_data"
    },
    {
     "name": "stdout",
     "output_type": "stream",
     "text": [
      "\u001b[02;37m[2021-11-21 00:17:53,271][onir_pt][DEBUG] \u001b[0m\u001b[37m[finished] train pairs: [2.84s] [1024it] [360.08it/s]\u001b[0m\n",
      "\u001b[02;37m[2021-11-21 00:17:53,273][onir_pt][DEBUG] \u001b[0m\u001b[37m[finished] training [2.85s]\u001b[0m\n",
      "\u001b[02;37m[2021-11-21 00:17:53,273][onir_pt][INFO] \u001b[0m\u001b[32mtraining   it=12 loss=0.1678\u001b[0m\n",
      "\u001b[02;37m[2021-11-21 00:17:53,273][onir_pt][DEBUG] \u001b[0m\u001b[37m[starting] validation\u001b[0m\n",
      "\u001b[02;37m[2021-11-21 00:17:53,274][onir_pt][DEBUG] \u001b[0m\u001b[37musing GPU (deterministic)\u001b[0m\n",
      "\u001b[02;37m[2021-11-21 00:17:53,274][onir_pt][DEBUG] \u001b[0m\u001b[37m[starting] batches\u001b[0m\n"
     ]
    },
    {
     "data": {
      "application/vnd.jupyter.widget-view+json": {
       "model_id": "",
       "version_major": 2,
       "version_minor": 0
      },
      "text/plain": [
       "batches:   0%|          | 0/125 [14ms<?, ?it/s]"
      ]
     },
     "metadata": {},
     "output_type": "display_data"
    },
    {
     "name": "stdout",
     "output_type": "stream",
     "text": [
      "\u001b[02;37m[2021-11-21 00:17:53,501][onir_pt][DEBUG] \u001b[0m\u001b[37m[finished] batches: [227ms] [125it] [551.85it/s]\u001b[0m\n",
      "\u001b[02;37m[2021-11-21 00:17:53,601][onir_pt][DEBUG] \u001b[0m\u001b[37m[finished] validation [328ms]\u001b[0m\n",
      "\u001b[02;37m[2021-11-21 00:17:53,603][onir_pt][INFO] \u001b[0m\u001b[32mvalidation it=12 map=0.0115 ndcg=0.0225 P_10=0.0700 <--\u001b[0m\n",
      "\u001b[02;37m[2021-11-21 00:17:53,603][onir_pt][DEBUG] \u001b[0m\u001b[37musing GPU (deterministic)\u001b[0m\n",
      "\u001b[02;37m[2021-11-21 00:17:53,603][onir_pt][DEBUG] \u001b[0m\u001b[37m[starting] training\u001b[0m\n",
      "\u001b[02;37m[2021-11-21 00:17:53,604][onir_pt][DEBUG] \u001b[0m\u001b[37m[starting] train pairs\u001b[0m\n"
     ]
    },
    {
     "data": {
      "application/vnd.jupyter.widget-view+json": {
       "model_id": "",
       "version_major": 2,
       "version_minor": 0
      },
      "text/plain": [
       "train pairs:   0%|          | 0/1024 [14ms<?, ?it/s]"
      ]
     },
     "metadata": {},
     "output_type": "display_data"
    },
    {
     "name": "stdout",
     "output_type": "stream",
     "text": [
      "\u001b[02;37m[2021-11-21 00:17:56,473][onir_pt][DEBUG] \u001b[0m\u001b[37m[finished] train pairs: [2.87s] [1024it] [356.87it/s]\u001b[0m\n",
      "\u001b[02;37m[2021-11-21 00:17:56,474][onir_pt][DEBUG] \u001b[0m\u001b[37m[finished] training [2.87s]\u001b[0m\n",
      "\u001b[02;37m[2021-11-21 00:17:56,475][onir_pt][INFO] \u001b[0m\u001b[32mtraining   it=13 loss=0.1724\u001b[0m\n",
      "\u001b[02;37m[2021-11-21 00:17:56,475][onir_pt][DEBUG] \u001b[0m\u001b[37m[starting] validation\u001b[0m\n",
      "\u001b[02;37m[2021-11-21 00:17:56,475][onir_pt][DEBUG] \u001b[0m\u001b[37musing GPU (deterministic)\u001b[0m\n",
      "\u001b[02;37m[2021-11-21 00:17:56,475][onir_pt][DEBUG] \u001b[0m\u001b[37m[starting] batches\u001b[0m\n"
     ]
    },
    {
     "data": {
      "application/vnd.jupyter.widget-view+json": {
       "model_id": "",
       "version_major": 2,
       "version_minor": 0
      },
      "text/plain": [
       "batches:   0%|          | 0/125 [14ms<?, ?it/s]"
      ]
     },
     "metadata": {},
     "output_type": "display_data"
    },
    {
     "name": "stdout",
     "output_type": "stream",
     "text": [
      "\u001b[02;37m[2021-11-21 00:17:56,706][onir_pt][DEBUG] \u001b[0m\u001b[37m[finished] batches: [230ms] [125it] [543.78it/s]\u001b[0m\n",
      "\u001b[02;37m[2021-11-21 00:17:56,810][onir_pt][DEBUG] \u001b[0m\u001b[37m[finished] validation [335ms]\u001b[0m\n",
      "\u001b[02;37m[2021-11-21 00:17:56,810][onir_pt][INFO] \u001b[0m\u001b[32mvalidation it=13 map=0.0115 ndcg=0.0223 P_10=0.0700\u001b[0m\n",
      "\u001b[02;37m[2021-11-21 00:17:56,811][onir_pt][DEBUG] \u001b[0m\u001b[37musing GPU (deterministic)\u001b[0m\n",
      "\u001b[02;37m[2021-11-21 00:17:56,811][onir_pt][DEBUG] \u001b[0m\u001b[37m[starting] training\u001b[0m\n",
      "\u001b[02;37m[2021-11-21 00:17:56,811][onir_pt][DEBUG] \u001b[0m\u001b[37m[starting] train pairs\u001b[0m\n"
     ]
    },
    {
     "data": {
      "application/vnd.jupyter.widget-view+json": {
       "model_id": "",
       "version_major": 2,
       "version_minor": 0
      },
      "text/plain": [
       "train pairs:   0%|          | 0/1024 [14ms<?, ?it/s]"
      ]
     },
     "metadata": {},
     "output_type": "display_data"
    },
    {
     "name": "stdout",
     "output_type": "stream",
     "text": [
      "\u001b[02;37m[2021-11-21 00:17:59,667][onir_pt][DEBUG] \u001b[0m\u001b[37m[finished] train pairs: [2.86s] [1024it] [358.56it/s]\u001b[0m\n",
      "\u001b[02;37m[2021-11-21 00:17:59,668][onir_pt][DEBUG] \u001b[0m\u001b[37m[finished] training [2.86s]\u001b[0m\n",
      "\u001b[02;37m[2021-11-21 00:17:59,669][onir_pt][INFO] \u001b[0m\u001b[32mtraining   it=14 loss=0.1555\u001b[0m\n",
      "\u001b[02;37m[2021-11-21 00:17:59,672][onir_pt][DEBUG] \u001b[0m\u001b[37m[starting] validation\u001b[0m\n",
      "\u001b[02;37m[2021-11-21 00:17:59,672][onir_pt][DEBUG] \u001b[0m\u001b[37musing GPU (deterministic)\u001b[0m\n",
      "\u001b[02;37m[2021-11-21 00:17:59,673][onir_pt][DEBUG] \u001b[0m\u001b[37m[starting] batches\u001b[0m\n"
     ]
    },
    {
     "data": {
      "application/vnd.jupyter.widget-view+json": {
       "model_id": "",
       "version_major": 2,
       "version_minor": 0
      },
      "text/plain": [
       "batches:   0%|          | 0/125 [14ms<?, ?it/s]"
      ]
     },
     "metadata": {},
     "output_type": "display_data"
    },
    {
     "name": "stdout",
     "output_type": "stream",
     "text": [
      "\u001b[02;37m[2021-11-21 00:17:59,901][onir_pt][DEBUG] \u001b[0m\u001b[37m[finished] batches: [227ms] [125it] [549.50it/s]\u001b[0m\n",
      "\u001b[02;37m[2021-11-21 00:18:00,004][onir_pt][DEBUG] \u001b[0m\u001b[37m[finished] validation [332ms]\u001b[0m\n",
      "\u001b[02;37m[2021-11-21 00:18:00,005][onir_pt][INFO] \u001b[0m\u001b[32mvalidation it=14 map=0.0116 ndcg=0.0224 P_10=0.0700 <--\u001b[0m\n",
      "\u001b[02;37m[2021-11-21 00:18:00,005][onir_pt][DEBUG] \u001b[0m\u001b[37musing GPU (deterministic)\u001b[0m\n",
      "\u001b[02;37m[2021-11-21 00:18:00,006][onir_pt][DEBUG] \u001b[0m\u001b[37m[starting] training\u001b[0m\n",
      "\u001b[02;37m[2021-11-21 00:18:00,006][onir_pt][DEBUG] \u001b[0m\u001b[37m[starting] train pairs\u001b[0m\n"
     ]
    },
    {
     "data": {
      "application/vnd.jupyter.widget-view+json": {
       "model_id": "",
       "version_major": 2,
       "version_minor": 0
      },
      "text/plain": [
       "train pairs:   0%|          | 0/1024 [14ms<?, ?it/s]"
      ]
     },
     "metadata": {},
     "output_type": "display_data"
    },
    {
     "name": "stdout",
     "output_type": "stream",
     "text": [
      "\u001b[02;37m[2021-11-21 00:18:02,902][onir_pt][DEBUG] \u001b[0m\u001b[37m[finished] train pairs: [2.90s] [1024it] [353.67it/s]\u001b[0m\n",
      "\u001b[02;37m[2021-11-21 00:18:02,903][onir_pt][DEBUG] \u001b[0m\u001b[37m[finished] training [2.90s]\u001b[0m\n",
      "\u001b[02;37m[2021-11-21 00:18:02,903][onir_pt][INFO] \u001b[0m\u001b[32mtraining   it=15 loss=0.1686\u001b[0m\n",
      "\u001b[02;37m[2021-11-21 00:18:02,903][onir_pt][DEBUG] \u001b[0m\u001b[37m[starting] validation\u001b[0m\n",
      "\u001b[02;37m[2021-11-21 00:18:02,903][onir_pt][DEBUG] \u001b[0m\u001b[37musing GPU (deterministic)\u001b[0m\n",
      "\u001b[02;37m[2021-11-21 00:18:02,904][onir_pt][DEBUG] \u001b[0m\u001b[37m[starting] batches\u001b[0m\n"
     ]
    },
    {
     "data": {
      "application/vnd.jupyter.widget-view+json": {
       "model_id": "",
       "version_major": 2,
       "version_minor": 0
      },
      "text/plain": [
       "batches:   0%|          | 0/125 [14ms<?, ?it/s]"
      ]
     },
     "metadata": {},
     "output_type": "display_data"
    },
    {
     "name": "stdout",
     "output_type": "stream",
     "text": [
      "\u001b[02;37m[2021-11-21 00:18:03,131][onir_pt][DEBUG] \u001b[0m\u001b[37m[finished] batches: [227ms] [125it] [551.86it/s]\u001b[0m\n",
      "\u001b[02;37m[2021-11-21 00:18:03,230][onir_pt][DEBUG] \u001b[0m\u001b[37m[finished] validation [327ms]\u001b[0m\n",
      "\u001b[02;37m[2021-11-21 00:18:03,230][onir_pt][INFO] \u001b[0m\u001b[32mvalidation it=15 map=0.0114 ndcg=0.0222 P_10=0.0700\u001b[0m\n",
      "\u001b[02;37m[2021-11-21 00:18:03,230][onir_pt][DEBUG] \u001b[0m\u001b[37musing GPU (deterministic)\u001b[0m\n",
      "\u001b[02;37m[2021-11-21 00:18:03,231][onir_pt][DEBUG] \u001b[0m\u001b[37m[starting] training\u001b[0m\n",
      "\u001b[02;37m[2021-11-21 00:18:03,231][onir_pt][DEBUG] \u001b[0m\u001b[37m[starting] train pairs\u001b[0m\n"
     ]
    },
    {
     "data": {
      "application/vnd.jupyter.widget-view+json": {
       "model_id": "",
       "version_major": 2,
       "version_minor": 0
      },
      "text/plain": [
       "train pairs:   0%|          | 0/1024 [14ms<?, ?it/s]"
      ]
     },
     "metadata": {},
     "output_type": "display_data"
    },
    {
     "name": "stdout",
     "output_type": "stream",
     "text": [
      "\u001b[02;37m[2021-11-21 00:18:06,070][onir_pt][DEBUG] \u001b[0m\u001b[37m[finished] train pairs: [2.84s] [1024it] [360.74it/s]\u001b[0m\n",
      "\u001b[02;37m[2021-11-21 00:18:06,071][onir_pt][DEBUG] \u001b[0m\u001b[37m[finished] training [2.84s]\u001b[0m\n",
      "\u001b[02;37m[2021-11-21 00:18:06,072][onir_pt][INFO] \u001b[0m\u001b[32mtraining   it=16 loss=0.1666\u001b[0m\n",
      "\u001b[02;37m[2021-11-21 00:18:06,072][onir_pt][DEBUG] \u001b[0m\u001b[37m[starting] validation\u001b[0m\n",
      "\u001b[02;37m[2021-11-21 00:18:06,072][onir_pt][DEBUG] \u001b[0m\u001b[37musing GPU (deterministic)\u001b[0m\n",
      "\u001b[02;37m[2021-11-21 00:18:06,072][onir_pt][DEBUG] \u001b[0m\u001b[37m[starting] batches\u001b[0m\n"
     ]
    },
    {
     "data": {
      "application/vnd.jupyter.widget-view+json": {
       "model_id": "",
       "version_major": 2,
       "version_minor": 0
      },
      "text/plain": [
       "batches:   0%|          | 0/125 [14ms<?, ?it/s]"
      ]
     },
     "metadata": {},
     "output_type": "display_data"
    },
    {
     "name": "stdout",
     "output_type": "stream",
     "text": [
      "\u001b[02;37m[2021-11-21 00:18:06,301][onir_pt][DEBUG] \u001b[0m\u001b[37m[finished] batches: [229ms] [125it] [546.81it/s]\u001b[0m\n",
      "\u001b[02;37m[2021-11-21 00:18:06,402][onir_pt][DEBUG] \u001b[0m\u001b[37m[finished] validation [330ms]\u001b[0m\n",
      "\u001b[02;37m[2021-11-21 00:18:06,402][onir_pt][INFO] \u001b[0m\u001b[32mvalidation it=16 map=0.0115 ndcg=0.0224 P_10=0.0720\u001b[0m\n",
      "\u001b[02;37m[2021-11-21 00:18:06,403][onir_pt][DEBUG] \u001b[0m\u001b[37musing GPU (deterministic)\u001b[0m\n",
      "\u001b[02;37m[2021-11-21 00:18:06,403][onir_pt][DEBUG] \u001b[0m\u001b[37m[starting] training\u001b[0m\n",
      "\u001b[02;37m[2021-11-21 00:18:06,403][onir_pt][DEBUG] \u001b[0m\u001b[37m[starting] train pairs\u001b[0m\n"
     ]
    },
    {
     "data": {
      "application/vnd.jupyter.widget-view+json": {
       "model_id": "",
       "version_major": 2,
       "version_minor": 0
      },
      "text/plain": [
       "train pairs:   0%|          | 0/1024 [14ms<?, ?it/s]"
      ]
     },
     "metadata": {},
     "output_type": "display_data"
    },
    {
     "name": "stdout",
     "output_type": "stream",
     "text": [
      "\u001b[02;37m[2021-11-21 00:18:09,245][onir_pt][DEBUG] \u001b[0m\u001b[37m[finished] train pairs: [2.84s] [1024it] [360.36it/s]\u001b[0m\n",
      "\u001b[02;37m[2021-11-21 00:18:09,246][onir_pt][DEBUG] \u001b[0m\u001b[37m[finished] training [2.84s]\u001b[0m\n",
      "\u001b[02;37m[2021-11-21 00:18:09,246][onir_pt][INFO] \u001b[0m\u001b[32mtraining   it=17 loss=0.1646\u001b[0m\n",
      "\u001b[02;37m[2021-11-21 00:18:09,247][onir_pt][DEBUG] \u001b[0m\u001b[37m[starting] validation\u001b[0m\n",
      "\u001b[02;37m[2021-11-21 00:18:09,247][onir_pt][DEBUG] \u001b[0m\u001b[37musing GPU (deterministic)\u001b[0m\n",
      "\u001b[02;37m[2021-11-21 00:18:09,247][onir_pt][DEBUG] \u001b[0m\u001b[37m[starting] batches\u001b[0m\n"
     ]
    },
    {
     "data": {
      "application/vnd.jupyter.widget-view+json": {
       "model_id": "",
       "version_major": 2,
       "version_minor": 0
      },
      "text/plain": [
       "batches:   0%|          | 0/125 [14ms<?, ?it/s]"
      ]
     },
     "metadata": {},
     "output_type": "display_data"
    },
    {
     "name": "stdout",
     "output_type": "stream",
     "text": [
      "\u001b[02;37m[2021-11-21 00:18:09,472][onir_pt][DEBUG] \u001b[0m\u001b[37m[finished] batches: [224ms] [125it] [557.81it/s]\u001b[0m\n",
      "\u001b[02;37m[2021-11-21 00:18:09,572][onir_pt][DEBUG] \u001b[0m\u001b[37m[finished] validation [325ms]\u001b[0m\n",
      "\u001b[02;37m[2021-11-21 00:18:09,573][onir_pt][INFO] \u001b[0m\u001b[32mvalidation it=17 map=0.0116 ndcg=0.0223 P_10=0.0700\u001b[0m\n",
      "\u001b[02;37m[2021-11-21 00:18:09,573][onir_pt][DEBUG] \u001b[0m\u001b[37musing GPU (deterministic)\u001b[0m\n",
      "\u001b[02;37m[2021-11-21 00:18:09,573][onir_pt][DEBUG] \u001b[0m\u001b[37m[starting] training\u001b[0m\n",
      "\u001b[02;37m[2021-11-21 00:18:09,573][onir_pt][DEBUG] \u001b[0m\u001b[37m[starting] train pairs\u001b[0m\n"
     ]
    },
    {
     "data": {
      "application/vnd.jupyter.widget-view+json": {
       "model_id": "",
       "version_major": 2,
       "version_minor": 0
      },
      "text/plain": [
       "train pairs:   0%|          | 0/1024 [14ms<?, ?it/s]"
      ]
     },
     "metadata": {},
     "output_type": "display_data"
    },
    {
     "name": "stdout",
     "output_type": "stream",
     "text": [
      "\u001b[02;37m[2021-11-21 00:18:12,445][onir_pt][DEBUG] \u001b[0m\u001b[37m[finished] train pairs: [2.87s] [1024it] [356.63it/s]\u001b[0m\n",
      "\u001b[02;37m[2021-11-21 00:18:12,446][onir_pt][DEBUG] \u001b[0m\u001b[37m[finished] training [2.87s]\u001b[0m\n",
      "\u001b[02;37m[2021-11-21 00:18:12,446][onir_pt][INFO] \u001b[0m\u001b[32mtraining   it=18 loss=0.1750\u001b[0m\n",
      "\u001b[02;37m[2021-11-21 00:18:12,446][onir_pt][DEBUG] \u001b[0m\u001b[37m[starting] validation\u001b[0m\n",
      "\u001b[02;37m[2021-11-21 00:18:12,447][onir_pt][DEBUG] \u001b[0m\u001b[37musing GPU (deterministic)\u001b[0m\n",
      "\u001b[02;37m[2021-11-21 00:18:12,447][onir_pt][DEBUG] \u001b[0m\u001b[37m[starting] batches\u001b[0m\n"
     ]
    },
    {
     "data": {
      "application/vnd.jupyter.widget-view+json": {
       "model_id": "",
       "version_major": 2,
       "version_minor": 0
      },
      "text/plain": [
       "batches:   0%|          | 0/125 [14ms<?, ?it/s]"
      ]
     },
     "metadata": {},
     "output_type": "display_data"
    },
    {
     "name": "stdout",
     "output_type": "stream",
     "text": [
      "\u001b[02;37m[2021-11-21 00:18:12,673][onir_pt][DEBUG] \u001b[0m\u001b[37m[finished] batches: [225ms] [125it] [555.90it/s]\u001b[0m\n",
      "\u001b[02;37m[2021-11-21 00:18:12,774][onir_pt][DEBUG] \u001b[0m\u001b[37m[finished] validation [327ms]\u001b[0m\n",
      "\u001b[02;37m[2021-11-21 00:18:12,775][onir_pt][INFO] \u001b[0m\u001b[32mvalidation it=18 map=0.0116 ndcg=0.0224 P_10=0.0760 <--\u001b[0m\n",
      "\u001b[02;37m[2021-11-21 00:18:12,775][onir_pt][DEBUG] \u001b[0m\u001b[37musing GPU (deterministic)\u001b[0m\n",
      "\u001b[02;37m[2021-11-21 00:18:12,776][onir_pt][DEBUG] \u001b[0m\u001b[37m[starting] training\u001b[0m\n",
      "\u001b[02;37m[2021-11-21 00:18:12,776][onir_pt][DEBUG] \u001b[0m\u001b[37m[starting] train pairs\u001b[0m\n"
     ]
    },
    {
     "data": {
      "application/vnd.jupyter.widget-view+json": {
       "model_id": "",
       "version_major": 2,
       "version_minor": 0
      },
      "text/plain": [
       "train pairs:   0%|          | 0/1024 [14ms<?, ?it/s]"
      ]
     },
     "metadata": {},
     "output_type": "display_data"
    },
    {
     "name": "stdout",
     "output_type": "stream",
     "text": [
      "\u001b[02;37m[2021-11-21 00:18:15,649][onir_pt][DEBUG] \u001b[0m\u001b[37m[finished] train pairs: [2.87s] [1024it] [356.44it/s]\u001b[0m\n",
      "\u001b[02;37m[2021-11-21 00:18:15,650][onir_pt][DEBUG] \u001b[0m\u001b[37m[finished] training [2.87s]\u001b[0m\n",
      "\u001b[02;37m[2021-11-21 00:18:15,650][onir_pt][INFO] \u001b[0m\u001b[32mtraining   it=19 loss=0.1688\u001b[0m\n",
      "\u001b[02;37m[2021-11-21 00:18:15,651][onir_pt][DEBUG] \u001b[0m\u001b[37m[starting] validation\u001b[0m\n",
      "\u001b[02;37m[2021-11-21 00:18:15,651][onir_pt][DEBUG] \u001b[0m\u001b[37musing GPU (deterministic)\u001b[0m\n",
      "\u001b[02;37m[2021-11-21 00:18:15,651][onir_pt][DEBUG] \u001b[0m\u001b[37m[starting] batches\u001b[0m\n"
     ]
    },
    {
     "data": {
      "application/vnd.jupyter.widget-view+json": {
       "model_id": "",
       "version_major": 2,
       "version_minor": 0
      },
      "text/plain": [
       "batches:   0%|          | 0/125 [14ms<?, ?it/s]"
      ]
     },
     "metadata": {},
     "output_type": "display_data"
    },
    {
     "name": "stdout",
     "output_type": "stream",
     "text": [
      "\u001b[02;37m[2021-11-21 00:18:15,879][onir_pt][DEBUG] \u001b[0m\u001b[37m[finished] batches: [227ms] [125it] [549.72it/s]\u001b[0m\n",
      "\u001b[02;37m[2021-11-21 00:18:15,978][onir_pt][DEBUG] \u001b[0m\u001b[37m[finished] validation [328ms]\u001b[0m\n",
      "\u001b[02;37m[2021-11-21 00:18:15,980][onir_pt][INFO] \u001b[0m\u001b[32mvalidation it=19 map=0.0116 ndcg=0.0224 P_10=0.0780 <--\u001b[0m\n",
      "\u001b[02;37m[2021-11-21 00:18:15,980][onir_pt][DEBUG] \u001b[0m\u001b[37musing GPU (deterministic)\u001b[0m\n",
      "\u001b[02;37m[2021-11-21 00:18:15,980][onir_pt][DEBUG] \u001b[0m\u001b[37m[starting] training\u001b[0m\n",
      "\u001b[02;37m[2021-11-21 00:18:15,981][onir_pt][DEBUG] \u001b[0m\u001b[37m[starting] train pairs\u001b[0m\n"
     ]
    },
    {
     "data": {
      "application/vnd.jupyter.widget-view+json": {
       "model_id": "",
       "version_major": 2,
       "version_minor": 0
      },
      "text/plain": [
       "train pairs:   0%|          | 0/1024 [14ms<?, ?it/s]"
      ]
     },
     "metadata": {},
     "output_type": "display_data"
    },
    {
     "name": "stdout",
     "output_type": "stream",
     "text": [
      "\u001b[02;37m[2021-11-21 00:18:18,891][onir_pt][DEBUG] \u001b[0m\u001b[37m[finished] train pairs: [2.91s] [1024it] [351.88it/s]\u001b[0m\n",
      "\u001b[02;37m[2021-11-21 00:18:18,892][onir_pt][DEBUG] \u001b[0m\u001b[37m[finished] training [2.91s]\u001b[0m\n",
      "\u001b[02;37m[2021-11-21 00:18:18,893][onir_pt][INFO] \u001b[0m\u001b[32mtraining   it=20 loss=0.1606\u001b[0m\n",
      "\u001b[02;37m[2021-11-21 00:18:18,893][onir_pt][DEBUG] \u001b[0m\u001b[37m[starting] validation\u001b[0m\n",
      "\u001b[02;37m[2021-11-21 00:18:18,893][onir_pt][DEBUG] \u001b[0m\u001b[37musing GPU (deterministic)\u001b[0m\n",
      "\u001b[02;37m[2021-11-21 00:18:18,893][onir_pt][DEBUG] \u001b[0m\u001b[37m[starting] batches\u001b[0m\n"
     ]
    },
    {
     "data": {
      "application/vnd.jupyter.widget-view+json": {
       "model_id": "",
       "version_major": 2,
       "version_minor": 0
      },
      "text/plain": [
       "batches:   0%|          | 0/125 [14ms<?, ?it/s]"
      ]
     },
     "metadata": {},
     "output_type": "display_data"
    },
    {
     "name": "stdout",
     "output_type": "stream",
     "text": [
      "\u001b[02;37m[2021-11-21 00:18:19,119][onir_pt][DEBUG] \u001b[0m\u001b[37m[finished] batches: [226ms] [125it] [553.62it/s]\u001b[0m\n",
      "\u001b[02;37m[2021-11-21 00:18:19,222][onir_pt][DEBUG] \u001b[0m\u001b[37m[finished] validation [330ms]\u001b[0m\n",
      "\u001b[02;37m[2021-11-21 00:18:19,223][onir_pt][INFO] \u001b[0m\u001b[32mvalidation it=20 map=0.0115 ndcg=0.0224 P_10=0.0700\u001b[0m\n",
      "\u001b[02;37m[2021-11-21 00:18:19,223][onir_pt][DEBUG] \u001b[0m\u001b[37musing GPU (deterministic)\u001b[0m\n",
      "\u001b[02;37m[2021-11-21 00:18:19,224][onir_pt][DEBUG] \u001b[0m\u001b[37m[starting] training\u001b[0m\n",
      "\u001b[02;37m[2021-11-21 00:18:19,224][onir_pt][DEBUG] \u001b[0m\u001b[37m[starting] train pairs\u001b[0m\n"
     ]
    },
    {
     "data": {
      "application/vnd.jupyter.widget-view+json": {
       "model_id": "",
       "version_major": 2,
       "version_minor": 0
      },
      "text/plain": [
       "train pairs:   0%|          | 0/1024 [14ms<?, ?it/s]"
      ]
     },
     "metadata": {},
     "output_type": "display_data"
    },
    {
     "name": "stdout",
     "output_type": "stream",
     "text": [
      "\u001b[02;37m[2021-11-21 00:18:22,219][onir_pt][DEBUG] \u001b[0m\u001b[37m[finished] train pairs: [2.99s] [1024it] [341.93it/s]\u001b[0m\n",
      "\u001b[02;37m[2021-11-21 00:18:22,220][onir_pt][DEBUG] \u001b[0m\u001b[37m[finished] training [3.00s]\u001b[0m\n",
      "\u001b[02;37m[2021-11-21 00:18:22,220][onir_pt][INFO] \u001b[0m\u001b[32mtraining   it=21 loss=0.1647\u001b[0m\n",
      "\u001b[02;37m[2021-11-21 00:18:22,220][onir_pt][DEBUG] \u001b[0m\u001b[37m[starting] validation\u001b[0m\n",
      "\u001b[02;37m[2021-11-21 00:18:22,220][onir_pt][DEBUG] \u001b[0m\u001b[37musing GPU (deterministic)\u001b[0m\n",
      "\u001b[02;37m[2021-11-21 00:18:22,221][onir_pt][DEBUG] \u001b[0m\u001b[37m[starting] batches\u001b[0m\n"
     ]
    },
    {
     "data": {
      "application/vnd.jupyter.widget-view+json": {
       "model_id": "",
       "version_major": 2,
       "version_minor": 0
      },
      "text/plain": [
       "batches:   0%|          | 0/125 [14ms<?, ?it/s]"
      ]
     },
     "metadata": {},
     "output_type": "display_data"
    },
    {
     "name": "stdout",
     "output_type": "stream",
     "text": [
      "\u001b[02;37m[2021-11-21 00:18:22,478][onir_pt][DEBUG] \u001b[0m\u001b[37m[finished] batches: [257ms] [125it] [486.90it/s]\u001b[0m\n",
      "\u001b[02;37m[2021-11-21 00:18:22,577][onir_pt][DEBUG] \u001b[0m\u001b[37m[finished] validation [357ms]\u001b[0m\n",
      "\u001b[02;37m[2021-11-21 00:18:22,578][onir_pt][INFO] \u001b[0m\u001b[32mvalidation it=21 map=0.0115 ndcg=0.0224 P_10=0.0700\u001b[0m\n",
      "\u001b[02;37m[2021-11-21 00:18:22,578][onir_pt][DEBUG] \u001b[0m\u001b[37musing GPU (deterministic)\u001b[0m\n",
      "\u001b[02;37m[2021-11-21 00:18:22,579][onir_pt][DEBUG] \u001b[0m\u001b[37m[starting] training\u001b[0m\n",
      "\u001b[02;37m[2021-11-21 00:18:22,579][onir_pt][DEBUG] \u001b[0m\u001b[37m[starting] train pairs\u001b[0m\n"
     ]
    },
    {
     "data": {
      "application/vnd.jupyter.widget-view+json": {
       "model_id": "",
       "version_major": 2,
       "version_minor": 0
      },
      "text/plain": [
       "train pairs:   0%|          | 0/1024 [14ms<?, ?it/s]"
      ]
     },
     "metadata": {},
     "output_type": "display_data"
    },
    {
     "name": "stdout",
     "output_type": "stream",
     "text": [
      "\u001b[02;37m[2021-11-21 00:18:25,502][onir_pt][DEBUG] \u001b[0m\u001b[37m[finished] train pairs: [2.92s] [1024it] [350.33it/s]\u001b[0m\n",
      "\u001b[02;37m[2021-11-21 00:18:25,504][onir_pt][DEBUG] \u001b[0m\u001b[37m[finished] training [2.93s]\u001b[0m\n",
      "\u001b[02;37m[2021-11-21 00:18:25,504][onir_pt][INFO] \u001b[0m\u001b[32mtraining   it=22 loss=0.1625\u001b[0m\n",
      "\u001b[02;37m[2021-11-21 00:18:25,504][onir_pt][DEBUG] \u001b[0m\u001b[37m[starting] validation\u001b[0m\n",
      "\u001b[02;37m[2021-11-21 00:18:25,505][onir_pt][DEBUG] \u001b[0m\u001b[37musing GPU (deterministic)\u001b[0m\n",
      "\u001b[02;37m[2021-11-21 00:18:25,505][onir_pt][DEBUG] \u001b[0m\u001b[37m[starting] batches\u001b[0m\n"
     ]
    },
    {
     "data": {
      "application/vnd.jupyter.widget-view+json": {
       "model_id": "",
       "version_major": 2,
       "version_minor": 0
      },
      "text/plain": [
       "batches:   0%|          | 0/125 [14ms<?, ?it/s]"
      ]
     },
     "metadata": {},
     "output_type": "display_data"
    },
    {
     "name": "stdout",
     "output_type": "stream",
     "text": [
      "\u001b[02;37m[2021-11-21 00:18:25,733][onir_pt][DEBUG] \u001b[0m\u001b[37m[finished] batches: [227ms] [125it] [550.03it/s]\u001b[0m\n",
      "\u001b[02;37m[2021-11-21 00:18:25,834][onir_pt][DEBUG] \u001b[0m\u001b[37m[finished] validation [330ms]\u001b[0m\n",
      "\u001b[02;37m[2021-11-21 00:18:25,835][onir_pt][INFO] \u001b[0m\u001b[32mvalidation it=22 map=0.0115 ndcg=0.0224 P_10=0.0700\u001b[0m\n",
      "\u001b[02;37m[2021-11-21 00:18:25,835][onir_pt][DEBUG] \u001b[0m\u001b[37musing GPU (deterministic)\u001b[0m\n",
      "\u001b[02;37m[2021-11-21 00:18:25,835][onir_pt][DEBUG] \u001b[0m\u001b[37m[starting] training\u001b[0m\n",
      "\u001b[02;37m[2021-11-21 00:18:25,835][onir_pt][DEBUG] \u001b[0m\u001b[37m[starting] train pairs\u001b[0m\n"
     ]
    },
    {
     "data": {
      "application/vnd.jupyter.widget-view+json": {
       "model_id": "",
       "version_major": 2,
       "version_minor": 0
      },
      "text/plain": [
       "train pairs:   0%|          | 0/1024 [14ms<?, ?it/s]"
      ]
     },
     "metadata": {},
     "output_type": "display_data"
    },
    {
     "name": "stdout",
     "output_type": "stream",
     "text": [
      "\u001b[02;37m[2021-11-21 00:18:28,739][onir_pt][DEBUG] \u001b[0m\u001b[37m[finished] train pairs: [2.90s] [1024it] [352.74it/s]\u001b[0m\n",
      "\u001b[02;37m[2021-11-21 00:18:28,740][onir_pt][DEBUG] \u001b[0m\u001b[37m[finished] training [2.90s]\u001b[0m\n",
      "\u001b[02;37m[2021-11-21 00:18:28,740][onir_pt][INFO] \u001b[0m\u001b[32mtraining   it=23 loss=0.1705\u001b[0m\n",
      "\u001b[02;37m[2021-11-21 00:18:28,740][onir_pt][DEBUG] \u001b[0m\u001b[37m[starting] validation\u001b[0m\n",
      "\u001b[02;37m[2021-11-21 00:18:28,740][onir_pt][DEBUG] \u001b[0m\u001b[37musing GPU (deterministic)\u001b[0m\n",
      "\u001b[02;37m[2021-11-21 00:18:28,741][onir_pt][DEBUG] \u001b[0m\u001b[37m[starting] batches\u001b[0m\n"
     ]
    },
    {
     "data": {
      "application/vnd.jupyter.widget-view+json": {
       "model_id": "",
       "version_major": 2,
       "version_minor": 0
      },
      "text/plain": [
       "batches:   0%|          | 0/125 [14ms<?, ?it/s]"
      ]
     },
     "metadata": {},
     "output_type": "display_data"
    },
    {
     "name": "stdout",
     "output_type": "stream",
     "text": [
      "\u001b[02;37m[2021-11-21 00:18:29,000][onir_pt][DEBUG] \u001b[0m\u001b[37m[finished] batches: [258ms] [125it] [484.22it/s]\u001b[0m\n",
      "\u001b[02;37m[2021-11-21 00:18:29,103][onir_pt][DEBUG] \u001b[0m\u001b[37m[finished] validation [363ms]\u001b[0m\n",
      "\u001b[02;37m[2021-11-21 00:18:29,103][onir_pt][INFO] \u001b[0m\u001b[32mvalidation it=23 map=0.0116 ndcg=0.0225 P_10=0.0700\u001b[0m\n",
      "\u001b[02;37m[2021-11-21 00:18:29,104][onir_pt][DEBUG] \u001b[0m\u001b[37musing GPU (deterministic)\u001b[0m\n",
      "\u001b[02;37m[2021-11-21 00:18:29,104][onir_pt][DEBUG] \u001b[0m\u001b[37m[starting] training\u001b[0m\n",
      "\u001b[02;37m[2021-11-21 00:18:29,104][onir_pt][DEBUG] \u001b[0m\u001b[37m[starting] train pairs\u001b[0m\n"
     ]
    },
    {
     "data": {
      "application/vnd.jupyter.widget-view+json": {
       "model_id": "",
       "version_major": 2,
       "version_minor": 0
      },
      "text/plain": [
       "train pairs:   0%|          | 0/1024 [14ms<?, ?it/s]"
      ]
     },
     "metadata": {},
     "output_type": "display_data"
    },
    {
     "name": "stdout",
     "output_type": "stream",
     "text": [
      "\u001b[02;37m[2021-11-21 00:18:31,991][onir_pt][DEBUG] \u001b[0m\u001b[37m[finished] train pairs: [2.89s] [1024it] [354.74it/s]\u001b[0m\n",
      "\u001b[02;37m[2021-11-21 00:18:31,992][onir_pt][DEBUG] \u001b[0m\u001b[37m[finished] training [2.89s]\u001b[0m\n",
      "\u001b[02;37m[2021-11-21 00:18:31,993][onir_pt][INFO] \u001b[0m\u001b[32mtraining   it=24 loss=0.1640\u001b[0m\n",
      "\u001b[02;37m[2021-11-21 00:18:31,993][onir_pt][DEBUG] \u001b[0m\u001b[37m[starting] validation\u001b[0m\n",
      "\u001b[02;37m[2021-11-21 00:18:31,993][onir_pt][DEBUG] \u001b[0m\u001b[37musing GPU (deterministic)\u001b[0m\n",
      "\u001b[02;37m[2021-11-21 00:18:31,994][onir_pt][DEBUG] \u001b[0m\u001b[37m[starting] batches\u001b[0m\n"
     ]
    },
    {
     "data": {
      "application/vnd.jupyter.widget-view+json": {
       "model_id": "",
       "version_major": 2,
       "version_minor": 0
      },
      "text/plain": [
       "batches:   0%|          | 0/125 [14ms<?, ?it/s]"
      ]
     },
     "metadata": {},
     "output_type": "display_data"
    },
    {
     "name": "stdout",
     "output_type": "stream",
     "text": [
      "\u001b[02;37m[2021-11-21 00:18:32,221][onir_pt][DEBUG] \u001b[0m\u001b[37m[finished] batches: [227ms] [125it] [551.55it/s]\u001b[0m\n",
      "\u001b[02;37m[2021-11-21 00:18:32,322][onir_pt][DEBUG] \u001b[0m\u001b[37m[finished] validation [329ms]\u001b[0m\n",
      "\u001b[02;37m[2021-11-21 00:18:32,322][onir_pt][INFO] \u001b[0m\u001b[32mvalidation it=24 map=0.0115 ndcg=0.0225 P_10=0.0700\u001b[0m\n",
      "\u001b[02;37m[2021-11-21 00:18:32,323][onir_pt][DEBUG] \u001b[0m\u001b[37musing GPU (deterministic)\u001b[0m\n",
      "\u001b[02;37m[2021-11-21 00:18:32,323][onir_pt][DEBUG] \u001b[0m\u001b[37m[starting] training\u001b[0m\n",
      "\u001b[02;37m[2021-11-21 00:18:32,323][onir_pt][DEBUG] \u001b[0m\u001b[37m[starting] train pairs\u001b[0m\n"
     ]
    },
    {
     "data": {
      "application/vnd.jupyter.widget-view+json": {
       "model_id": "",
       "version_major": 2,
       "version_minor": 0
      },
      "text/plain": [
       "train pairs:   0%|          | 0/1024 [14ms<?, ?it/s]"
      ]
     },
     "metadata": {},
     "output_type": "display_data"
    },
    {
     "name": "stdout",
     "output_type": "stream",
     "text": [
      "\u001b[02;37m[2021-11-21 00:18:35,179][onir_pt][DEBUG] \u001b[0m\u001b[37m[finished] train pairs: [2.86s] [1024it] [358.61it/s]\u001b[0m\n",
      "\u001b[02;37m[2021-11-21 00:18:35,180][onir_pt][DEBUG] \u001b[0m\u001b[37m[finished] training [2.86s]\u001b[0m\n",
      "\u001b[02;37m[2021-11-21 00:18:35,180][onir_pt][INFO] \u001b[0m\u001b[32mtraining   it=25 loss=0.1651\u001b[0m\n",
      "\u001b[02;37m[2021-11-21 00:18:35,180][onir_pt][DEBUG] \u001b[0m\u001b[37m[starting] validation\u001b[0m\n",
      "\u001b[02;37m[2021-11-21 00:18:35,181][onir_pt][DEBUG] \u001b[0m\u001b[37musing GPU (deterministic)\u001b[0m\n",
      "\u001b[02;37m[2021-11-21 00:18:35,181][onir_pt][DEBUG] \u001b[0m\u001b[37m[starting] batches\u001b[0m\n"
     ]
    },
    {
     "data": {
      "application/vnd.jupyter.widget-view+json": {
       "model_id": "",
       "version_major": 2,
       "version_minor": 0
      },
      "text/plain": [
       "batches:   0%|          | 0/125 [14ms<?, ?it/s]"
      ]
     },
     "metadata": {},
     "output_type": "display_data"
    },
    {
     "name": "stdout",
     "output_type": "stream",
     "text": [
      "\u001b[02;37m[2021-11-21 00:18:35,408][onir_pt][DEBUG] \u001b[0m\u001b[37m[finished] batches: [226ms] [125it] [553.67it/s]\u001b[0m\n",
      "\u001b[02;37m[2021-11-21 00:18:35,508][onir_pt][DEBUG] \u001b[0m\u001b[37m[finished] validation [328ms]\u001b[0m\n",
      "\u001b[02;37m[2021-11-21 00:18:35,509][onir_pt][INFO] \u001b[0m\u001b[32mvalidation it=25 map=0.0115 ndcg=0.0223 P_10=0.0760\u001b[0m\n",
      "\u001b[02;37m[2021-11-21 00:18:35,509][onir_pt][DEBUG] \u001b[0m\u001b[37musing GPU (deterministic)\u001b[0m\n",
      "\u001b[02;37m[2021-11-21 00:18:35,509][onir_pt][DEBUG] \u001b[0m\u001b[37m[starting] training\u001b[0m\n",
      "\u001b[02;37m[2021-11-21 00:18:35,509][onir_pt][DEBUG] \u001b[0m\u001b[37m[starting] train pairs\u001b[0m\n"
     ]
    },
    {
     "data": {
      "application/vnd.jupyter.widget-view+json": {
       "model_id": "",
       "version_major": 2,
       "version_minor": 0
      },
      "text/plain": [
       "train pairs:   0%|          | 0/1024 [14ms<?, ?it/s]"
      ]
     },
     "metadata": {},
     "output_type": "display_data"
    },
    {
     "name": "stdout",
     "output_type": "stream",
     "text": [
      "\u001b[02;37m[2021-11-21 00:18:38,396][onir_pt][DEBUG] \u001b[0m\u001b[37m[finished] train pairs: [2.89s] [1024it] [354.76it/s]\u001b[0m\n",
      "\u001b[02;37m[2021-11-21 00:18:38,398][onir_pt][DEBUG] \u001b[0m\u001b[37m[finished] training [2.89s]\u001b[0m\n",
      "\u001b[02;37m[2021-11-21 00:18:38,398][onir_pt][INFO] \u001b[0m\u001b[32mtraining   it=26 loss=0.1629\u001b[0m\n",
      "\u001b[02;37m[2021-11-21 00:18:38,398][onir_pt][DEBUG] \u001b[0m\u001b[37m[starting] validation\u001b[0m\n",
      "\u001b[02;37m[2021-11-21 00:18:38,398][onir_pt][DEBUG] \u001b[0m\u001b[37musing GPU (deterministic)\u001b[0m\n",
      "\u001b[02;37m[2021-11-21 00:18:38,399][onir_pt][DEBUG] \u001b[0m\u001b[37m[starting] batches\u001b[0m\n"
     ]
    },
    {
     "data": {
      "application/vnd.jupyter.widget-view+json": {
       "model_id": "",
       "version_major": 2,
       "version_minor": 0
      },
      "text/plain": [
       "batches:   0%|          | 0/125 [14ms<?, ?it/s]"
      ]
     },
     "metadata": {},
     "output_type": "display_data"
    },
    {
     "name": "stdout",
     "output_type": "stream",
     "text": [
      "\u001b[02;37m[2021-11-21 00:18:38,625][onir_pt][DEBUG] \u001b[0m\u001b[37m[finished] batches: [226ms] [125it] [553.00it/s]\u001b[0m\n",
      "\u001b[02;37m[2021-11-21 00:18:38,725][onir_pt][DEBUG] \u001b[0m\u001b[37m[finished] validation [327ms]\u001b[0m\n",
      "\u001b[02;37m[2021-11-21 00:18:38,726][onir_pt][INFO] \u001b[0m\u001b[32mvalidation it=26 map=0.0116 ndcg=0.0224 P_10=0.0720\u001b[0m\n",
      "\u001b[02;37m[2021-11-21 00:18:38,726][onir_pt][DEBUG] \u001b[0m\u001b[37musing GPU (deterministic)\u001b[0m\n",
      "\u001b[02;37m[2021-11-21 00:18:38,726][onir_pt][DEBUG] \u001b[0m\u001b[37m[starting] training\u001b[0m\n",
      "\u001b[02;37m[2021-11-21 00:18:38,726][onir_pt][DEBUG] \u001b[0m\u001b[37m[starting] train pairs\u001b[0m\n"
     ]
    },
    {
     "data": {
      "application/vnd.jupyter.widget-view+json": {
       "model_id": "",
       "version_major": 2,
       "version_minor": 0
      },
      "text/plain": [
       "train pairs:   0%|          | 0/1024 [14ms<?, ?it/s]"
      ]
     },
     "metadata": {},
     "output_type": "display_data"
    },
    {
     "name": "stdout",
     "output_type": "stream",
     "text": [
      "\u001b[02;37m[2021-11-21 00:18:41,639][onir_pt][DEBUG] \u001b[0m\u001b[37m[finished] train pairs: [2.91s] [1024it] [351.57it/s]\u001b[0m\n",
      "\u001b[02;37m[2021-11-21 00:18:41,641][onir_pt][DEBUG] \u001b[0m\u001b[37m[finished] training [2.91s]\u001b[0m\n",
      "\u001b[02;37m[2021-11-21 00:18:41,641][onir_pt][INFO] \u001b[0m\u001b[32mtraining   it=27 loss=0.1820\u001b[0m\n",
      "\u001b[02;37m[2021-11-21 00:18:41,641][onir_pt][DEBUG] \u001b[0m\u001b[37m[starting] validation\u001b[0m\n",
      "\u001b[02;37m[2021-11-21 00:18:41,641][onir_pt][DEBUG] \u001b[0m\u001b[37musing GPU (deterministic)\u001b[0m\n",
      "\u001b[02;37m[2021-11-21 00:18:41,642][onir_pt][DEBUG] \u001b[0m\u001b[37m[starting] batches\u001b[0m\n"
     ]
    },
    {
     "data": {
      "application/vnd.jupyter.widget-view+json": {
       "model_id": "",
       "version_major": 2,
       "version_minor": 0
      },
      "text/plain": [
       "batches:   0%|          | 0/125 [14ms<?, ?it/s]"
      ]
     },
     "metadata": {},
     "output_type": "display_data"
    },
    {
     "name": "stdout",
     "output_type": "stream",
     "text": [
      "\u001b[02;37m[2021-11-21 00:18:41,900][onir_pt][DEBUG] \u001b[0m\u001b[37m[finished] batches: [257ms] [125it] [485.44it/s]\u001b[0m\n",
      "\u001b[02;37m[2021-11-21 00:18:42,002][onir_pt][DEBUG] \u001b[0m\u001b[37m[finished] validation [361ms]\u001b[0m\n",
      "\u001b[02;37m[2021-11-21 00:18:42,002][onir_pt][INFO] \u001b[0m\u001b[32mvalidation it=27 map=0.0116 ndcg=0.0224 P_10=0.0700\u001b[0m\n",
      "\u001b[02;37m[2021-11-21 00:18:42,002][onir_pt][DEBUG] \u001b[0m\u001b[37musing GPU (deterministic)\u001b[0m\n",
      "\u001b[02;37m[2021-11-21 00:18:42,003][onir_pt][DEBUG] \u001b[0m\u001b[37m[starting] training\u001b[0m\n",
      "\u001b[02;37m[2021-11-21 00:18:42,003][onir_pt][DEBUG] \u001b[0m\u001b[37m[starting] train pairs\u001b[0m\n"
     ]
    },
    {
     "data": {
      "application/vnd.jupyter.widget-view+json": {
       "model_id": "",
       "version_major": 2,
       "version_minor": 0
      },
      "text/plain": [
       "train pairs:   0%|          | 0/1024 [14ms<?, ?it/s]"
      ]
     },
     "metadata": {},
     "output_type": "display_data"
    },
    {
     "name": "stdout",
     "output_type": "stream",
     "text": [
      "\u001b[02;37m[2021-11-21 00:18:44,867][onir_pt][DEBUG] \u001b[0m\u001b[37m[finished] train pairs: [2.86s] [1024it] [357.55it/s]\u001b[0m\n",
      "\u001b[02;37m[2021-11-21 00:18:44,868][onir_pt][DEBUG] \u001b[0m\u001b[37m[finished] training [2.87s]\u001b[0m\n",
      "\u001b[02;37m[2021-11-21 00:18:44,868][onir_pt][INFO] \u001b[0m\u001b[32mtraining   it=28 loss=0.1621\u001b[0m\n",
      "\u001b[02;37m[2021-11-21 00:18:44,869][onir_pt][DEBUG] \u001b[0m\u001b[37m[starting] validation\u001b[0m\n",
      "\u001b[02;37m[2021-11-21 00:18:44,869][onir_pt][DEBUG] \u001b[0m\u001b[37musing GPU (deterministic)\u001b[0m\n",
      "\u001b[02;37m[2021-11-21 00:18:44,870][onir_pt][DEBUG] \u001b[0m\u001b[37m[starting] batches\u001b[0m\n"
     ]
    },
    {
     "data": {
      "application/vnd.jupyter.widget-view+json": {
       "model_id": "",
       "version_major": 2,
       "version_minor": 0
      },
      "text/plain": [
       "batches:   0%|          | 0/125 [14ms<?, ?it/s]"
      ]
     },
     "metadata": {},
     "output_type": "display_data"
    },
    {
     "name": "stdout",
     "output_type": "stream",
     "text": [
      "\u001b[02;37m[2021-11-21 00:18:45,098][onir_pt][DEBUG] \u001b[0m\u001b[37m[finished] batches: [228ms] [125it] [548.50it/s]\u001b[0m\n",
      "\u001b[02;37m[2021-11-21 00:18:45,198][onir_pt][DEBUG] \u001b[0m\u001b[37m[finished] validation [329ms]\u001b[0m\n",
      "\u001b[02;37m[2021-11-21 00:18:45,199][onir_pt][INFO] \u001b[0m\u001b[32mvalidation it=28 map=0.0116 ndcg=0.0224 P_10=0.0740\u001b[0m\n",
      "\u001b[02;37m[2021-11-21 00:18:45,199][onir_pt][DEBUG] \u001b[0m\u001b[37musing GPU (deterministic)\u001b[0m\n",
      "\u001b[02;37m[2021-11-21 00:18:45,199][onir_pt][DEBUG] \u001b[0m\u001b[37m[starting] training\u001b[0m\n",
      "\u001b[02;37m[2021-11-21 00:18:45,199][onir_pt][DEBUG] \u001b[0m\u001b[37m[starting] train pairs\u001b[0m\n"
     ]
    },
    {
     "data": {
      "application/vnd.jupyter.widget-view+json": {
       "model_id": "",
       "version_major": 2,
       "version_minor": 0
      },
      "text/plain": [
       "train pairs:   0%|          | 0/1024 [14ms<?, ?it/s]"
      ]
     },
     "metadata": {},
     "output_type": "display_data"
    },
    {
     "name": "stdout",
     "output_type": "stream",
     "text": [
      "\u001b[02;37m[2021-11-21 00:18:48,046][onir_pt][DEBUG] \u001b[0m\u001b[37m[finished] train pairs: [2.85s] [1024it] [359.71it/s]\u001b[0m\n",
      "\u001b[02;37m[2021-11-21 00:18:48,048][onir_pt][DEBUG] \u001b[0m\u001b[37m[finished] training [2.85s]\u001b[0m\n",
      "\u001b[02;37m[2021-11-21 00:18:48,048][onir_pt][INFO] \u001b[0m\u001b[32mtraining   it=29 loss=0.1710\u001b[0m\n",
      "\u001b[02;37m[2021-11-21 00:18:48,048][onir_pt][DEBUG] \u001b[0m\u001b[37m[starting] validation\u001b[0m\n",
      "\u001b[02;37m[2021-11-21 00:18:48,048][onir_pt][DEBUG] \u001b[0m\u001b[37musing GPU (deterministic)\u001b[0m\n",
      "\u001b[02;37m[2021-11-21 00:18:48,049][onir_pt][DEBUG] \u001b[0m\u001b[37m[starting] batches\u001b[0m\n"
     ]
    },
    {
     "data": {
      "application/vnd.jupyter.widget-view+json": {
       "model_id": "",
       "version_major": 2,
       "version_minor": 0
      },
      "text/plain": [
       "batches:   0%|          | 0/125 [14ms<?, ?it/s]"
      ]
     },
     "metadata": {},
     "output_type": "display_data"
    },
    {
     "name": "stdout",
     "output_type": "stream",
     "text": [
      "\u001b[02;37m[2021-11-21 00:18:48,273][onir_pt][DEBUG] \u001b[0m\u001b[37m[finished] batches: [224ms] [125it] [557.26it/s]\u001b[0m\n",
      "\u001b[02;37m[2021-11-21 00:18:48,375][onir_pt][DEBUG] \u001b[0m\u001b[37m[finished] validation [327ms]\u001b[0m\n",
      "\u001b[02;37m[2021-11-21 00:18:48,375][onir_pt][INFO] \u001b[0m\u001b[32mvalidation it=29 map=0.0116 ndcg=0.0225 P_10=0.0740\u001b[0m\n",
      "\u001b[02;37m[2021-11-21 00:18:48,376][onir_pt][DEBUG] \u001b[0m\u001b[37musing GPU (deterministic)\u001b[0m\n",
      "\u001b[02;37m[2021-11-21 00:18:48,376][onir_pt][DEBUG] \u001b[0m\u001b[37m[starting] training\u001b[0m\n",
      "\u001b[02;37m[2021-11-21 00:18:48,376][onir_pt][DEBUG] \u001b[0m\u001b[37m[starting] train pairs\u001b[0m\n"
     ]
    },
    {
     "data": {
      "application/vnd.jupyter.widget-view+json": {
       "model_id": "",
       "version_major": 2,
       "version_minor": 0
      },
      "text/plain": [
       "train pairs:   0%|          | 0/1024 [14ms<?, ?it/s]"
      ]
     },
     "metadata": {},
     "output_type": "display_data"
    },
    {
     "name": "stdout",
     "output_type": "stream",
     "text": [
      "\u001b[02;37m[2021-11-21 00:18:51,272][onir_pt][DEBUG] \u001b[0m\u001b[37m[finished] train pairs: [2.90s] [1024it] [353.68it/s]\u001b[0m\n",
      "\u001b[02;37m[2021-11-21 00:18:51,273][onir_pt][DEBUG] \u001b[0m\u001b[37m[finished] training [2.90s]\u001b[0m\n",
      "\u001b[02;37m[2021-11-21 00:18:51,273][onir_pt][INFO] \u001b[0m\u001b[32mtraining   it=30 loss=0.1638\u001b[0m\n",
      "\u001b[02;37m[2021-11-21 00:18:51,273][onir_pt][DEBUG] \u001b[0m\u001b[37m[starting] validation\u001b[0m\n",
      "\u001b[02;37m[2021-11-21 00:18:51,273][onir_pt][DEBUG] \u001b[0m\u001b[37musing GPU (deterministic)\u001b[0m\n",
      "\u001b[02;37m[2021-11-21 00:18:51,274][onir_pt][DEBUG] \u001b[0m\u001b[37m[starting] batches\u001b[0m\n"
     ]
    },
    {
     "data": {
      "application/vnd.jupyter.widget-view+json": {
       "model_id": "",
       "version_major": 2,
       "version_minor": 0
      },
      "text/plain": [
       "batches:   0%|          | 0/125 [14ms<?, ?it/s]"
      ]
     },
     "metadata": {},
     "output_type": "display_data"
    },
    {
     "name": "stdout",
     "output_type": "stream",
     "text": [
      "\u001b[02;37m[2021-11-21 00:18:51,501][onir_pt][DEBUG] \u001b[0m\u001b[37m[finished] batches: [226ms] [125it] [551.93it/s]\u001b[0m\n",
      "\u001b[02;37m[2021-11-21 00:18:51,602][onir_pt][DEBUG] \u001b[0m\u001b[37m[finished] validation [328ms]\u001b[0m\n",
      "\u001b[02;37m[2021-11-21 00:18:51,603][onir_pt][INFO] \u001b[0m\u001b[32mvalidation it=30 map=0.0116 ndcg=0.0225 P_10=0.0740 <--\u001b[0m\n",
      "\u001b[02;37m[2021-11-21 00:18:51,603][onir_pt][DEBUG] \u001b[0m\u001b[37musing GPU (deterministic)\u001b[0m\n",
      "\u001b[02;37m[2021-11-21 00:18:51,604][onir_pt][DEBUG] \u001b[0m\u001b[37m[starting] training\u001b[0m\n",
      "\u001b[02;37m[2021-11-21 00:18:51,604][onir_pt][DEBUG] \u001b[0m\u001b[37m[starting] train pairs\u001b[0m\n"
     ]
    },
    {
     "data": {
      "application/vnd.jupyter.widget-view+json": {
       "model_id": "",
       "version_major": 2,
       "version_minor": 0
      },
      "text/plain": [
       "train pairs:   0%|          | 0/1024 [14ms<?, ?it/s]"
      ]
     },
     "metadata": {},
     "output_type": "display_data"
    },
    {
     "name": "stdout",
     "output_type": "stream",
     "text": [
      "\u001b[02;37m[2021-11-21 00:18:54,425][onir_pt][DEBUG] \u001b[0m\u001b[37m[finished] train pairs: [2.82s] [1024it] [363.09it/s]\u001b[0m\n",
      "\u001b[02;37m[2021-11-21 00:18:54,426][onir_pt][DEBUG] \u001b[0m\u001b[37m[finished] training [2.82s]\u001b[0m\n",
      "\u001b[02;37m[2021-11-21 00:18:54,426][onir_pt][INFO] \u001b[0m\u001b[32mtraining   it=31 loss=0.1657\u001b[0m\n",
      "\u001b[02;37m[2021-11-21 00:18:54,426][onir_pt][DEBUG] \u001b[0m\u001b[37m[starting] validation\u001b[0m\n",
      "\u001b[02;37m[2021-11-21 00:18:54,427][onir_pt][DEBUG] \u001b[0m\u001b[37musing GPU (deterministic)\u001b[0m\n",
      "\u001b[02;37m[2021-11-21 00:18:54,427][onir_pt][DEBUG] \u001b[0m\u001b[37m[starting] batches\u001b[0m\n"
     ]
    },
    {
     "data": {
      "application/vnd.jupyter.widget-view+json": {
       "model_id": "",
       "version_major": 2,
       "version_minor": 0
      },
      "text/plain": [
       "batches:   0%|          | 0/125 [14ms<?, ?it/s]"
      ]
     },
     "metadata": {},
     "output_type": "display_data"
    },
    {
     "name": "stdout",
     "output_type": "stream",
     "text": [
      "\u001b[02;37m[2021-11-21 00:18:54,654][onir_pt][DEBUG] \u001b[0m\u001b[37m[finished] batches: [227ms] [125it] [551.38it/s]\u001b[0m\n",
      "\u001b[02;37m[2021-11-21 00:18:54,756][onir_pt][DEBUG] \u001b[0m\u001b[37m[finished] validation [329ms]\u001b[0m\n",
      "\u001b[02;37m[2021-11-21 00:18:54,756][onir_pt][INFO] \u001b[0m\u001b[32mvalidation it=31 map=0.0116 ndcg=0.0224 P_10=0.0760\u001b[0m\n",
      "\u001b[02;37m[2021-11-21 00:18:54,756][onir_pt][DEBUG] \u001b[0m\u001b[37musing GPU (deterministic)\u001b[0m\n",
      "\u001b[02;37m[2021-11-21 00:18:54,757][onir_pt][DEBUG] \u001b[0m\u001b[37m[starting] training\u001b[0m\n",
      "\u001b[02;37m[2021-11-21 00:18:54,757][onir_pt][DEBUG] \u001b[0m\u001b[37m[starting] train pairs\u001b[0m\n"
     ]
    },
    {
     "data": {
      "application/vnd.jupyter.widget-view+json": {
       "model_id": "",
       "version_major": 2,
       "version_minor": 0
      },
      "text/plain": [
       "train pairs:   0%|          | 0/1024 [14ms<?, ?it/s]"
      ]
     },
     "metadata": {},
     "output_type": "display_data"
    },
    {
     "name": "stdout",
     "output_type": "stream",
     "text": [
      "\u001b[02;37m[2021-11-21 00:18:57,621][onir_pt][DEBUG] \u001b[0m\u001b[37m[finished] train pairs: [2.86s] [1024it] [357.57it/s]\u001b[0m\n",
      "\u001b[02;37m[2021-11-21 00:18:57,622][onir_pt][DEBUG] \u001b[0m\u001b[37m[finished] training [2.87s]\u001b[0m\n",
      "\u001b[02;37m[2021-11-21 00:18:57,623][onir_pt][INFO] \u001b[0m\u001b[32mtraining   it=32 loss=0.1762\u001b[0m\n",
      "\u001b[02;37m[2021-11-21 00:18:57,623][onir_pt][DEBUG] \u001b[0m\u001b[37m[starting] validation\u001b[0m\n",
      "\u001b[02;37m[2021-11-21 00:18:57,623][onir_pt][DEBUG] \u001b[0m\u001b[37musing GPU (deterministic)\u001b[0m\n",
      "\u001b[02;37m[2021-11-21 00:18:57,623][onir_pt][DEBUG] \u001b[0m\u001b[37m[starting] batches\u001b[0m\n"
     ]
    },
    {
     "data": {
      "application/vnd.jupyter.widget-view+json": {
       "model_id": "",
       "version_major": 2,
       "version_minor": 0
      },
      "text/plain": [
       "batches:   0%|          | 0/125 [14ms<?, ?it/s]"
      ]
     },
     "metadata": {},
     "output_type": "display_data"
    },
    {
     "name": "stdout",
     "output_type": "stream",
     "text": [
      "\u001b[02;37m[2021-11-21 00:18:57,852][onir_pt][DEBUG] \u001b[0m\u001b[37m[finished] batches: [228ms] [125it] [548.13it/s]\u001b[0m\n",
      "\u001b[02;37m[2021-11-21 00:18:57,955][onir_pt][DEBUG] \u001b[0m\u001b[37m[finished] validation [332ms]\u001b[0m\n",
      "\u001b[02;37m[2021-11-21 00:18:57,956][onir_pt][INFO] \u001b[0m\u001b[32mvalidation it=32 map=0.0115 ndcg=0.0224 P_10=0.0780\u001b[0m\n",
      "\u001b[02;37m[2021-11-21 00:18:57,956][onir_pt][DEBUG] \u001b[0m\u001b[37musing GPU (deterministic)\u001b[0m\n",
      "\u001b[02;37m[2021-11-21 00:18:57,956][onir_pt][DEBUG] \u001b[0m\u001b[37m[starting] training\u001b[0m\n",
      "\u001b[02;37m[2021-11-21 00:18:57,956][onir_pt][DEBUG] \u001b[0m\u001b[37m[starting] train pairs\u001b[0m\n"
     ]
    },
    {
     "data": {
      "application/vnd.jupyter.widget-view+json": {
       "model_id": "",
       "version_major": 2,
       "version_minor": 0
      },
      "text/plain": [
       "train pairs:   0%|          | 0/1024 [14ms<?, ?it/s]"
      ]
     },
     "metadata": {},
     "output_type": "display_data"
    },
    {
     "name": "stdout",
     "output_type": "stream",
     "text": [
      "\u001b[02;37m[2021-11-21 00:19:00,829][onir_pt][DEBUG] \u001b[0m\u001b[37m[finished] train pairs: [2.87s] [1024it] [356.48it/s]\u001b[0m\n",
      "\u001b[02;37m[2021-11-21 00:19:00,830][onir_pt][DEBUG] \u001b[0m\u001b[37m[finished] training [2.87s]\u001b[0m\n",
      "\u001b[02;37m[2021-11-21 00:19:00,831][onir_pt][INFO] \u001b[0m\u001b[32mtraining   it=33 loss=0.1667\u001b[0m\n",
      "\u001b[02;37m[2021-11-21 00:19:00,831][onir_pt][DEBUG] \u001b[0m\u001b[37m[starting] validation\u001b[0m\n",
      "\u001b[02;37m[2021-11-21 00:19:00,831][onir_pt][DEBUG] \u001b[0m\u001b[37musing GPU (deterministic)\u001b[0m\n",
      "\u001b[02;37m[2021-11-21 00:19:00,831][onir_pt][DEBUG] \u001b[0m\u001b[37m[starting] batches\u001b[0m\n"
     ]
    },
    {
     "data": {
      "application/vnd.jupyter.widget-view+json": {
       "model_id": "",
       "version_major": 2,
       "version_minor": 0
      },
      "text/plain": [
       "batches:   0%|          | 0/125 [14ms<?, ?it/s]"
      ]
     },
     "metadata": {},
     "output_type": "display_data"
    },
    {
     "name": "stdout",
     "output_type": "stream",
     "text": [
      "\u001b[02;37m[2021-11-21 00:19:01,058][onir_pt][DEBUG] \u001b[0m\u001b[37m[finished] batches: [226ms] [125it] [552.48it/s]\u001b[0m\n",
      "\u001b[02;37m[2021-11-21 00:19:01,160][onir_pt][DEBUG] \u001b[0m\u001b[37m[finished] validation [329ms]\u001b[0m\n",
      "\u001b[02;37m[2021-11-21 00:19:01,162][onir_pt][INFO] \u001b[0m\u001b[32mvalidation it=33 map=0.0116 ndcg=0.0225 P_10=0.0720 <--\u001b[0m\n",
      "\u001b[02;37m[2021-11-21 00:19:01,162][onir_pt][DEBUG] \u001b[0m\u001b[37musing GPU (deterministic)\u001b[0m\n",
      "\u001b[02;37m[2021-11-21 00:19:01,162][onir_pt][DEBUG] \u001b[0m\u001b[37m[starting] training\u001b[0m\n",
      "\u001b[02;37m[2021-11-21 00:19:01,162][onir_pt][DEBUG] \u001b[0m\u001b[37m[starting] train pairs\u001b[0m\n"
     ]
    },
    {
     "data": {
      "application/vnd.jupyter.widget-view+json": {
       "model_id": "",
       "version_major": 2,
       "version_minor": 0
      },
      "text/plain": [
       "train pairs:   0%|          | 0/1024 [14ms<?, ?it/s]"
      ]
     },
     "metadata": {},
     "output_type": "display_data"
    },
    {
     "name": "stdout",
     "output_type": "stream",
     "text": [
      "\u001b[02;37m[2021-11-21 00:19:04,000][onir_pt][DEBUG] \u001b[0m\u001b[37m[finished] train pairs: [2.84s] [1024it] [360.92it/s]\u001b[0m\n",
      "\u001b[02;37m[2021-11-21 00:19:04,001][onir_pt][DEBUG] \u001b[0m\u001b[37m[finished] training [2.84s]\u001b[0m\n",
      "\u001b[02;37m[2021-11-21 00:19:04,001][onir_pt][INFO] \u001b[0m\u001b[32mtraining   it=34 loss=0.1615\u001b[0m\n",
      "\u001b[02;37m[2021-11-21 00:19:04,001][onir_pt][DEBUG] \u001b[0m\u001b[37m[starting] validation\u001b[0m\n",
      "\u001b[02;37m[2021-11-21 00:19:04,002][onir_pt][DEBUG] \u001b[0m\u001b[37musing GPU (deterministic)\u001b[0m\n",
      "\u001b[02;37m[2021-11-21 00:19:04,002][onir_pt][DEBUG] \u001b[0m\u001b[37m[starting] batches\u001b[0m\n"
     ]
    },
    {
     "data": {
      "application/vnd.jupyter.widget-view+json": {
       "model_id": "",
       "version_major": 2,
       "version_minor": 0
      },
      "text/plain": [
       "batches:   0%|          | 0/125 [14ms<?, ?it/s]"
      ]
     },
     "metadata": {},
     "output_type": "display_data"
    },
    {
     "name": "stdout",
     "output_type": "stream",
     "text": [
      "\u001b[02;37m[2021-11-21 00:19:04,230][onir_pt][DEBUG] \u001b[0m\u001b[37m[finished] batches: [227ms] [125it] [550.59it/s]\u001b[0m\n",
      "\u001b[02;37m[2021-11-21 00:19:04,331][onir_pt][DEBUG] \u001b[0m\u001b[37m[finished] validation [329ms]\u001b[0m\n",
      "\u001b[02;37m[2021-11-21 00:19:04,331][onir_pt][INFO] \u001b[0m\u001b[32mvalidation it=34 map=0.0116 ndcg=0.0225 P_10=0.0720\u001b[0m\n",
      "\u001b[02;37m[2021-11-21 00:19:04,332][onir_pt][DEBUG] \u001b[0m\u001b[37musing GPU (deterministic)\u001b[0m\n",
      "\u001b[02;37m[2021-11-21 00:19:04,332][onir_pt][DEBUG] \u001b[0m\u001b[37m[starting] training\u001b[0m\n",
      "\u001b[02;37m[2021-11-21 00:19:04,332][onir_pt][DEBUG] \u001b[0m\u001b[37m[starting] train pairs\u001b[0m\n"
     ]
    },
    {
     "data": {
      "application/vnd.jupyter.widget-view+json": {
       "model_id": "",
       "version_major": 2,
       "version_minor": 0
      },
      "text/plain": [
       "train pairs:   0%|          | 0/1024 [14ms<?, ?it/s]"
      ]
     },
     "metadata": {},
     "output_type": "display_data"
    },
    {
     "name": "stdout",
     "output_type": "stream",
     "text": [
      "\u001b[02;37m[2021-11-21 00:19:07,174][onir_pt][DEBUG] \u001b[0m\u001b[37m[finished] train pairs: [2.84s] [1024it] [360.35it/s]\u001b[0m\n",
      "\u001b[02;37m[2021-11-21 00:19:07,175][onir_pt][DEBUG] \u001b[0m\u001b[37m[finished] training [2.84s]\u001b[0m\n",
      "\u001b[02;37m[2021-11-21 00:19:07,176][onir_pt][INFO] \u001b[0m\u001b[32mtraining   it=35 loss=0.1676\u001b[0m\n",
      "\u001b[02;37m[2021-11-21 00:19:07,176][onir_pt][DEBUG] \u001b[0m\u001b[37m[starting] validation\u001b[0m\n",
      "\u001b[02;37m[2021-11-21 00:19:07,176][onir_pt][DEBUG] \u001b[0m\u001b[37musing GPU (deterministic)\u001b[0m\n",
      "\u001b[02;37m[2021-11-21 00:19:07,176][onir_pt][DEBUG] \u001b[0m\u001b[37m[starting] batches\u001b[0m\n"
     ]
    },
    {
     "data": {
      "application/vnd.jupyter.widget-view+json": {
       "model_id": "",
       "version_major": 2,
       "version_minor": 0
      },
      "text/plain": [
       "batches:   0%|          | 0/125 [14ms<?, ?it/s]"
      ]
     },
     "metadata": {},
     "output_type": "display_data"
    },
    {
     "name": "stdout",
     "output_type": "stream",
     "text": [
      "\u001b[02;37m[2021-11-21 00:19:07,402][onir_pt][DEBUG] \u001b[0m\u001b[37m[finished] batches: [225ms] [125it] [554.45it/s]\u001b[0m\n",
      "\u001b[02;37m[2021-11-21 00:19:07,503][onir_pt][DEBUG] \u001b[0m\u001b[37m[finished] validation [328ms]\u001b[0m\n",
      "\u001b[02;37m[2021-11-21 00:19:07,504][onir_pt][INFO] \u001b[0m\u001b[32mvalidation it=35 map=0.0116 ndcg=0.0225 P_10=0.0700\u001b[0m\n",
      "\u001b[02;37m[2021-11-21 00:19:07,504][onir_pt][DEBUG] \u001b[0m\u001b[37musing GPU (deterministic)\u001b[0m\n",
      "\u001b[02;37m[2021-11-21 00:19:07,505][onir_pt][DEBUG] \u001b[0m\u001b[37m[starting] training\u001b[0m\n",
      "\u001b[02;37m[2021-11-21 00:19:07,505][onir_pt][DEBUG] \u001b[0m\u001b[37m[starting] train pairs\u001b[0m\n"
     ]
    },
    {
     "data": {
      "application/vnd.jupyter.widget-view+json": {
       "model_id": "",
       "version_major": 2,
       "version_minor": 0
      },
      "text/plain": [
       "train pairs:   0%|          | 0/1024 [14ms<?, ?it/s]"
      ]
     },
     "metadata": {},
     "output_type": "display_data"
    },
    {
     "name": "stdout",
     "output_type": "stream",
     "text": [
      "\u001b[02;37m[2021-11-21 00:19:10,322][onir_pt][DEBUG] \u001b[0m\u001b[37m[finished] train pairs: [2.82s] [1024it] [363.48it/s]\u001b[0m\n",
      "\u001b[02;37m[2021-11-21 00:19:10,323][onir_pt][DEBUG] \u001b[0m\u001b[37m[finished] training [2.82s]\u001b[0m\n",
      "\u001b[02;37m[2021-11-21 00:19:10,324][onir_pt][INFO] \u001b[0m\u001b[32mtraining   it=36 loss=0.1753\u001b[0m\n",
      "\u001b[02;37m[2021-11-21 00:19:10,324][onir_pt][DEBUG] \u001b[0m\u001b[37m[starting] validation\u001b[0m\n",
      "\u001b[02;37m[2021-11-21 00:19:10,324][onir_pt][DEBUG] \u001b[0m\u001b[37musing GPU (deterministic)\u001b[0m\n",
      "\u001b[02;37m[2021-11-21 00:19:10,325][onir_pt][DEBUG] \u001b[0m\u001b[37m[starting] batches\u001b[0m\n"
     ]
    },
    {
     "data": {
      "application/vnd.jupyter.widget-view+json": {
       "model_id": "",
       "version_major": 2,
       "version_minor": 0
      },
      "text/plain": [
       "batches:   0%|          | 0/125 [14ms<?, ?it/s]"
      ]
     },
     "metadata": {},
     "output_type": "display_data"
    },
    {
     "name": "stdout",
     "output_type": "stream",
     "text": [
      "\u001b[02;37m[2021-11-21 00:19:10,551][onir_pt][DEBUG] \u001b[0m\u001b[37m[finished] batches: [226ms] [125it] [553.19it/s]\u001b[0m\n",
      "\u001b[02;37m[2021-11-21 00:19:10,650][onir_pt][DEBUG] \u001b[0m\u001b[37m[finished] validation [326ms]\u001b[0m\n",
      "\u001b[02;37m[2021-11-21 00:19:10,651][onir_pt][INFO] \u001b[0m\u001b[32mvalidation it=36 map=0.0116 ndcg=0.0225 P_10=0.0720\u001b[0m\n",
      "\u001b[02;37m[2021-11-21 00:19:10,651][onir_pt][DEBUG] \u001b[0m\u001b[37musing GPU (deterministic)\u001b[0m\n",
      "\u001b[02;37m[2021-11-21 00:19:10,651][onir_pt][DEBUG] \u001b[0m\u001b[37m[starting] training\u001b[0m\n",
      "\u001b[02;37m[2021-11-21 00:19:10,652][onir_pt][DEBUG] \u001b[0m\u001b[37m[starting] train pairs\u001b[0m\n"
     ]
    },
    {
     "data": {
      "application/vnd.jupyter.widget-view+json": {
       "model_id": "",
       "version_major": 2,
       "version_minor": 0
      },
      "text/plain": [
       "train pairs:   0%|          | 0/1024 [14ms<?, ?it/s]"
      ]
     },
     "metadata": {},
     "output_type": "display_data"
    },
    {
     "name": "stdout",
     "output_type": "stream",
     "text": [
      "\u001b[02;37m[2021-11-21 00:19:13,605][onir_pt][DEBUG] \u001b[0m\u001b[37m[finished] train pairs: [2.95s] [1024it] [346.70it/s]\u001b[0m\n",
      "\u001b[02;37m[2021-11-21 00:19:13,606][onir_pt][DEBUG] \u001b[0m\u001b[37m[finished] training [2.96s]\u001b[0m\n",
      "\u001b[02;37m[2021-11-21 00:19:13,607][onir_pt][INFO] \u001b[0m\u001b[32mtraining   it=37 loss=0.1606\u001b[0m\n",
      "\u001b[02;37m[2021-11-21 00:19:13,607][onir_pt][DEBUG] \u001b[0m\u001b[37m[starting] validation\u001b[0m\n",
      "\u001b[02;37m[2021-11-21 00:19:13,607][onir_pt][DEBUG] \u001b[0m\u001b[37musing GPU (deterministic)\u001b[0m\n",
      "\u001b[02;37m[2021-11-21 00:19:13,608][onir_pt][DEBUG] \u001b[0m\u001b[37m[starting] batches\u001b[0m\n"
     ]
    },
    {
     "data": {
      "application/vnd.jupyter.widget-view+json": {
       "model_id": "",
       "version_major": 2,
       "version_minor": 0
      },
      "text/plain": [
       "batches:   0%|          | 0/125 [14ms<?, ?it/s]"
      ]
     },
     "metadata": {},
     "output_type": "display_data"
    },
    {
     "name": "stdout",
     "output_type": "stream",
     "text": [
      "\u001b[02;37m[2021-11-21 00:19:13,864][onir_pt][DEBUG] \u001b[0m\u001b[37m[finished] batches: [256ms] [125it] [487.75it/s]\u001b[0m\n",
      "\u001b[02;37m[2021-11-21 00:19:13,963][onir_pt][DEBUG] \u001b[0m\u001b[37m[finished] validation [356ms]\u001b[0m\n",
      "\u001b[02;37m[2021-11-21 00:19:13,965][onir_pt][INFO] \u001b[0m\u001b[32mvalidation it=37 map=0.0116 ndcg=0.0224 P_10=0.0700 <--\u001b[0m\n",
      "\u001b[02;37m[2021-11-21 00:19:13,965][onir_pt][DEBUG] \u001b[0m\u001b[37musing GPU (deterministic)\u001b[0m\n",
      "\u001b[02;37m[2021-11-21 00:19:13,965][onir_pt][DEBUG] \u001b[0m\u001b[37m[starting] training\u001b[0m\n",
      "\u001b[02;37m[2021-11-21 00:19:13,965][onir_pt][DEBUG] \u001b[0m\u001b[37m[starting] train pairs\u001b[0m\n"
     ]
    },
    {
     "data": {
      "application/vnd.jupyter.widget-view+json": {
       "model_id": "",
       "version_major": 2,
       "version_minor": 0
      },
      "text/plain": [
       "train pairs:   0%|          | 0/1024 [15ms<?, ?it/s]"
      ]
     },
     "metadata": {},
     "output_type": "display_data"
    },
    {
     "name": "stdout",
     "output_type": "stream",
     "text": [
      "\u001b[02;37m[2021-11-21 00:19:16,874][onir_pt][DEBUG] \u001b[0m\u001b[37m[finished] train pairs: [2.91s] [1024it] [352.15it/s]\u001b[0m\n",
      "\u001b[02;37m[2021-11-21 00:19:16,875][onir_pt][DEBUG] \u001b[0m\u001b[37m[finished] training [2.91s]\u001b[0m\n",
      "\u001b[02;37m[2021-11-21 00:19:16,875][onir_pt][INFO] \u001b[0m\u001b[32mtraining   it=38 loss=0.1708\u001b[0m\n",
      "\u001b[02;37m[2021-11-21 00:19:16,875][onir_pt][DEBUG] \u001b[0m\u001b[37m[starting] validation\u001b[0m\n",
      "\u001b[02;37m[2021-11-21 00:19:16,876][onir_pt][DEBUG] \u001b[0m\u001b[37musing GPU (deterministic)\u001b[0m\n",
      "\u001b[02;37m[2021-11-21 00:19:16,876][onir_pt][DEBUG] \u001b[0m\u001b[37m[starting] batches\u001b[0m\n"
     ]
    },
    {
     "data": {
      "application/vnd.jupyter.widget-view+json": {
       "model_id": "",
       "version_major": 2,
       "version_minor": 0
      },
      "text/plain": [
       "batches:   0%|          | 0/125 [14ms<?, ?it/s]"
      ]
     },
     "metadata": {},
     "output_type": "display_data"
    },
    {
     "name": "stdout",
     "output_type": "stream",
     "text": [
      "\u001b[02;37m[2021-11-21 00:19:17,103][onir_pt][DEBUG] \u001b[0m\u001b[37m[finished] batches: [227ms] [125it] [551.87it/s]\u001b[0m\n",
      "\u001b[02;37m[2021-11-21 00:19:17,204][onir_pt][DEBUG] \u001b[0m\u001b[37m[finished] validation [328ms]\u001b[0m\n",
      "\u001b[02;37m[2021-11-21 00:19:17,204][onir_pt][INFO] \u001b[0m\u001b[32mvalidation it=38 map=0.0116 ndcg=0.0224 P_10=0.0700\u001b[0m\n",
      "\u001b[02;37m[2021-11-21 00:19:17,204][onir_pt][DEBUG] \u001b[0m\u001b[37musing GPU (deterministic)\u001b[0m\n",
      "\u001b[02;37m[2021-11-21 00:19:17,205][onir_pt][DEBUG] \u001b[0m\u001b[37m[starting] training\u001b[0m\n",
      "\u001b[02;37m[2021-11-21 00:19:17,205][onir_pt][DEBUG] \u001b[0m\u001b[37m[starting] train pairs\u001b[0m\n"
     ]
    },
    {
     "data": {
      "application/vnd.jupyter.widget-view+json": {
       "model_id": "",
       "version_major": 2,
       "version_minor": 0
      },
      "text/plain": [
       "train pairs:   0%|          | 0/1024 [14ms<?, ?it/s]"
      ]
     },
     "metadata": {},
     "output_type": "display_data"
    },
    {
     "name": "stdout",
     "output_type": "stream",
     "text": [
      "\u001b[02;37m[2021-11-21 00:19:20,047][onir_pt][DEBUG] \u001b[0m\u001b[37m[finished] train pairs: [2.84s] [1024it] [360.35it/s]\u001b[0m\n",
      "\u001b[02;37m[2021-11-21 00:19:20,048][onir_pt][DEBUG] \u001b[0m\u001b[37m[finished] training [2.84s]\u001b[0m\n",
      "\u001b[02;37m[2021-11-21 00:19:20,048][onir_pt][INFO] \u001b[0m\u001b[32mtraining   it=39 loss=0.1641\u001b[0m\n",
      "\u001b[02;37m[2021-11-21 00:19:20,048][onir_pt][DEBUG] \u001b[0m\u001b[37m[starting] validation\u001b[0m\n",
      "\u001b[02;37m[2021-11-21 00:19:20,048][onir_pt][DEBUG] \u001b[0m\u001b[37musing GPU (deterministic)\u001b[0m\n",
      "\u001b[02;37m[2021-11-21 00:19:20,049][onir_pt][DEBUG] \u001b[0m\u001b[37m[starting] batches\u001b[0m\n"
     ]
    },
    {
     "data": {
      "application/vnd.jupyter.widget-view+json": {
       "model_id": "",
       "version_major": 2,
       "version_minor": 0
      },
      "text/plain": [
       "batches:   0%|          | 0/125 [14ms<?, ?it/s]"
      ]
     },
     "metadata": {},
     "output_type": "display_data"
    },
    {
     "name": "stdout",
     "output_type": "stream",
     "text": [
      "\u001b[02;37m[2021-11-21 00:19:20,277][onir_pt][DEBUG] \u001b[0m\u001b[37m[finished] batches: [227ms] [125it] [549.74it/s]\u001b[0m\n",
      "\u001b[02;37m[2021-11-21 00:19:20,377][onir_pt][DEBUG] \u001b[0m\u001b[37m[finished] validation [329ms]\u001b[0m\n",
      "\u001b[02;37m[2021-11-21 00:19:20,379][onir_pt][INFO] \u001b[0m\u001b[32mvalidation it=39 map=0.0116 ndcg=0.0225 P_10=0.0700 <--\u001b[0m\n",
      "\u001b[02;37m[2021-11-21 00:19:20,379][onir_pt][DEBUG] \u001b[0m\u001b[37musing GPU (deterministic)\u001b[0m\n",
      "\u001b[02;37m[2021-11-21 00:19:20,379][onir_pt][DEBUG] \u001b[0m\u001b[37m[starting] training\u001b[0m\n",
      "\u001b[02;37m[2021-11-21 00:19:20,379][onir_pt][DEBUG] \u001b[0m\u001b[37m[starting] train pairs\u001b[0m\n"
     ]
    },
    {
     "data": {
      "application/vnd.jupyter.widget-view+json": {
       "model_id": "",
       "version_major": 2,
       "version_minor": 0
      },
      "text/plain": [
       "train pairs:   0%|          | 0/1024 [14ms<?, ?it/s]"
      ]
     },
     "metadata": {},
     "output_type": "display_data"
    },
    {
     "name": "stdout",
     "output_type": "stream",
     "text": [
      "\u001b[02;37m[2021-11-21 00:19:23,213][onir_pt][DEBUG] \u001b[0m\u001b[37m[finished] train pairs: [2.83s] [1024it] [361.36it/s]\u001b[0m\n",
      "\u001b[02;37m[2021-11-21 00:19:23,215][onir_pt][DEBUG] \u001b[0m\u001b[37m[finished] training [2.84s]\u001b[0m\n",
      "\u001b[02;37m[2021-11-21 00:19:23,215][onir_pt][INFO] \u001b[0m\u001b[32mtraining   it=40 loss=0.1741\u001b[0m\n",
      "\u001b[02;37m[2021-11-21 00:19:23,215][onir_pt][DEBUG] \u001b[0m\u001b[37m[starting] validation\u001b[0m\n",
      "\u001b[02;37m[2021-11-21 00:19:23,215][onir_pt][DEBUG] \u001b[0m\u001b[37musing GPU (deterministic)\u001b[0m\n",
      "\u001b[02;37m[2021-11-21 00:19:23,216][onir_pt][DEBUG] \u001b[0m\u001b[37m[starting] batches\u001b[0m\n"
     ]
    },
    {
     "data": {
      "application/vnd.jupyter.widget-view+json": {
       "model_id": "",
       "version_major": 2,
       "version_minor": 0
      },
      "text/plain": [
       "batches:   0%|          | 0/125 [14ms<?, ?it/s]"
      ]
     },
     "metadata": {},
     "output_type": "display_data"
    },
    {
     "name": "stdout",
     "output_type": "stream",
     "text": [
      "\u001b[02;37m[2021-11-21 00:19:23,444][onir_pt][DEBUG] \u001b[0m\u001b[37m[finished] batches: [228ms] [125it] [548.56it/s]\u001b[0m\n",
      "\u001b[02;37m[2021-11-21 00:19:23,546][onir_pt][DEBUG] \u001b[0m\u001b[37m[finished] validation [331ms]\u001b[0m\n",
      "\u001b[02;37m[2021-11-21 00:19:23,547][onir_pt][INFO] \u001b[0m\u001b[32mvalidation it=40 map=0.0117 ndcg=0.0227 P_10=0.0700 <--\u001b[0m\n",
      "\u001b[02;37m[2021-11-21 00:19:23,547][onir_pt][DEBUG] \u001b[0m\u001b[37musing GPU (deterministic)\u001b[0m\n",
      "\u001b[02;37m[2021-11-21 00:19:23,548][onir_pt][DEBUG] \u001b[0m\u001b[37m[starting] training\u001b[0m\n",
      "\u001b[02;37m[2021-11-21 00:19:23,548][onir_pt][DEBUG] \u001b[0m\u001b[37m[starting] train pairs\u001b[0m\n"
     ]
    },
    {
     "data": {
      "application/vnd.jupyter.widget-view+json": {
       "model_id": "",
       "version_major": 2,
       "version_minor": 0
      },
      "text/plain": [
       "train pairs:   0%|          | 0/1024 [14ms<?, ?it/s]"
      ]
     },
     "metadata": {},
     "output_type": "display_data"
    },
    {
     "name": "stdout",
     "output_type": "stream",
     "text": [
      "\u001b[02;37m[2021-11-21 00:19:26,387][onir_pt][DEBUG] \u001b[0m\u001b[37m[finished] train pairs: [2.84s] [1024it] [360.74it/s]\u001b[0m\n",
      "\u001b[02;37m[2021-11-21 00:19:26,388][onir_pt][DEBUG] \u001b[0m\u001b[37m[finished] training [2.84s]\u001b[0m\n",
      "\u001b[02;37m[2021-11-21 00:19:26,388][onir_pt][INFO] \u001b[0m\u001b[32mtraining   it=41 loss=0.1692\u001b[0m\n",
      "\u001b[02;37m[2021-11-21 00:19:26,388][onir_pt][DEBUG] \u001b[0m\u001b[37m[starting] validation\u001b[0m\n",
      "\u001b[02;37m[2021-11-21 00:19:26,388][onir_pt][DEBUG] \u001b[0m\u001b[37musing GPU (deterministic)\u001b[0m\n",
      "\u001b[02;37m[2021-11-21 00:19:26,389][onir_pt][DEBUG] \u001b[0m\u001b[37m[starting] batches\u001b[0m\n"
     ]
    },
    {
     "data": {
      "application/vnd.jupyter.widget-view+json": {
       "model_id": "",
       "version_major": 2,
       "version_minor": 0
      },
      "text/plain": [
       "batches:   0%|          | 0/125 [14ms<?, ?it/s]"
      ]
     },
     "metadata": {},
     "output_type": "display_data"
    },
    {
     "name": "stdout",
     "output_type": "stream",
     "text": [
      "\u001b[02;37m[2021-11-21 00:19:26,617][onir_pt][DEBUG] \u001b[0m\u001b[37m[finished] batches: [227ms] [125it] [550.56it/s]\u001b[0m\n",
      "\u001b[02;37m[2021-11-21 00:19:26,726][onir_pt][DEBUG] \u001b[0m\u001b[37m[finished] validation [338ms]\u001b[0m\n",
      "\u001b[02;37m[2021-11-21 00:19:26,727][onir_pt][INFO] \u001b[0m\u001b[32mvalidation it=41 map=0.0116 ndcg=0.0225 P_10=0.0700\u001b[0m\n",
      "\u001b[02;37m[2021-11-21 00:19:26,728][onir_pt][DEBUG] \u001b[0m\u001b[37musing GPU (deterministic)\u001b[0m\n",
      "\u001b[02;37m[2021-11-21 00:19:26,728][onir_pt][DEBUG] \u001b[0m\u001b[37m[starting] training\u001b[0m\n",
      "\u001b[02;37m[2021-11-21 00:19:26,729][onir_pt][DEBUG] \u001b[0m\u001b[37m[starting] train pairs\u001b[0m\n"
     ]
    },
    {
     "data": {
      "application/vnd.jupyter.widget-view+json": {
       "model_id": "",
       "version_major": 2,
       "version_minor": 0
      },
      "text/plain": [
       "train pairs:   0%|          | 0/1024 [15ms<?, ?it/s]"
      ]
     },
     "metadata": {},
     "output_type": "display_data"
    },
    {
     "name": "stdout",
     "output_type": "stream",
     "text": [
      "\u001b[02;37m[2021-11-21 00:19:29,582][onir_pt][DEBUG] \u001b[0m\u001b[37m[finished] train pairs: [2.85s] [1024it] [358.90it/s]\u001b[0m\n",
      "\u001b[02;37m[2021-11-21 00:19:29,583][onir_pt][DEBUG] \u001b[0m\u001b[37m[finished] training [2.86s]\u001b[0m\n",
      "\u001b[02;37m[2021-11-21 00:19:29,583][onir_pt][INFO] \u001b[0m\u001b[32mtraining   it=42 loss=0.1687\u001b[0m\n",
      "\u001b[02;37m[2021-11-21 00:19:29,584][onir_pt][DEBUG] \u001b[0m\u001b[37m[starting] validation\u001b[0m\n",
      "\u001b[02;37m[2021-11-21 00:19:29,584][onir_pt][DEBUG] \u001b[0m\u001b[37musing GPU (deterministic)\u001b[0m\n",
      "\u001b[02;37m[2021-11-21 00:19:29,585][onir_pt][DEBUG] \u001b[0m\u001b[37m[starting] batches\u001b[0m\n"
     ]
    },
    {
     "data": {
      "application/vnd.jupyter.widget-view+json": {
       "model_id": "",
       "version_major": 2,
       "version_minor": 0
      },
      "text/plain": [
       "batches:   0%|          | 0/125 [14ms<?, ?it/s]"
      ]
     },
     "metadata": {},
     "output_type": "display_data"
    },
    {
     "name": "stdout",
     "output_type": "stream",
     "text": [
      "\u001b[02;37m[2021-11-21 00:19:29,814][onir_pt][DEBUG] \u001b[0m\u001b[37m[finished] batches: [229ms] [125it] [545.75it/s]\u001b[0m\n",
      "\u001b[02;37m[2021-11-21 00:19:29,918][onir_pt][DEBUG] \u001b[0m\u001b[37m[finished] validation [334ms]\u001b[0m\n",
      "\u001b[02;37m[2021-11-21 00:19:29,918][onir_pt][INFO] \u001b[0m\u001b[32mvalidation it=42 map=0.0116 ndcg=0.0224 P_10=0.0700\u001b[0m\n",
      "\u001b[02;37m[2021-11-21 00:19:29,919][onir_pt][DEBUG] \u001b[0m\u001b[37musing GPU (deterministic)\u001b[0m\n",
      "\u001b[02;37m[2021-11-21 00:19:29,919][onir_pt][DEBUG] \u001b[0m\u001b[37m[starting] training\u001b[0m\n",
      "\u001b[02;37m[2021-11-21 00:19:29,919][onir_pt][DEBUG] \u001b[0m\u001b[37m[starting] train pairs\u001b[0m\n"
     ]
    },
    {
     "data": {
      "application/vnd.jupyter.widget-view+json": {
       "model_id": "",
       "version_major": 2,
       "version_minor": 0
      },
      "text/plain": [
       "train pairs:   0%|          | 0/1024 [14ms<?, ?it/s]"
      ]
     },
     "metadata": {},
     "output_type": "display_data"
    },
    {
     "name": "stdout",
     "output_type": "stream",
     "text": [
      "\u001b[02;37m[2021-11-21 00:19:32,774][onir_pt][DEBUG] \u001b[0m\u001b[37m[finished] train pairs: [2.85s] [1024it] [358.78it/s]\u001b[0m\n",
      "\u001b[02;37m[2021-11-21 00:19:32,775][onir_pt][DEBUG] \u001b[0m\u001b[37m[finished] training [2.86s]\u001b[0m\n",
      "\u001b[02;37m[2021-11-21 00:19:32,775][onir_pt][INFO] \u001b[0m\u001b[32mtraining   it=43 loss=0.1697\u001b[0m\n",
      "\u001b[02;37m[2021-11-21 00:19:32,775][onir_pt][DEBUG] \u001b[0m\u001b[37m[starting] validation\u001b[0m\n",
      "\u001b[02;37m[2021-11-21 00:19:32,775][onir_pt][DEBUG] \u001b[0m\u001b[37musing GPU (deterministic)\u001b[0m\n",
      "\u001b[02;37m[2021-11-21 00:19:32,776][onir_pt][DEBUG] \u001b[0m\u001b[37m[starting] batches\u001b[0m\n"
     ]
    },
    {
     "data": {
      "application/vnd.jupyter.widget-view+json": {
       "model_id": "",
       "version_major": 2,
       "version_minor": 0
      },
      "text/plain": [
       "batches:   0%|          | 0/125 [14ms<?, ?it/s]"
      ]
     },
     "metadata": {},
     "output_type": "display_data"
    },
    {
     "name": "stdout",
     "output_type": "stream",
     "text": [
      "\u001b[02;37m[2021-11-21 00:19:33,002][onir_pt][DEBUG] \u001b[0m\u001b[37m[finished] batches: [226ms] [125it] [553.67it/s]\u001b[0m\n",
      "\u001b[02;37m[2021-11-21 00:19:33,105][onir_pt][DEBUG] \u001b[0m\u001b[37m[finished] validation [330ms]\u001b[0m\n",
      "\u001b[02;37m[2021-11-21 00:19:33,107][onir_pt][INFO] \u001b[0m\u001b[32mvalidation it=43 map=0.0117 ndcg=0.0227 P_10=0.0720 <--\u001b[0m\n",
      "\u001b[02;37m[2021-11-21 00:19:33,107][onir_pt][DEBUG] \u001b[0m\u001b[37musing GPU (deterministic)\u001b[0m\n",
      "\u001b[02;37m[2021-11-21 00:19:33,108][onir_pt][DEBUG] \u001b[0m\u001b[37m[starting] training\u001b[0m\n",
      "\u001b[02;37m[2021-11-21 00:19:33,108][onir_pt][DEBUG] \u001b[0m\u001b[37m[starting] train pairs\u001b[0m\n"
     ]
    },
    {
     "data": {
      "application/vnd.jupyter.widget-view+json": {
       "model_id": "",
       "version_major": 2,
       "version_minor": 0
      },
      "text/plain": [
       "train pairs:   0%|          | 0/1024 [14ms<?, ?it/s]"
      ]
     },
     "metadata": {},
     "output_type": "display_data"
    },
    {
     "name": "stdout",
     "output_type": "stream",
     "text": [
      "\u001b[02;37m[2021-11-21 00:19:35,939][onir_pt][DEBUG] \u001b[0m\u001b[37m[finished] train pairs: [2.83s] [1024it] [361.70it/s]\u001b[0m\n",
      "\u001b[02;37m[2021-11-21 00:19:35,941][onir_pt][DEBUG] \u001b[0m\u001b[37m[finished] training [2.83s]\u001b[0m\n",
      "\u001b[02;37m[2021-11-21 00:19:35,941][onir_pt][INFO] \u001b[0m\u001b[32mtraining   it=44 loss=0.1616\u001b[0m\n",
      "\u001b[02;37m[2021-11-21 00:19:35,941][onir_pt][DEBUG] \u001b[0m\u001b[37m[starting] validation\u001b[0m\n",
      "\u001b[02;37m[2021-11-21 00:19:35,941][onir_pt][DEBUG] \u001b[0m\u001b[37musing GPU (deterministic)\u001b[0m\n",
      "\u001b[02;37m[2021-11-21 00:19:35,942][onir_pt][DEBUG] \u001b[0m\u001b[37m[starting] batches\u001b[0m\n"
     ]
    },
    {
     "data": {
      "application/vnd.jupyter.widget-view+json": {
       "model_id": "",
       "version_major": 2,
       "version_minor": 0
      },
      "text/plain": [
       "batches:   0%|          | 0/125 [14ms<?, ?it/s]"
      ]
     },
     "metadata": {},
     "output_type": "display_data"
    },
    {
     "name": "stdout",
     "output_type": "stream",
     "text": [
      "\u001b[02;37m[2021-11-21 00:19:36,168][onir_pt][DEBUG] \u001b[0m\u001b[37m[finished] batches: [226ms] [125it] [552.74it/s]\u001b[0m\n",
      "\u001b[02;37m[2021-11-21 00:19:36,271][onir_pt][DEBUG] \u001b[0m\u001b[37m[finished] validation [330ms]\u001b[0m\n",
      "\u001b[02;37m[2021-11-21 00:19:36,273][onir_pt][INFO] \u001b[0m\u001b[32mvalidation it=44 map=0.0117 ndcg=0.0227 P_10=0.0720 <--\u001b[0m\n",
      "\u001b[02;37m[2021-11-21 00:19:36,273][onir_pt][DEBUG] \u001b[0m\u001b[37musing GPU (deterministic)\u001b[0m\n",
      "\u001b[02;37m[2021-11-21 00:19:36,273][onir_pt][DEBUG] \u001b[0m\u001b[37m[starting] training\u001b[0m\n",
      "\u001b[02;37m[2021-11-21 00:19:36,274][onir_pt][DEBUG] \u001b[0m\u001b[37m[starting] train pairs\u001b[0m\n"
     ]
    },
    {
     "data": {
      "application/vnd.jupyter.widget-view+json": {
       "model_id": "",
       "version_major": 2,
       "version_minor": 0
      },
      "text/plain": [
       "train pairs:   0%|          | 0/1024 [14ms<?, ?it/s]"
      ]
     },
     "metadata": {},
     "output_type": "display_data"
    },
    {
     "name": "stdout",
     "output_type": "stream",
     "text": [
      "\u001b[02;37m[2021-11-21 00:19:39,110][onir_pt][DEBUG] \u001b[0m\u001b[37m[finished] train pairs: [2.84s] [1024it] [361.07it/s]\u001b[0m\n",
      "\u001b[02;37m[2021-11-21 00:19:39,111][onir_pt][DEBUG] \u001b[0m\u001b[37m[finished] training [2.84s]\u001b[0m\n",
      "\u001b[02;37m[2021-11-21 00:19:39,111][onir_pt][INFO] \u001b[0m\u001b[32mtraining   it=45 loss=0.1735\u001b[0m\n",
      "\u001b[02;37m[2021-11-21 00:19:39,111][onir_pt][DEBUG] \u001b[0m\u001b[37m[starting] validation\u001b[0m\n",
      "\u001b[02;37m[2021-11-21 00:19:39,111][onir_pt][DEBUG] \u001b[0m\u001b[37musing GPU (deterministic)\u001b[0m\n",
      "\u001b[02;37m[2021-11-21 00:19:39,112][onir_pt][DEBUG] \u001b[0m\u001b[37m[starting] batches\u001b[0m\n"
     ]
    },
    {
     "data": {
      "application/vnd.jupyter.widget-view+json": {
       "model_id": "",
       "version_major": 2,
       "version_minor": 0
      },
      "text/plain": [
       "batches:   0%|          | 0/125 [13ms<?, ?it/s]"
      ]
     },
     "metadata": {},
     "output_type": "display_data"
    },
    {
     "name": "stdout",
     "output_type": "stream",
     "text": [
      "\u001b[02;37m[2021-11-21 00:19:39,339][onir_pt][DEBUG] \u001b[0m\u001b[37m[finished] batches: [226ms] [125it] [553.16it/s]\u001b[0m\n",
      "\u001b[02;37m[2021-11-21 00:19:39,439][onir_pt][DEBUG] \u001b[0m\u001b[37m[finished] validation [327ms]\u001b[0m\n",
      "\u001b[02;37m[2021-11-21 00:19:39,439][onir_pt][INFO] \u001b[0m\u001b[32mvalidation it=45 map=0.0116 ndcg=0.0226 P_10=0.0700\u001b[0m\n",
      "\u001b[02;37m[2021-11-21 00:19:39,439][onir_pt][DEBUG] \u001b[0m\u001b[37musing GPU (deterministic)\u001b[0m\n",
      "\u001b[02;37m[2021-11-21 00:19:39,440][onir_pt][DEBUG] \u001b[0m\u001b[37m[starting] training\u001b[0m\n",
      "\u001b[02;37m[2021-11-21 00:19:39,440][onir_pt][DEBUG] \u001b[0m\u001b[37m[starting] train pairs\u001b[0m\n"
     ]
    },
    {
     "data": {
      "application/vnd.jupyter.widget-view+json": {
       "model_id": "",
       "version_major": 2,
       "version_minor": 0
      },
      "text/plain": [
       "train pairs:   0%|          | 0/1024 [14ms<?, ?it/s]"
      ]
     },
     "metadata": {},
     "output_type": "display_data"
    },
    {
     "name": "stdout",
     "output_type": "stream",
     "text": [
      "\u001b[02;37m[2021-11-21 00:19:42,272][onir_pt][DEBUG] \u001b[0m\u001b[37m[finished] train pairs: [2.83s] [1024it] [361.64it/s]\u001b[0m\n",
      "\u001b[02;37m[2021-11-21 00:19:42,273][onir_pt][DEBUG] \u001b[0m\u001b[37m[finished] training [2.83s]\u001b[0m\n",
      "\u001b[02;37m[2021-11-21 00:19:42,273][onir_pt][INFO] \u001b[0m\u001b[32mtraining   it=46 loss=0.1755\u001b[0m\n",
      "\u001b[02;37m[2021-11-21 00:19:42,273][onir_pt][DEBUG] \u001b[0m\u001b[37m[starting] validation\u001b[0m\n",
      "\u001b[02;37m[2021-11-21 00:19:42,274][onir_pt][DEBUG] \u001b[0m\u001b[37musing GPU (deterministic)\u001b[0m\n",
      "\u001b[02;37m[2021-11-21 00:19:42,274][onir_pt][DEBUG] \u001b[0m\u001b[37m[starting] batches\u001b[0m\n"
     ]
    },
    {
     "data": {
      "application/vnd.jupyter.widget-view+json": {
       "model_id": "",
       "version_major": 2,
       "version_minor": 0
      },
      "text/plain": [
       "batches:   0%|          | 0/125 [14ms<?, ?it/s]"
      ]
     },
     "metadata": {},
     "output_type": "display_data"
    },
    {
     "name": "stdout",
     "output_type": "stream",
     "text": [
      "\u001b[02;37m[2021-11-21 00:19:42,501][onir_pt][DEBUG] \u001b[0m\u001b[37m[finished] batches: [226ms] [125it] [553.28it/s]\u001b[0m\n",
      "\u001b[02;37m[2021-11-21 00:19:42,602][onir_pt][DEBUG] \u001b[0m\u001b[37m[finished] validation [328ms]\u001b[0m\n",
      "\u001b[02;37m[2021-11-21 00:19:42,602][onir_pt][INFO] \u001b[0m\u001b[32mvalidation it=46 map=0.0117 ndcg=0.0227 P_10=0.0720\u001b[0m\n",
      "\u001b[02;37m[2021-11-21 00:19:42,602][onir_pt][DEBUG] \u001b[0m\u001b[37musing GPU (deterministic)\u001b[0m\n",
      "\u001b[02;37m[2021-11-21 00:19:42,603][onir_pt][DEBUG] \u001b[0m\u001b[37m[starting] training\u001b[0m\n",
      "\u001b[02;37m[2021-11-21 00:19:42,603][onir_pt][DEBUG] \u001b[0m\u001b[37m[starting] train pairs\u001b[0m\n"
     ]
    },
    {
     "data": {
      "application/vnd.jupyter.widget-view+json": {
       "model_id": "",
       "version_major": 2,
       "version_minor": 0
      },
      "text/plain": [
       "train pairs:   0%|          | 0/1024 [14ms<?, ?it/s]"
      ]
     },
     "metadata": {},
     "output_type": "display_data"
    },
    {
     "name": "stdout",
     "output_type": "stream",
     "text": [
      "\u001b[02;37m[2021-11-21 00:19:45,423][onir_pt][DEBUG] \u001b[0m\u001b[37m[finished] train pairs: [2.82s] [1024it] [363.13it/s]\u001b[0m\n",
      "\u001b[02;37m[2021-11-21 00:19:45,424][onir_pt][DEBUG] \u001b[0m\u001b[37m[finished] training [2.82s]\u001b[0m\n",
      "\u001b[02;37m[2021-11-21 00:19:45,425][onir_pt][INFO] \u001b[0m\u001b[32mtraining   it=47 loss=0.1641\u001b[0m\n",
      "\u001b[02;37m[2021-11-21 00:19:45,425][onir_pt][DEBUG] \u001b[0m\u001b[37m[starting] validation\u001b[0m\n",
      "\u001b[02;37m[2021-11-21 00:19:45,425][onir_pt][DEBUG] \u001b[0m\u001b[37musing GPU (deterministic)\u001b[0m\n",
      "\u001b[02;37m[2021-11-21 00:19:45,425][onir_pt][DEBUG] \u001b[0m\u001b[37m[starting] batches\u001b[0m\n"
     ]
    },
    {
     "data": {
      "application/vnd.jupyter.widget-view+json": {
       "model_id": "",
       "version_major": 2,
       "version_minor": 0
      },
      "text/plain": [
       "batches:   0%|          | 0/125 [14ms<?, ?it/s]"
      ]
     },
     "metadata": {},
     "output_type": "display_data"
    },
    {
     "name": "stdout",
     "output_type": "stream",
     "text": [
      "\u001b[02;37m[2021-11-21 00:19:45,652][onir_pt][DEBUG] \u001b[0m\u001b[37m[finished] batches: [227ms] [125it] [551.68it/s]\u001b[0m\n",
      "\u001b[02;37m[2021-11-21 00:19:45,752][onir_pt][DEBUG] \u001b[0m\u001b[37m[finished] validation [328ms]\u001b[0m\n",
      "\u001b[02;37m[2021-11-21 00:19:45,754][onir_pt][INFO] \u001b[0m\u001b[32mvalidation it=47 map=0.0117 ndcg=0.0226 P_10=0.0720 <--\u001b[0m\n",
      "\u001b[02;37m[2021-11-21 00:19:45,754][onir_pt][DEBUG] \u001b[0m\u001b[37musing GPU (deterministic)\u001b[0m\n",
      "\u001b[02;37m[2021-11-21 00:19:45,754][onir_pt][DEBUG] \u001b[0m\u001b[37m[starting] training\u001b[0m\n",
      "\u001b[02;37m[2021-11-21 00:19:45,755][onir_pt][DEBUG] \u001b[0m\u001b[37m[starting] train pairs\u001b[0m\n"
     ]
    },
    {
     "data": {
      "application/vnd.jupyter.widget-view+json": {
       "model_id": "",
       "version_major": 2,
       "version_minor": 0
      },
      "text/plain": [
       "train pairs:   0%|          | 0/1024 [14ms<?, ?it/s]"
      ]
     },
     "metadata": {},
     "output_type": "display_data"
    },
    {
     "name": "stdout",
     "output_type": "stream",
     "text": [
      "\u001b[02;37m[2021-11-21 00:19:48,577][onir_pt][DEBUG] \u001b[0m\u001b[37m[finished] train pairs: [2.82s] [1024it] [362.83it/s]\u001b[0m\n",
      "\u001b[02;37m[2021-11-21 00:19:48,579][onir_pt][DEBUG] \u001b[0m\u001b[37m[finished] training [2.82s]\u001b[0m\n",
      "\u001b[02;37m[2021-11-21 00:19:48,579][onir_pt][INFO] \u001b[0m\u001b[32mtraining   it=48 loss=0.1618\u001b[0m\n",
      "\u001b[02;37m[2021-11-21 00:19:48,579][onir_pt][DEBUG] \u001b[0m\u001b[37m[starting] validation\u001b[0m\n",
      "\u001b[02;37m[2021-11-21 00:19:48,579][onir_pt][DEBUG] \u001b[0m\u001b[37musing GPU (deterministic)\u001b[0m\n",
      "\u001b[02;37m[2021-11-21 00:19:48,580][onir_pt][DEBUG] \u001b[0m\u001b[37m[starting] batches\u001b[0m\n"
     ]
    },
    {
     "data": {
      "application/vnd.jupyter.widget-view+json": {
       "model_id": "",
       "version_major": 2,
       "version_minor": 0
      },
      "text/plain": [
       "batches:   0%|          | 0/125 [14ms<?, ?it/s]"
      ]
     },
     "metadata": {},
     "output_type": "display_data"
    },
    {
     "name": "stdout",
     "output_type": "stream",
     "text": [
      "\u001b[02;37m[2021-11-21 00:19:48,807][onir_pt][DEBUG] \u001b[0m\u001b[37m[finished] batches: [227ms] [125it] [550.62it/s]\u001b[0m\n",
      "\u001b[02;37m[2021-11-21 00:19:48,909][onir_pt][DEBUG] \u001b[0m\u001b[37m[finished] validation [330ms]\u001b[0m\n",
      "\u001b[02;37m[2021-11-21 00:19:48,911][onir_pt][INFO] \u001b[0m\u001b[32mvalidation it=48 map=0.0117 ndcg=0.0227 P_10=0.0720 <--\u001b[0m\n",
      "\u001b[02;37m[2021-11-21 00:19:48,911][onir_pt][DEBUG] \u001b[0m\u001b[37musing GPU (deterministic)\u001b[0m\n",
      "\u001b[02;37m[2021-11-21 00:19:48,911][onir_pt][DEBUG] \u001b[0m\u001b[37m[starting] training\u001b[0m\n",
      "\u001b[02;37m[2021-11-21 00:19:48,912][onir_pt][DEBUG] \u001b[0m\u001b[37m[starting] train pairs\u001b[0m\n"
     ]
    },
    {
     "data": {
      "application/vnd.jupyter.widget-view+json": {
       "model_id": "",
       "version_major": 2,
       "version_minor": 0
      },
      "text/plain": [
       "train pairs:   0%|          | 0/1024 [14ms<?, ?it/s]"
      ]
     },
     "metadata": {},
     "output_type": "display_data"
    },
    {
     "name": "stdout",
     "output_type": "stream",
     "text": [
      "\u001b[02;37m[2021-11-21 00:19:51,734][onir_pt][DEBUG] \u001b[0m\u001b[37m[finished] train pairs: [2.82s] [1024it] [362.89it/s]\u001b[0m\n",
      "\u001b[02;37m[2021-11-21 00:19:51,735][onir_pt][DEBUG] \u001b[0m\u001b[37m[finished] training [2.82s]\u001b[0m\n",
      "\u001b[02;37m[2021-11-21 00:19:51,735][onir_pt][INFO] \u001b[0m\u001b[32mtraining   it=49 loss=0.1685\u001b[0m\n",
      "\u001b[02;37m[2021-11-21 00:19:51,735][onir_pt][DEBUG] \u001b[0m\u001b[37m[starting] validation\u001b[0m\n",
      "\u001b[02;37m[2021-11-21 00:19:51,735][onir_pt][DEBUG] \u001b[0m\u001b[37musing GPU (deterministic)\u001b[0m\n",
      "\u001b[02;37m[2021-11-21 00:19:51,736][onir_pt][DEBUG] \u001b[0m\u001b[37m[starting] batches\u001b[0m\n"
     ]
    },
    {
     "data": {
      "application/vnd.jupyter.widget-view+json": {
       "model_id": "",
       "version_major": 2,
       "version_minor": 0
      },
      "text/plain": [
       "batches:   0%|          | 0/125 [14ms<?, ?it/s]"
      ]
     },
     "metadata": {},
     "output_type": "display_data"
    },
    {
     "name": "stdout",
     "output_type": "stream",
     "text": [
      "\u001b[02;37m[2021-11-21 00:19:51,964][onir_pt][DEBUG] \u001b[0m\u001b[37m[finished] batches: [228ms] [125it] [548.96it/s]\u001b[0m\n",
      "\u001b[02;37m[2021-11-21 00:19:52,069][onir_pt][DEBUG] \u001b[0m\u001b[37m[finished] validation [334ms]\u001b[0m\n",
      "\u001b[02;37m[2021-11-21 00:19:52,070][onir_pt][INFO] \u001b[0m\u001b[32mvalidation it=49 map=0.0116 ndcg=0.0224 P_10=0.0760\u001b[0m\n",
      "\u001b[02;37m[2021-11-21 00:19:52,070][onir_pt][DEBUG] \u001b[0m\u001b[37musing GPU (deterministic)\u001b[0m\n",
      "\u001b[02;37m[2021-11-21 00:19:52,070][onir_pt][DEBUG] \u001b[0m\u001b[37m[starting] training\u001b[0m\n",
      "\u001b[02;37m[2021-11-21 00:19:52,070][onir_pt][DEBUG] \u001b[0m\u001b[37m[starting] train pairs\u001b[0m\n"
     ]
    },
    {
     "data": {
      "application/vnd.jupyter.widget-view+json": {
       "model_id": "",
       "version_major": 2,
       "version_minor": 0
      },
      "text/plain": [
       "train pairs:   0%|          | 0/1024 [14ms<?, ?it/s]"
      ]
     },
     "metadata": {},
     "output_type": "display_data"
    },
    {
     "name": "stdout",
     "output_type": "stream",
     "text": [
      "\u001b[02;37m[2021-11-21 00:19:54,985][onir_pt][DEBUG] \u001b[0m\u001b[37m[finished] train pairs: [2.91s] [1024it] [351.34it/s]\u001b[0m\n",
      "\u001b[02;37m[2021-11-21 00:19:54,987][onir_pt][DEBUG] \u001b[0m\u001b[37m[finished] training [2.92s]\u001b[0m\n",
      "\u001b[02;37m[2021-11-21 00:19:54,987][onir_pt][INFO] \u001b[0m\u001b[32mtraining   it=50 loss=0.1653\u001b[0m\n",
      "\u001b[02;37m[2021-11-21 00:19:54,987][onir_pt][DEBUG] \u001b[0m\u001b[37m[starting] validation\u001b[0m\n",
      "\u001b[02;37m[2021-11-21 00:19:54,987][onir_pt][DEBUG] \u001b[0m\u001b[37musing GPU (deterministic)\u001b[0m\n",
      "\u001b[02;37m[2021-11-21 00:19:54,988][onir_pt][DEBUG] \u001b[0m\u001b[37m[starting] batches\u001b[0m\n"
     ]
    },
    {
     "data": {
      "application/vnd.jupyter.widget-view+json": {
       "model_id": "",
       "version_major": 2,
       "version_minor": 0
      },
      "text/plain": [
       "batches:   0%|          | 0/125 [14ms<?, ?it/s]"
      ]
     },
     "metadata": {},
     "output_type": "display_data"
    },
    {
     "name": "stdout",
     "output_type": "stream",
     "text": [
      "\u001b[02;37m[2021-11-21 00:19:55,217][onir_pt][DEBUG] \u001b[0m\u001b[37m[finished] batches: [229ms] [125it] [545.80it/s]\u001b[0m\n",
      "\u001b[02;37m[2021-11-21 00:19:55,317][onir_pt][DEBUG] \u001b[0m\u001b[37m[finished] validation [330ms]\u001b[0m\n",
      "\u001b[02;37m[2021-11-21 00:19:55,318][onir_pt][INFO] \u001b[0m\u001b[32mvalidation it=50 map=0.0116 ndcg=0.0225 P_10=0.0720\u001b[0m\n",
      "\u001b[02;37m[2021-11-21 00:19:55,318][onir_pt][DEBUG] \u001b[0m\u001b[37musing GPU (deterministic)\u001b[0m\n",
      "\u001b[02;37m[2021-11-21 00:19:55,318][onir_pt][DEBUG] \u001b[0m\u001b[37m[starting] training\u001b[0m\n",
      "\u001b[02;37m[2021-11-21 00:19:55,318][onir_pt][DEBUG] \u001b[0m\u001b[37m[starting] train pairs\u001b[0m\n"
     ]
    },
    {
     "data": {
      "application/vnd.jupyter.widget-view+json": {
       "model_id": "",
       "version_major": 2,
       "version_minor": 0
      },
      "text/plain": [
       "train pairs:   0%|          | 0/1024 [14ms<?, ?it/s]"
      ]
     },
     "metadata": {},
     "output_type": "display_data"
    },
    {
     "name": "stdout",
     "output_type": "stream",
     "text": [
      "\u001b[02;37m[2021-11-21 00:19:58,214][onir_pt][DEBUG] \u001b[0m\u001b[37m[finished] train pairs: [2.90s] [1024it] [353.64it/s]\u001b[0m\n",
      "\u001b[02;37m[2021-11-21 00:19:58,216][onir_pt][DEBUG] \u001b[0m\u001b[37m[finished] training [2.90s]\u001b[0m\n",
      "\u001b[02;37m[2021-11-21 00:19:58,216][onir_pt][INFO] \u001b[0m\u001b[32mtraining   it=51 loss=0.1618\u001b[0m\n",
      "\u001b[02;37m[2021-11-21 00:19:58,216][onir_pt][DEBUG] \u001b[0m\u001b[37m[starting] validation\u001b[0m\n",
      "\u001b[02;37m[2021-11-21 00:19:58,216][onir_pt][DEBUG] \u001b[0m\u001b[37musing GPU (deterministic)\u001b[0m\n",
      "\u001b[02;37m[2021-11-21 00:19:58,217][onir_pt][DEBUG] \u001b[0m\u001b[37m[starting] batches\u001b[0m\n"
     ]
    },
    {
     "data": {
      "application/vnd.jupyter.widget-view+json": {
       "model_id": "",
       "version_major": 2,
       "version_minor": 0
      },
      "text/plain": [
       "batches:   0%|          | 0/125 [14ms<?, ?it/s]"
      ]
     },
     "metadata": {},
     "output_type": "display_data"
    },
    {
     "name": "stdout",
     "output_type": "stream",
     "text": [
      "\u001b[02;37m[2021-11-21 00:19:58,446][onir_pt][DEBUG] \u001b[0m\u001b[37m[finished] batches: [228ms] [125it] [547.61it/s]\u001b[0m\n",
      "\u001b[02;37m[2021-11-21 00:19:58,547][onir_pt][DEBUG] \u001b[0m\u001b[37m[finished] validation [331ms]\u001b[0m\n",
      "\u001b[02;37m[2021-11-21 00:19:58,548][onir_pt][INFO] \u001b[0m\u001b[32mvalidation it=51 map=0.0117 ndcg=0.0227 P_10=0.0720\u001b[0m\n",
      "\u001b[02;37m[2021-11-21 00:19:58,548][onir_pt][DEBUG] \u001b[0m\u001b[37musing GPU (deterministic)\u001b[0m\n",
      "\u001b[02;37m[2021-11-21 00:19:58,549][onir_pt][DEBUG] \u001b[0m\u001b[37m[starting] training\u001b[0m\n",
      "\u001b[02;37m[2021-11-21 00:19:58,549][onir_pt][DEBUG] \u001b[0m\u001b[37m[starting] train pairs\u001b[0m\n"
     ]
    },
    {
     "data": {
      "application/vnd.jupyter.widget-view+json": {
       "model_id": "",
       "version_major": 2,
       "version_minor": 0
      },
      "text/plain": [
       "train pairs:   0%|          | 0/1024 [14ms<?, ?it/s]"
      ]
     },
     "metadata": {},
     "output_type": "display_data"
    },
    {
     "name": "stdout",
     "output_type": "stream",
     "text": [
      "\u001b[02;37m[2021-11-21 00:20:01,491][onir_pt][DEBUG] \u001b[0m\u001b[37m[finished] train pairs: [2.94s] [1024it] [348.12it/s]\u001b[0m\n",
      "\u001b[02;37m[2021-11-21 00:20:01,492][onir_pt][DEBUG] \u001b[0m\u001b[37m[finished] training [2.94s]\u001b[0m\n",
      "\u001b[02;37m[2021-11-21 00:20:01,492][onir_pt][INFO] \u001b[0m\u001b[32mtraining   it=52 loss=0.1701\u001b[0m\n",
      "\u001b[02;37m[2021-11-21 00:20:01,492][onir_pt][DEBUG] \u001b[0m\u001b[37m[starting] validation\u001b[0m\n",
      "\u001b[02;37m[2021-11-21 00:20:01,492][onir_pt][DEBUG] \u001b[0m\u001b[37musing GPU (deterministic)\u001b[0m\n",
      "\u001b[02;37m[2021-11-21 00:20:01,493][onir_pt][DEBUG] \u001b[0m\u001b[37m[starting] batches\u001b[0m\n"
     ]
    },
    {
     "data": {
      "application/vnd.jupyter.widget-view+json": {
       "model_id": "",
       "version_major": 2,
       "version_minor": 0
      },
      "text/plain": [
       "batches:   0%|          | 0/125 [14ms<?, ?it/s]"
      ]
     },
     "metadata": {},
     "output_type": "display_data"
    },
    {
     "name": "stdout",
     "output_type": "stream",
     "text": [
      "\u001b[02;37m[2021-11-21 00:20:01,724][onir_pt][DEBUG] \u001b[0m\u001b[37m[finished] batches: [231ms] [125it] [541.41it/s]\u001b[0m\n",
      "\u001b[02;37m[2021-11-21 00:20:01,829][onir_pt][DEBUG] \u001b[0m\u001b[37m[finished] validation [337ms]\u001b[0m\n",
      "\u001b[02;37m[2021-11-21 00:20:01,831][onir_pt][INFO] \u001b[0m\u001b[32mvalidation it=52 map=0.0117 ndcg=0.0228 P_10=0.0720 <--\u001b[0m\n",
      "\u001b[02;37m[2021-11-21 00:20:01,831][onir_pt][DEBUG] \u001b[0m\u001b[37musing GPU (deterministic)\u001b[0m\n",
      "\u001b[02;37m[2021-11-21 00:20:01,831][onir_pt][DEBUG] \u001b[0m\u001b[37m[starting] training\u001b[0m\n",
      "\u001b[02;37m[2021-11-21 00:20:01,831][onir_pt][DEBUG] \u001b[0m\u001b[37m[starting] train pairs\u001b[0m\n"
     ]
    },
    {
     "data": {
      "application/vnd.jupyter.widget-view+json": {
       "model_id": "",
       "version_major": 2,
       "version_minor": 0
      },
      "text/plain": [
       "train pairs:   0%|          | 0/1024 [14ms<?, ?it/s]"
      ]
     },
     "metadata": {},
     "output_type": "display_data"
    },
    {
     "name": "stdout",
     "output_type": "stream",
     "text": [
      "\u001b[02;37m[2021-11-21 00:20:04,777][onir_pt][DEBUG] \u001b[0m\u001b[37m[finished] train pairs: [2.94s] [1024it] [347.71it/s]\u001b[0m\n",
      "\u001b[02;37m[2021-11-21 00:20:04,778][onir_pt][DEBUG] \u001b[0m\u001b[37m[finished] training [2.95s]\u001b[0m\n",
      "\u001b[02;37m[2021-11-21 00:20:04,778][onir_pt][INFO] \u001b[0m\u001b[32mtraining   it=53 loss=0.1677\u001b[0m\n",
      "\u001b[02;37m[2021-11-21 00:20:04,778][onir_pt][DEBUG] \u001b[0m\u001b[37m[starting] validation\u001b[0m\n",
      "\u001b[02;37m[2021-11-21 00:20:04,778][onir_pt][DEBUG] \u001b[0m\u001b[37musing GPU (deterministic)\u001b[0m\n",
      "\u001b[02;37m[2021-11-21 00:20:04,779][onir_pt][DEBUG] \u001b[0m\u001b[37m[starting] batches\u001b[0m\n"
     ]
    },
    {
     "data": {
      "application/vnd.jupyter.widget-view+json": {
       "model_id": "",
       "version_major": 2,
       "version_minor": 0
      },
      "text/plain": [
       "batches:   0%|          | 0/125 [17ms<?, ?it/s]"
      ]
     },
     "metadata": {},
     "output_type": "display_data"
    },
    {
     "name": "stdout",
     "output_type": "stream",
     "text": [
      "\u001b[02;37m[2021-11-21 00:20:05,293][onir_pt][DEBUG] \u001b[0m\u001b[37m[finished] batches: [514ms] [125it] [243.32it/s]\u001b[0m\n",
      "\u001b[02;37m[2021-11-21 00:20:05,395][onir_pt][DEBUG] \u001b[0m\u001b[37m[finished] validation [617ms]\u001b[0m\n",
      "\u001b[02;37m[2021-11-21 00:20:05,396][onir_pt][INFO] \u001b[0m\u001b[32mvalidation it=53 map=0.0117 ndcg=0.0227 P_10=0.0740 <--\u001b[0m\n",
      "\u001b[02;37m[2021-11-21 00:20:05,397][onir_pt][DEBUG] \u001b[0m\u001b[37musing GPU (deterministic)\u001b[0m\n",
      "\u001b[02;37m[2021-11-21 00:20:05,397][onir_pt][DEBUG] \u001b[0m\u001b[37m[starting] training\u001b[0m\n",
      "\u001b[02;37m[2021-11-21 00:20:05,397][onir_pt][DEBUG] \u001b[0m\u001b[37m[starting] train pairs\u001b[0m\n"
     ]
    },
    {
     "data": {
      "application/vnd.jupyter.widget-view+json": {
       "model_id": "",
       "version_major": 2,
       "version_minor": 0
      },
      "text/plain": [
       "train pairs:   0%|          | 0/1024 [14ms<?, ?it/s]"
      ]
     },
     "metadata": {},
     "output_type": "display_data"
    },
    {
     "name": "stdout",
     "output_type": "stream",
     "text": [
      "\u001b[02;37m[2021-11-21 00:20:08,324][onir_pt][DEBUG] \u001b[0m\u001b[37m[finished] train pairs: [2.93s] [1024it] [349.97it/s]\u001b[0m\n",
      "\u001b[02;37m[2021-11-21 00:20:08,325][onir_pt][DEBUG] \u001b[0m\u001b[37m[finished] training [2.93s]\u001b[0m\n",
      "\u001b[02;37m[2021-11-21 00:20:08,326][onir_pt][INFO] \u001b[0m\u001b[32mtraining   it=54 loss=0.1593\u001b[0m\n",
      "\u001b[02;37m[2021-11-21 00:20:08,326][onir_pt][DEBUG] \u001b[0m\u001b[37m[starting] validation\u001b[0m\n",
      "\u001b[02;37m[2021-11-21 00:20:08,326][onir_pt][DEBUG] \u001b[0m\u001b[37musing GPU (deterministic)\u001b[0m\n",
      "\u001b[02;37m[2021-11-21 00:20:08,326][onir_pt][DEBUG] \u001b[0m\u001b[37m[starting] batches\u001b[0m\n"
     ]
    },
    {
     "data": {
      "application/vnd.jupyter.widget-view+json": {
       "model_id": "",
       "version_major": 2,
       "version_minor": 0
      },
      "text/plain": [
       "batches:   0%|          | 0/125 [14ms<?, ?it/s]"
      ]
     },
     "metadata": {},
     "output_type": "display_data"
    },
    {
     "name": "stdout",
     "output_type": "stream",
     "text": [
      "\u001b[02;37m[2021-11-21 00:20:08,552][onir_pt][DEBUG] \u001b[0m\u001b[37m[finished] batches: [225ms] [125it] [556.08it/s]\u001b[0m\n",
      "\u001b[02;37m[2021-11-21 00:20:08,659][onir_pt][DEBUG] \u001b[0m\u001b[37m[finished] validation [333ms]\u001b[0m\n",
      "\u001b[02;37m[2021-11-21 00:20:08,660][onir_pt][INFO] \u001b[0m\u001b[32mvalidation it=54 map=0.0117 ndcg=0.0227 P_10=0.0740 <--\u001b[0m\n",
      "\u001b[02;37m[2021-11-21 00:20:08,660][onir_pt][DEBUG] \u001b[0m\u001b[37musing GPU (deterministic)\u001b[0m\n",
      "\u001b[02;37m[2021-11-21 00:20:08,661][onir_pt][DEBUG] \u001b[0m\u001b[37m[starting] training\u001b[0m\n",
      "\u001b[02;37m[2021-11-21 00:20:08,661][onir_pt][DEBUG] \u001b[0m\u001b[37m[starting] train pairs\u001b[0m\n"
     ]
    },
    {
     "data": {
      "application/vnd.jupyter.widget-view+json": {
       "model_id": "",
       "version_major": 2,
       "version_minor": 0
      },
      "text/plain": [
       "train pairs:   0%|          | 0/1024 [14ms<?, ?it/s]"
      ]
     },
     "metadata": {},
     "output_type": "display_data"
    },
    {
     "name": "stdout",
     "output_type": "stream",
     "text": [
      "\u001b[02;37m[2021-11-21 00:20:11,492][onir_pt][DEBUG] \u001b[0m\u001b[37m[finished] train pairs: [2.83s] [1024it] [361.69it/s]\u001b[0m\n",
      "\u001b[02;37m[2021-11-21 00:20:11,494][onir_pt][DEBUG] \u001b[0m\u001b[37m[finished] training [2.83s]\u001b[0m\n",
      "\u001b[02;37m[2021-11-21 00:20:11,494][onir_pt][INFO] \u001b[0m\u001b[32mtraining   it=55 loss=0.1675\u001b[0m\n",
      "\u001b[02;37m[2021-11-21 00:20:11,494][onir_pt][DEBUG] \u001b[0m\u001b[37m[starting] validation\u001b[0m\n",
      "\u001b[02;37m[2021-11-21 00:20:11,494][onir_pt][DEBUG] \u001b[0m\u001b[37musing GPU (deterministic)\u001b[0m\n",
      "\u001b[02;37m[2021-11-21 00:20:11,494][onir_pt][DEBUG] \u001b[0m\u001b[37m[starting] batches\u001b[0m\n"
     ]
    },
    {
     "data": {
      "application/vnd.jupyter.widget-view+json": {
       "model_id": "",
       "version_major": 2,
       "version_minor": 0
      },
      "text/plain": [
       "batches:   0%|          | 0/125 [14ms<?, ?it/s]"
      ]
     },
     "metadata": {},
     "output_type": "display_data"
    },
    {
     "name": "stdout",
     "output_type": "stream",
     "text": [
      "\u001b[02;37m[2021-11-21 00:20:11,722][onir_pt][DEBUG] \u001b[0m\u001b[37m[finished] batches: [228ms] [125it] [549.40it/s]\u001b[0m\n",
      "\u001b[02;37m[2021-11-21 00:20:11,824][onir_pt][DEBUG] \u001b[0m\u001b[37m[finished] validation [331ms]\u001b[0m\n",
      "\u001b[02;37m[2021-11-21 00:20:11,825][onir_pt][INFO] \u001b[0m\u001b[32mvalidation it=55 map=0.0116 ndcg=0.0225 P_10=0.0740\u001b[0m\n",
      "\u001b[02;37m[2021-11-21 00:20:11,825][onir_pt][DEBUG] \u001b[0m\u001b[37musing GPU (deterministic)\u001b[0m\n",
      "\u001b[02;37m[2021-11-21 00:20:11,826][onir_pt][DEBUG] \u001b[0m\u001b[37m[starting] training\u001b[0m\n",
      "\u001b[02;37m[2021-11-21 00:20:11,826][onir_pt][DEBUG] \u001b[0m\u001b[37m[starting] train pairs\u001b[0m\n"
     ]
    },
    {
     "data": {
      "application/vnd.jupyter.widget-view+json": {
       "model_id": "",
       "version_major": 2,
       "version_minor": 0
      },
      "text/plain": [
       "train pairs:   0%|          | 0/1024 [14ms<?, ?it/s]"
      ]
     },
     "metadata": {},
     "output_type": "display_data"
    },
    {
     "name": "stdout",
     "output_type": "stream",
     "text": [
      "\u001b[02;37m[2021-11-21 00:20:14,716][onir_pt][DEBUG] \u001b[0m\u001b[37m[finished] train pairs: [2.89s] [1024it] [354.34it/s]\u001b[0m\n",
      "\u001b[02;37m[2021-11-21 00:20:14,717][onir_pt][DEBUG] \u001b[0m\u001b[37m[finished] training [2.89s]\u001b[0m\n",
      "\u001b[02;37m[2021-11-21 00:20:14,717][onir_pt][INFO] \u001b[0m\u001b[32mtraining   it=56 loss=0.1677\u001b[0m\n",
      "\u001b[02;37m[2021-11-21 00:20:14,717][onir_pt][DEBUG] \u001b[0m\u001b[37m[starting] validation\u001b[0m\n",
      "\u001b[02;37m[2021-11-21 00:20:14,718][onir_pt][DEBUG] \u001b[0m\u001b[37musing GPU (deterministic)\u001b[0m\n",
      "\u001b[02;37m[2021-11-21 00:20:14,718][onir_pt][DEBUG] \u001b[0m\u001b[37m[starting] batches\u001b[0m\n"
     ]
    },
    {
     "data": {
      "application/vnd.jupyter.widget-view+json": {
       "model_id": "",
       "version_major": 2,
       "version_minor": 0
      },
      "text/plain": [
       "batches:   0%|          | 0/125 [14ms<?, ?it/s]"
      ]
     },
     "metadata": {},
     "output_type": "display_data"
    },
    {
     "name": "stdout",
     "output_type": "stream",
     "text": [
      "\u001b[02;37m[2021-11-21 00:20:14,944][onir_pt][DEBUG] \u001b[0m\u001b[37m[finished] batches: [226ms] [125it] [553.78it/s]\u001b[0m\n",
      "\u001b[02;37m[2021-11-21 00:20:15,043][onir_pt][DEBUG] \u001b[0m\u001b[37m[finished] validation [326ms]\u001b[0m\n",
      "\u001b[02;37m[2021-11-21 00:20:15,044][onir_pt][INFO] \u001b[0m\u001b[32mvalidation it=56 map=0.0117 ndcg=0.0229 P_10=0.0720\u001b[0m\n",
      "\u001b[02;37m[2021-11-21 00:20:15,044][onir_pt][DEBUG] \u001b[0m\u001b[37musing GPU (deterministic)\u001b[0m\n",
      "\u001b[02;37m[2021-11-21 00:20:15,044][onir_pt][DEBUG] \u001b[0m\u001b[37m[starting] training\u001b[0m\n",
      "\u001b[02;37m[2021-11-21 00:20:15,044][onir_pt][DEBUG] \u001b[0m\u001b[37m[starting] train pairs\u001b[0m\n"
     ]
    },
    {
     "data": {
      "application/vnd.jupyter.widget-view+json": {
       "model_id": "",
       "version_major": 2,
       "version_minor": 0
      },
      "text/plain": [
       "train pairs:   0%|          | 0/1024 [14ms<?, ?it/s]"
      ]
     },
     "metadata": {},
     "output_type": "display_data"
    },
    {
     "name": "stdout",
     "output_type": "stream",
     "text": [
      "\u001b[02;37m[2021-11-21 00:20:18,024][onir_pt][DEBUG] \u001b[0m\u001b[37m[finished] train pairs: [2.98s] [1024it] [343.74it/s]\u001b[0m\n",
      "\u001b[02;37m[2021-11-21 00:20:18,025][onir_pt][DEBUG] \u001b[0m\u001b[37m[finished] training [2.98s]\u001b[0m\n",
      "\u001b[02;37m[2021-11-21 00:20:18,025][onir_pt][INFO] \u001b[0m\u001b[32mtraining   it=57 loss=0.1759\u001b[0m\n",
      "\u001b[02;37m[2021-11-21 00:20:18,026][onir_pt][DEBUG] \u001b[0m\u001b[37m[starting] validation\u001b[0m\n",
      "\u001b[02;37m[2021-11-21 00:20:18,026][onir_pt][DEBUG] \u001b[0m\u001b[37musing GPU (deterministic)\u001b[0m\n",
      "\u001b[02;37m[2021-11-21 00:20:18,026][onir_pt][DEBUG] \u001b[0m\u001b[37m[starting] batches\u001b[0m\n"
     ]
    },
    {
     "data": {
      "application/vnd.jupyter.widget-view+json": {
       "model_id": "",
       "version_major": 2,
       "version_minor": 0
      },
      "text/plain": [
       "batches:   0%|          | 0/125 [14ms<?, ?it/s]"
      ]
     },
     "metadata": {},
     "output_type": "display_data"
    },
    {
     "name": "stdout",
     "output_type": "stream",
     "text": [
      "\u001b[02;37m[2021-11-21 00:20:18,282][onir_pt][DEBUG] \u001b[0m\u001b[37m[finished] batches: [256ms] [125it] [488.68it/s]\u001b[0m\n",
      "\u001b[02;37m[2021-11-21 00:20:18,384][onir_pt][DEBUG] \u001b[0m\u001b[37m[finished] validation [358ms]\u001b[0m\n",
      "\u001b[02;37m[2021-11-21 00:20:18,385][onir_pt][INFO] \u001b[0m\u001b[32mvalidation it=57 map=0.0117 ndcg=0.0227 P_10=0.0760\u001b[0m\n",
      "\u001b[02;37m[2021-11-21 00:20:18,385][onir_pt][DEBUG] \u001b[0m\u001b[37musing GPU (deterministic)\u001b[0m\n",
      "\u001b[02;37m[2021-11-21 00:20:18,385][onir_pt][DEBUG] \u001b[0m\u001b[37m[starting] training\u001b[0m\n",
      "\u001b[02;37m[2021-11-21 00:20:18,385][onir_pt][DEBUG] \u001b[0m\u001b[37m[starting] train pairs\u001b[0m\n"
     ]
    },
    {
     "data": {
      "application/vnd.jupyter.widget-view+json": {
       "model_id": "",
       "version_major": 2,
       "version_minor": 0
      },
      "text/plain": [
       "train pairs:   0%|          | 0/1024 [14ms<?, ?it/s]"
      ]
     },
     "metadata": {},
     "output_type": "display_data"
    },
    {
     "name": "stdout",
     "output_type": "stream",
     "text": [
      "\u001b[02;37m[2021-11-21 00:20:21,308][onir_pt][DEBUG] \u001b[0m\u001b[37m[finished] train pairs: [2.92s] [1024it] [350.37it/s]\u001b[0m\n",
      "\u001b[02;37m[2021-11-21 00:20:21,309][onir_pt][DEBUG] \u001b[0m\u001b[37m[finished] training [2.92s]\u001b[0m\n",
      "\u001b[02;37m[2021-11-21 00:20:21,310][onir_pt][INFO] \u001b[0m\u001b[32mtraining   it=58 loss=0.1611\u001b[0m\n",
      "\u001b[02;37m[2021-11-21 00:20:21,310][onir_pt][DEBUG] \u001b[0m\u001b[37m[starting] validation\u001b[0m\n",
      "\u001b[02;37m[2021-11-21 00:20:21,310][onir_pt][DEBUG] \u001b[0m\u001b[37musing GPU (deterministic)\u001b[0m\n",
      "\u001b[02;37m[2021-11-21 00:20:21,310][onir_pt][DEBUG] \u001b[0m\u001b[37m[starting] batches\u001b[0m\n"
     ]
    },
    {
     "data": {
      "application/vnd.jupyter.widget-view+json": {
       "model_id": "",
       "version_major": 2,
       "version_minor": 0
      },
      "text/plain": [
       "batches:   0%|          | 0/125 [14ms<?, ?it/s]"
      ]
     },
     "metadata": {},
     "output_type": "display_data"
    },
    {
     "name": "stdout",
     "output_type": "stream",
     "text": [
      "\u001b[02;37m[2021-11-21 00:20:21,537][onir_pt][DEBUG] \u001b[0m\u001b[37m[finished] batches: [226ms] [125it] [552.69it/s]\u001b[0m\n",
      "\u001b[02;37m[2021-11-21 00:20:21,639][onir_pt][DEBUG] \u001b[0m\u001b[37m[finished] validation [329ms]\u001b[0m\n",
      "\u001b[02;37m[2021-11-21 00:20:21,640][onir_pt][INFO] \u001b[0m\u001b[32mvalidation it=58 map=0.0115 ndcg=0.0224 P_10=0.0760\u001b[0m\n",
      "\u001b[02;37m[2021-11-21 00:20:21,640][onir_pt][DEBUG] \u001b[0m\u001b[37musing GPU (deterministic)\u001b[0m\n",
      "\u001b[02;37m[2021-11-21 00:20:21,640][onir_pt][DEBUG] \u001b[0m\u001b[37m[starting] training\u001b[0m\n",
      "\u001b[02;37m[2021-11-21 00:20:21,640][onir_pt][DEBUG] \u001b[0m\u001b[37m[starting] train pairs\u001b[0m\n"
     ]
    },
    {
     "data": {
      "application/vnd.jupyter.widget-view+json": {
       "model_id": "",
       "version_major": 2,
       "version_minor": 0
      },
      "text/plain": [
       "train pairs:   0%|          | 0/1024 [14ms<?, ?it/s]"
      ]
     },
     "metadata": {},
     "output_type": "display_data"
    },
    {
     "name": "stdout",
     "output_type": "stream",
     "text": [
      "\u001b[02;37m[2021-11-21 00:20:24,501][onir_pt][DEBUG] \u001b[0m\u001b[37m[finished] train pairs: [2.86s] [1024it] [358.08it/s]\u001b[0m\n",
      "\u001b[02;37m[2021-11-21 00:20:24,502][onir_pt][DEBUG] \u001b[0m\u001b[37m[finished] training [2.86s]\u001b[0m\n",
      "\u001b[02;37m[2021-11-21 00:20:24,502][onir_pt][INFO] \u001b[0m\u001b[32mtraining   it=59 loss=0.1784\u001b[0m\n",
      "\u001b[02;37m[2021-11-21 00:20:24,502][onir_pt][DEBUG] \u001b[0m\u001b[37m[starting] validation\u001b[0m\n",
      "\u001b[02;37m[2021-11-21 00:20:24,503][onir_pt][DEBUG] \u001b[0m\u001b[37musing GPU (deterministic)\u001b[0m\n",
      "\u001b[02;37m[2021-11-21 00:20:24,503][onir_pt][DEBUG] \u001b[0m\u001b[37m[starting] batches\u001b[0m\n"
     ]
    },
    {
     "data": {
      "application/vnd.jupyter.widget-view+json": {
       "model_id": "",
       "version_major": 2,
       "version_minor": 0
      },
      "text/plain": [
       "batches:   0%|          | 0/125 [14ms<?, ?it/s]"
      ]
     },
     "metadata": {},
     "output_type": "display_data"
    },
    {
     "name": "stdout",
     "output_type": "stream",
     "text": [
      "\u001b[02;37m[2021-11-21 00:20:24,728][onir_pt][DEBUG] \u001b[0m\u001b[37m[finished] batches: [225ms] [125it] [555.80it/s]\u001b[0m\n",
      "\u001b[02;37m[2021-11-21 00:20:24,835][onir_pt][DEBUG] \u001b[0m\u001b[37m[finished] validation [332ms]\u001b[0m\n",
      "\u001b[02;37m[2021-11-21 00:20:24,835][onir_pt][INFO] \u001b[0m\u001b[32mvalidation it=59 map=0.0116 ndcg=0.0224 P_10=0.0780\u001b[0m\n",
      "\u001b[02;37m[2021-11-21 00:20:24,836][onir_pt][DEBUG] \u001b[0m\u001b[37musing GPU (deterministic)\u001b[0m\n",
      "\u001b[02;37m[2021-11-21 00:20:24,836][onir_pt][DEBUG] \u001b[0m\u001b[37m[starting] training\u001b[0m\n",
      "\u001b[02;37m[2021-11-21 00:20:24,836][onir_pt][DEBUG] \u001b[0m\u001b[37m[starting] train pairs\u001b[0m\n"
     ]
    },
    {
     "data": {
      "application/vnd.jupyter.widget-view+json": {
       "model_id": "",
       "version_major": 2,
       "version_minor": 0
      },
      "text/plain": [
       "train pairs:   0%|          | 0/1024 [14ms<?, ?it/s]"
      ]
     },
     "metadata": {},
     "output_type": "display_data"
    },
    {
     "name": "stdout",
     "output_type": "stream",
     "text": [
      "\u001b[02;37m[2021-11-21 00:20:27,676][onir_pt][DEBUG] \u001b[0m\u001b[37m[finished] train pairs: [2.84s] [1024it] [360.63it/s]\u001b[0m\n",
      "\u001b[02;37m[2021-11-21 00:20:27,677][onir_pt][DEBUG] \u001b[0m\u001b[37m[finished] training [2.84s]\u001b[0m\n",
      "\u001b[02;37m[2021-11-21 00:20:27,677][onir_pt][INFO] \u001b[0m\u001b[32mtraining   it=60 loss=0.1665\u001b[0m\n",
      "\u001b[02;37m[2021-11-21 00:20:27,677][onir_pt][DEBUG] \u001b[0m\u001b[37m[starting] validation\u001b[0m\n",
      "\u001b[02;37m[2021-11-21 00:20:27,677][onir_pt][DEBUG] \u001b[0m\u001b[37musing GPU (deterministic)\u001b[0m\n",
      "\u001b[02;37m[2021-11-21 00:20:27,678][onir_pt][DEBUG] \u001b[0m\u001b[37m[starting] batches\u001b[0m\n"
     ]
    },
    {
     "data": {
      "application/vnd.jupyter.widget-view+json": {
       "model_id": "",
       "version_major": 2,
       "version_minor": 0
      },
      "text/plain": [
       "batches:   0%|          | 0/125 [14ms<?, ?it/s]"
      ]
     },
     "metadata": {},
     "output_type": "display_data"
    },
    {
     "name": "stdout",
     "output_type": "stream",
     "text": [
      "\u001b[02;37m[2021-11-21 00:20:27,905][onir_pt][DEBUG] \u001b[0m\u001b[37m[finished] batches: [226ms] [125it] [553.36it/s]\u001b[0m\n",
      "\u001b[02;37m[2021-11-21 00:20:28,005][onir_pt][DEBUG] \u001b[0m\u001b[37m[finished] validation [328ms]\u001b[0m\n",
      "\u001b[02;37m[2021-11-21 00:20:28,005][onir_pt][INFO] \u001b[0m\u001b[32mvalidation it=60 map=0.0116 ndcg=0.0225 P_10=0.0720\u001b[0m\n",
      "\u001b[02;37m[2021-11-21 00:20:28,006][onir_pt][DEBUG] \u001b[0m\u001b[37musing GPU (deterministic)\u001b[0m\n",
      "\u001b[02;37m[2021-11-21 00:20:28,006][onir_pt][DEBUG] \u001b[0m\u001b[37m[starting] training\u001b[0m\n",
      "\u001b[02;37m[2021-11-21 00:20:28,006][onir_pt][DEBUG] \u001b[0m\u001b[37m[starting] train pairs\u001b[0m\n"
     ]
    },
    {
     "data": {
      "application/vnd.jupyter.widget-view+json": {
       "model_id": "",
       "version_major": 2,
       "version_minor": 0
      },
      "text/plain": [
       "train pairs:   0%|          | 0/1024 [14ms<?, ?it/s]"
      ]
     },
     "metadata": {},
     "output_type": "display_data"
    },
    {
     "name": "stdout",
     "output_type": "stream",
     "text": [
      "\u001b[02;37m[2021-11-21 00:20:30,884][onir_pt][DEBUG] \u001b[0m\u001b[37m[finished] train pairs: [2.88s] [1024it] [355.89it/s]\u001b[0m\n",
      "\u001b[02;37m[2021-11-21 00:20:30,885][onir_pt][DEBUG] \u001b[0m\u001b[37m[finished] training [2.88s]\u001b[0m\n",
      "\u001b[02;37m[2021-11-21 00:20:30,885][onir_pt][INFO] \u001b[0m\u001b[32mtraining   it=61 loss=0.1808\u001b[0m\n",
      "\u001b[02;37m[2021-11-21 00:20:30,886][onir_pt][DEBUG] \u001b[0m\u001b[37m[starting] validation\u001b[0m\n",
      "\u001b[02;37m[2021-11-21 00:20:30,886][onir_pt][DEBUG] \u001b[0m\u001b[37musing GPU (deterministic)\u001b[0m\n",
      "\u001b[02;37m[2021-11-21 00:20:30,886][onir_pt][DEBUG] \u001b[0m\u001b[37m[starting] batches\u001b[0m\n"
     ]
    },
    {
     "data": {
      "application/vnd.jupyter.widget-view+json": {
       "model_id": "",
       "version_major": 2,
       "version_minor": 0
      },
      "text/plain": [
       "batches:   0%|          | 0/125 [14ms<?, ?it/s]"
      ]
     },
     "metadata": {},
     "output_type": "display_data"
    },
    {
     "name": "stdout",
     "output_type": "stream",
     "text": [
      "\u001b[02;37m[2021-11-21 00:20:31,119][onir_pt][DEBUG] \u001b[0m\u001b[37m[finished] batches: [232ms] [125it] [539.50it/s]\u001b[0m\n",
      "\u001b[02;37m[2021-11-21 00:20:31,220][onir_pt][DEBUG] \u001b[0m\u001b[37m[finished] validation [334ms]\u001b[0m\n",
      "\u001b[02;37m[2021-11-21 00:20:31,220][onir_pt][INFO] \u001b[0m\u001b[32mvalidation it=61 map=0.0117 ndcg=0.0227 P_10=0.0740\u001b[0m\n",
      "\u001b[02;37m[2021-11-21 00:20:31,220][onir_pt][DEBUG] \u001b[0m\u001b[37musing GPU (deterministic)\u001b[0m\n",
      "\u001b[02;37m[2021-11-21 00:20:31,221][onir_pt][DEBUG] \u001b[0m\u001b[37m[starting] training\u001b[0m\n",
      "\u001b[02;37m[2021-11-21 00:20:31,221][onir_pt][DEBUG] \u001b[0m\u001b[37m[starting] train pairs\u001b[0m\n"
     ]
    },
    {
     "data": {
      "application/vnd.jupyter.widget-view+json": {
       "model_id": "",
       "version_major": 2,
       "version_minor": 0
      },
      "text/plain": [
       "train pairs:   0%|          | 0/1024 [14ms<?, ?it/s]"
      ]
     },
     "metadata": {},
     "output_type": "display_data"
    },
    {
     "name": "stdout",
     "output_type": "stream",
     "text": [
      "\u001b[02;37m[2021-11-21 00:20:34,211][onir_pt][DEBUG] \u001b[0m\u001b[37m[finished] train pairs: [2.99s] [1024it] [342.49it/s]\u001b[0m\n",
      "\u001b[02;37m[2021-11-21 00:20:34,212][onir_pt][DEBUG] \u001b[0m\u001b[37m[finished] training [2.99s]\u001b[0m\n",
      "\u001b[02;37m[2021-11-21 00:20:34,213][onir_pt][INFO] \u001b[0m\u001b[32mtraining   it=62 loss=0.1694\u001b[0m\n",
      "\u001b[02;37m[2021-11-21 00:20:34,213][onir_pt][DEBUG] \u001b[0m\u001b[37m[starting] validation\u001b[0m\n",
      "\u001b[02;37m[2021-11-21 00:20:34,213][onir_pt][DEBUG] \u001b[0m\u001b[37musing GPU (deterministic)\u001b[0m\n",
      "\u001b[02;37m[2021-11-21 00:20:34,214][onir_pt][DEBUG] \u001b[0m\u001b[37m[starting] batches\u001b[0m\n"
     ]
    },
    {
     "data": {
      "application/vnd.jupyter.widget-view+json": {
       "model_id": "",
       "version_major": 2,
       "version_minor": 0
      },
      "text/plain": [
       "batches:   0%|          | 0/125 [14ms<?, ?it/s]"
      ]
     },
     "metadata": {},
     "output_type": "display_data"
    },
    {
     "name": "stdout",
     "output_type": "stream",
     "text": [
      "\u001b[02;37m[2021-11-21 00:20:34,448][onir_pt][DEBUG] \u001b[0m\u001b[37m[finished] batches: [234ms] [125it] [534.32it/s]\u001b[0m\n",
      "\u001b[02;37m[2021-11-21 00:20:34,551][onir_pt][DEBUG] \u001b[0m\u001b[37m[finished] validation [338ms]\u001b[0m\n",
      "\u001b[02;37m[2021-11-21 00:20:34,551][onir_pt][INFO] \u001b[0m\u001b[32mvalidation it=62 map=0.0117 ndcg=0.0227 P_10=0.0740\u001b[0m\n",
      "\u001b[02;37m[2021-11-21 00:20:34,552][onir_pt][DEBUG] \u001b[0m\u001b[37musing GPU (deterministic)\u001b[0m\n",
      "\u001b[02;37m[2021-11-21 00:20:34,552][onir_pt][DEBUG] \u001b[0m\u001b[37m[starting] training\u001b[0m\n",
      "\u001b[02;37m[2021-11-21 00:20:34,552][onir_pt][DEBUG] \u001b[0m\u001b[37m[starting] train pairs\u001b[0m\n"
     ]
    },
    {
     "data": {
      "application/vnd.jupyter.widget-view+json": {
       "model_id": "",
       "version_major": 2,
       "version_minor": 0
      },
      "text/plain": [
       "train pairs:   0%|          | 0/1024 [14ms<?, ?it/s]"
      ]
     },
     "metadata": {},
     "output_type": "display_data"
    },
    {
     "name": "stdout",
     "output_type": "stream",
     "text": [
      "\u001b[02;37m[2021-11-21 00:20:37,513][onir_pt][DEBUG] \u001b[0m\u001b[37m[finished] train pairs: [2.96s] [1024it] [345.87it/s]\u001b[0m\n",
      "\u001b[02;37m[2021-11-21 00:20:37,515][onir_pt][DEBUG] \u001b[0m\u001b[37m[finished] training [2.96s]\u001b[0m\n",
      "\u001b[02;37m[2021-11-21 00:20:37,515][onir_pt][INFO] \u001b[0m\u001b[32mtraining   it=63 loss=0.1685\u001b[0m\n",
      "\u001b[02;37m[2021-11-21 00:20:37,515][onir_pt][DEBUG] \u001b[0m\u001b[37m[starting] validation\u001b[0m\n",
      "\u001b[02;37m[2021-11-21 00:20:37,516][onir_pt][DEBUG] \u001b[0m\u001b[37musing GPU (deterministic)\u001b[0m\n",
      "\u001b[02;37m[2021-11-21 00:20:37,516][onir_pt][DEBUG] \u001b[0m\u001b[37m[starting] batches\u001b[0m\n"
     ]
    },
    {
     "data": {
      "application/vnd.jupyter.widget-view+json": {
       "model_id": "",
       "version_major": 2,
       "version_minor": 0
      },
      "text/plain": [
       "batches:   0%|          | 0/125 [14ms<?, ?it/s]"
      ]
     },
     "metadata": {},
     "output_type": "display_data"
    },
    {
     "name": "stdout",
     "output_type": "stream",
     "text": [
      "\u001b[02;37m[2021-11-21 00:20:37,744][onir_pt][DEBUG] \u001b[0m\u001b[37m[finished] batches: [228ms] [125it] [549.32it/s]\u001b[0m\n",
      "\u001b[02;37m[2021-11-21 00:20:37,845][onir_pt][DEBUG] \u001b[0m\u001b[37m[finished] validation [330ms]\u001b[0m\n",
      "\u001b[02;37m[2021-11-21 00:20:37,845][onir_pt][INFO] \u001b[0m\u001b[32mvalidation it=63 map=0.0117 ndcg=0.0226 P_10=0.0740\u001b[0m\n",
      "\u001b[02;37m[2021-11-21 00:20:37,846][onir_pt][DEBUG] \u001b[0m\u001b[37musing GPU (deterministic)\u001b[0m\n",
      "\u001b[02;37m[2021-11-21 00:20:37,846][onir_pt][DEBUG] \u001b[0m\u001b[37m[starting] training\u001b[0m\n",
      "\u001b[02;37m[2021-11-21 00:20:37,846][onir_pt][DEBUG] \u001b[0m\u001b[37m[starting] train pairs\u001b[0m\n"
     ]
    },
    {
     "data": {
      "application/vnd.jupyter.widget-view+json": {
       "model_id": "",
       "version_major": 2,
       "version_minor": 0
      },
      "text/plain": [
       "train pairs:   0%|          | 0/1024 [14ms<?, ?it/s]"
      ]
     },
     "metadata": {},
     "output_type": "display_data"
    },
    {
     "name": "stdout",
     "output_type": "stream",
     "text": [
      "\u001b[02;37m[2021-11-21 00:20:40,702][onir_pt][DEBUG] \u001b[0m\u001b[37m[finished] train pairs: [2.85s] [1024it] [358.68it/s]\u001b[0m\n",
      "\u001b[02;37m[2021-11-21 00:20:40,703][onir_pt][DEBUG] \u001b[0m\u001b[37m[finished] training [2.86s]\u001b[0m\n",
      "\u001b[02;37m[2021-11-21 00:20:40,703][onir_pt][INFO] \u001b[0m\u001b[32mtraining   it=64 loss=0.1649\u001b[0m\n",
      "\u001b[02;37m[2021-11-21 00:20:40,703][onir_pt][DEBUG] \u001b[0m\u001b[37m[starting] validation\u001b[0m\n",
      "\u001b[02;37m[2021-11-21 00:20:40,703][onir_pt][DEBUG] \u001b[0m\u001b[37musing GPU (deterministic)\u001b[0m\n",
      "\u001b[02;37m[2021-11-21 00:20:40,703][onir_pt][DEBUG] \u001b[0m\u001b[37m[starting] batches\u001b[0m\n"
     ]
    },
    {
     "data": {
      "application/vnd.jupyter.widget-view+json": {
       "model_id": "",
       "version_major": 2,
       "version_minor": 0
      },
      "text/plain": [
       "batches:   0%|          | 0/125 [14ms<?, ?it/s]"
      ]
     },
     "metadata": {},
     "output_type": "display_data"
    },
    {
     "name": "stdout",
     "output_type": "stream",
     "text": [
      "\u001b[02;37m[2021-11-21 00:20:40,933][onir_pt][DEBUG] \u001b[0m\u001b[37m[finished] batches: [229ms] [125it] [546.12it/s]\u001b[0m\n",
      "\u001b[02;37m[2021-11-21 00:20:41,033][onir_pt][DEBUG] \u001b[0m\u001b[37m[finished] validation [330ms]\u001b[0m\n",
      "\u001b[02;37m[2021-11-21 00:20:41,034][onir_pt][INFO] \u001b[0m\u001b[32mvalidation it=64 map=0.0117 ndcg=0.0227 P_10=0.0760\u001b[0m\n",
      "\u001b[02;37m[2021-11-21 00:20:41,034][onir_pt][DEBUG] \u001b[0m\u001b[37musing GPU (deterministic)\u001b[0m\n",
      "\u001b[02;37m[2021-11-21 00:20:41,034][onir_pt][DEBUG] \u001b[0m\u001b[37m[starting] training\u001b[0m\n",
      "\u001b[02;37m[2021-11-21 00:20:41,035][onir_pt][DEBUG] \u001b[0m\u001b[37m[starting] train pairs\u001b[0m\n"
     ]
    },
    {
     "data": {
      "application/vnd.jupyter.widget-view+json": {
       "model_id": "",
       "version_major": 2,
       "version_minor": 0
      },
      "text/plain": [
       "train pairs:   0%|          | 0/1024 [14ms<?, ?it/s]"
      ]
     },
     "metadata": {},
     "output_type": "display_data"
    },
    {
     "name": "stdout",
     "output_type": "stream",
     "text": [
      "\u001b[02;37m[2021-11-21 00:20:43,873][onir_pt][DEBUG] \u001b[0m\u001b[37m[finished] train pairs: [2.84s] [1024it] [360.79it/s]\u001b[0m\n",
      "\u001b[02;37m[2021-11-21 00:20:43,874][onir_pt][DEBUG] \u001b[0m\u001b[37m[finished] training [2.84s]\u001b[0m\n",
      "\u001b[02;37m[2021-11-21 00:20:43,874][onir_pt][INFO] \u001b[0m\u001b[32mtraining   it=65 loss=0.1727\u001b[0m\n",
      "\u001b[02;37m[2021-11-21 00:20:43,874][onir_pt][DEBUG] \u001b[0m\u001b[37m[starting] validation\u001b[0m\n",
      "\u001b[02;37m[2021-11-21 00:20:43,875][onir_pt][DEBUG] \u001b[0m\u001b[37musing GPU (deterministic)\u001b[0m\n",
      "\u001b[02;37m[2021-11-21 00:20:43,875][onir_pt][DEBUG] \u001b[0m\u001b[37m[starting] batches\u001b[0m\n"
     ]
    },
    {
     "data": {
      "application/vnd.jupyter.widget-view+json": {
       "model_id": "",
       "version_major": 2,
       "version_minor": 0
      },
      "text/plain": [
       "batches:   0%|          | 0/125 [14ms<?, ?it/s]"
      ]
     },
     "metadata": {},
     "output_type": "display_data"
    },
    {
     "name": "stdout",
     "output_type": "stream",
     "text": [
      "\u001b[02;37m[2021-11-21 00:20:44,102][onir_pt][DEBUG] \u001b[0m\u001b[37m[finished] batches: [226ms] [125it] [552.46it/s]\u001b[0m\n",
      "\u001b[02;37m[2021-11-21 00:20:44,202][onir_pt][DEBUG] \u001b[0m\u001b[37m[finished] validation [328ms]\u001b[0m\n",
      "\u001b[02;37m[2021-11-21 00:20:44,203][onir_pt][INFO] \u001b[0m\u001b[32mvalidation it=65 map=0.0116 ndcg=0.0224 P_10=0.0720\u001b[0m\n",
      "\u001b[02;37m[2021-11-21 00:20:44,203][onir_pt][DEBUG] \u001b[0m\u001b[37musing GPU (deterministic)\u001b[0m\n",
      "\u001b[02;37m[2021-11-21 00:20:44,204][onir_pt][DEBUG] \u001b[0m\u001b[37m[starting] training\u001b[0m\n",
      "\u001b[02;37m[2021-11-21 00:20:44,204][onir_pt][DEBUG] \u001b[0m\u001b[37m[starting] train pairs\u001b[0m\n"
     ]
    },
    {
     "data": {
      "application/vnd.jupyter.widget-view+json": {
       "model_id": "",
       "version_major": 2,
       "version_minor": 0
      },
      "text/plain": [
       "train pairs:   0%|          | 0/1024 [14ms<?, ?it/s]"
      ]
     },
     "metadata": {},
     "output_type": "display_data"
    },
    {
     "name": "stdout",
     "output_type": "stream",
     "text": [
      "\u001b[02;37m[2021-11-21 00:20:47,037][onir_pt][DEBUG] \u001b[0m\u001b[37m[finished] train pairs: [2.83s] [1024it] [361.46it/s]\u001b[0m\n",
      "\u001b[02;37m[2021-11-21 00:20:47,038][onir_pt][DEBUG] \u001b[0m\u001b[37m[finished] training [2.83s]\u001b[0m\n",
      "\u001b[02;37m[2021-11-21 00:20:47,038][onir_pt][INFO] \u001b[0m\u001b[32mtraining   it=66 loss=0.1718\u001b[0m\n",
      "\u001b[02;37m[2021-11-21 00:20:47,039][onir_pt][DEBUG] \u001b[0m\u001b[37m[starting] validation\u001b[0m\n",
      "\u001b[02;37m[2021-11-21 00:20:47,039][onir_pt][DEBUG] \u001b[0m\u001b[37musing GPU (deterministic)\u001b[0m\n",
      "\u001b[02;37m[2021-11-21 00:20:47,039][onir_pt][DEBUG] \u001b[0m\u001b[37m[starting] batches\u001b[0m\n"
     ]
    },
    {
     "data": {
      "application/vnd.jupyter.widget-view+json": {
       "model_id": "",
       "version_major": 2,
       "version_minor": 0
      },
      "text/plain": [
       "batches:   0%|          | 0/125 [14ms<?, ?it/s]"
      ]
     },
     "metadata": {},
     "output_type": "display_data"
    },
    {
     "name": "stdout",
     "output_type": "stream",
     "text": [
      "\u001b[02;37m[2021-11-21 00:20:47,265][onir_pt][DEBUG] \u001b[0m\u001b[37m[finished] batches: [225ms] [125it] [554.41it/s]\u001b[0m\n",
      "\u001b[02;37m[2021-11-21 00:20:47,365][onir_pt][DEBUG] \u001b[0m\u001b[37m[finished] validation [326ms]\u001b[0m\n",
      "\u001b[02;37m[2021-11-21 00:20:47,366][onir_pt][INFO] \u001b[0m\u001b[32mvalidation it=66 map=0.0117 ndcg=0.0227 P_10=0.0760\u001b[0m\n",
      "\u001b[02;37m[2021-11-21 00:20:47,366][onir_pt][DEBUG] \u001b[0m\u001b[37musing GPU (deterministic)\u001b[0m\n",
      "\u001b[02;37m[2021-11-21 00:20:47,366][onir_pt][DEBUG] \u001b[0m\u001b[37m[starting] training\u001b[0m\n",
      "\u001b[02;37m[2021-11-21 00:20:47,366][onir_pt][DEBUG] \u001b[0m\u001b[37m[starting] train pairs\u001b[0m\n"
     ]
    },
    {
     "data": {
      "application/vnd.jupyter.widget-view+json": {
       "model_id": "",
       "version_major": 2,
       "version_minor": 0
      },
      "text/plain": [
       "train pairs:   0%|          | 0/1024 [14ms<?, ?it/s]"
      ]
     },
     "metadata": {},
     "output_type": "display_data"
    },
    {
     "name": "stdout",
     "output_type": "stream",
     "text": [
      "\u001b[02;37m[2021-11-21 00:20:50,261][onir_pt][DEBUG] \u001b[0m\u001b[37m[finished] train pairs: [2.89s] [1024it] [353.75it/s]\u001b[0m\n",
      "\u001b[02;37m[2021-11-21 00:20:50,262][onir_pt][DEBUG] \u001b[0m\u001b[37m[finished] training [2.90s]\u001b[0m\n",
      "\u001b[02;37m[2021-11-21 00:20:50,263][onir_pt][INFO] \u001b[0m\u001b[32mtraining   it=67 loss=0.1651\u001b[0m\n",
      "\u001b[02;37m[2021-11-21 00:20:50,263][onir_pt][DEBUG] \u001b[0m\u001b[37m[starting] validation\u001b[0m\n",
      "\u001b[02;37m[2021-11-21 00:20:50,263][onir_pt][DEBUG] \u001b[0m\u001b[37musing GPU (deterministic)\u001b[0m\n",
      "\u001b[02;37m[2021-11-21 00:20:50,263][onir_pt][DEBUG] \u001b[0m\u001b[37m[starting] batches\u001b[0m\n"
     ]
    },
    {
     "data": {
      "application/vnd.jupyter.widget-view+json": {
       "model_id": "",
       "version_major": 2,
       "version_minor": 0
      },
      "text/plain": [
       "batches:   0%|          | 0/125 [13ms<?, ?it/s]"
      ]
     },
     "metadata": {},
     "output_type": "display_data"
    },
    {
     "name": "stdout",
     "output_type": "stream",
     "text": [
      "\u001b[02;37m[2021-11-21 00:20:50,491][onir_pt][DEBUG] \u001b[0m\u001b[37m[finished] batches: [227ms] [125it] [550.38it/s]\u001b[0m\n",
      "\u001b[02;37m[2021-11-21 00:20:50,590][onir_pt][DEBUG] \u001b[0m\u001b[37m[finished] validation [328ms]\u001b[0m\n",
      "\u001b[02;37m[2021-11-21 00:20:50,591][onir_pt][INFO] \u001b[0m\u001b[32mvalidation it=67 map=0.0117 ndcg=0.0227 P_10=0.0700\u001b[0m\n",
      "\u001b[02;37m[2021-11-21 00:20:50,591][onir_pt][DEBUG] \u001b[0m\u001b[37musing GPU (deterministic)\u001b[0m\n",
      "\u001b[02;37m[2021-11-21 00:20:50,591][onir_pt][DEBUG] \u001b[0m\u001b[37m[starting] training\u001b[0m\n",
      "\u001b[02;37m[2021-11-21 00:20:50,592][onir_pt][DEBUG] \u001b[0m\u001b[37m[starting] train pairs\u001b[0m\n"
     ]
    },
    {
     "data": {
      "application/vnd.jupyter.widget-view+json": {
       "model_id": "",
       "version_major": 2,
       "version_minor": 0
      },
      "text/plain": [
       "train pairs:   0%|          | 0/1024 [14ms<?, ?it/s]"
      ]
     },
     "metadata": {},
     "output_type": "display_data"
    },
    {
     "name": "stdout",
     "output_type": "stream",
     "text": [
      "\u001b[02;37m[2021-11-21 00:20:53,439][onir_pt][DEBUG] \u001b[0m\u001b[37m[finished] train pairs: [2.85s] [1024it] [359.68it/s]\u001b[0m\n",
      "\u001b[02;37m[2021-11-21 00:20:53,440][onir_pt][DEBUG] \u001b[0m\u001b[37m[finished] training [2.85s]\u001b[0m\n",
      "\u001b[02;37m[2021-11-21 00:20:53,441][onir_pt][INFO] \u001b[0m\u001b[32mtraining   it=68 loss=0.1727\u001b[0m\n",
      "\u001b[02;37m[2021-11-21 00:20:53,441][onir_pt][DEBUG] \u001b[0m\u001b[37m[starting] validation\u001b[0m\n",
      "\u001b[02;37m[2021-11-21 00:20:53,441][onir_pt][DEBUG] \u001b[0m\u001b[37musing GPU (deterministic)\u001b[0m\n",
      "\u001b[02;37m[2021-11-21 00:20:53,441][onir_pt][DEBUG] \u001b[0m\u001b[37m[starting] batches\u001b[0m\n"
     ]
    },
    {
     "data": {
      "application/vnd.jupyter.widget-view+json": {
       "model_id": "",
       "version_major": 2,
       "version_minor": 0
      },
      "text/plain": [
       "batches:   0%|          | 0/125 [14ms<?, ?it/s]"
      ]
     },
     "metadata": {},
     "output_type": "display_data"
    },
    {
     "name": "stdout",
     "output_type": "stream",
     "text": [
      "\u001b[02;37m[2021-11-21 00:20:53,667][onir_pt][DEBUG] \u001b[0m\u001b[37m[finished] batches: [225ms] [125it] [554.53it/s]\u001b[0m\n",
      "\u001b[02;37m[2021-11-21 00:20:53,771][onir_pt][DEBUG] \u001b[0m\u001b[37m[finished] validation [331ms]\u001b[0m\n",
      "\u001b[02;37m[2021-11-21 00:20:53,772][onir_pt][INFO] \u001b[0m\u001b[32mvalidation it=68 map=0.0117 ndcg=0.0226 P_10=0.0700\u001b[0m\n",
      "\u001b[02;37m[2021-11-21 00:20:53,772][onir_pt][DEBUG] \u001b[0m\u001b[37musing GPU (deterministic)\u001b[0m\n",
      "\u001b[02;37m[2021-11-21 00:20:53,773][onir_pt][DEBUG] \u001b[0m\u001b[37m[starting] training\u001b[0m\n",
      "\u001b[02;37m[2021-11-21 00:20:53,773][onir_pt][DEBUG] \u001b[0m\u001b[37m[starting] train pairs\u001b[0m\n"
     ]
    },
    {
     "data": {
      "application/vnd.jupyter.widget-view+json": {
       "model_id": "",
       "version_major": 2,
       "version_minor": 0
      },
      "text/plain": [
       "train pairs:   0%|          | 0/1024 [14ms<?, ?it/s]"
      ]
     },
     "metadata": {},
     "output_type": "display_data"
    },
    {
     "name": "stdout",
     "output_type": "stream",
     "text": [
      "\u001b[02;37m[2021-11-21 00:20:56,707][onir_pt][DEBUG] \u001b[0m\u001b[37m[finished] train pairs: [2.93s] [1024it] [349.07it/s]\u001b[0m\n",
      "\u001b[02;37m[2021-11-21 00:20:56,708][onir_pt][DEBUG] \u001b[0m\u001b[37m[finished] training [2.94s]\u001b[0m\n",
      "\u001b[02;37m[2021-11-21 00:20:56,708][onir_pt][INFO] \u001b[0m\u001b[32mtraining   it=69 loss=0.1678\u001b[0m\n",
      "\u001b[02;37m[2021-11-21 00:20:56,708][onir_pt][DEBUG] \u001b[0m\u001b[37m[starting] validation\u001b[0m\n",
      "\u001b[02;37m[2021-11-21 00:20:56,708][onir_pt][DEBUG] \u001b[0m\u001b[37musing GPU (deterministic)\u001b[0m\n",
      "\u001b[02;37m[2021-11-21 00:20:56,709][onir_pt][DEBUG] \u001b[0m\u001b[37m[starting] batches\u001b[0m\n"
     ]
    },
    {
     "data": {
      "application/vnd.jupyter.widget-view+json": {
       "model_id": "",
       "version_major": 2,
       "version_minor": 0
      },
      "text/plain": [
       "batches:   0%|          | 0/125 [14ms<?, ?it/s]"
      ]
     },
     "metadata": {},
     "output_type": "display_data"
    },
    {
     "name": "stdout",
     "output_type": "stream",
     "text": [
      "\u001b[02;37m[2021-11-21 00:20:56,937][onir_pt][DEBUG] \u001b[0m\u001b[37m[finished] batches: [227ms] [125it] [549.49it/s]\u001b[0m\n",
      "\u001b[02;37m[2021-11-21 00:20:57,038][onir_pt][DEBUG] \u001b[0m\u001b[37m[finished] validation [330ms]\u001b[0m\n",
      "\u001b[02;37m[2021-11-21 00:20:57,038][onir_pt][INFO] \u001b[0m\u001b[32mvalidation it=69 map=0.0117 ndcg=0.0227 P_10=0.0740\u001b[0m\n",
      "\u001b[02;37m[2021-11-21 00:20:57,039][onir_pt][DEBUG] \u001b[0m\u001b[37musing GPU (deterministic)\u001b[0m\n",
      "\u001b[02;37m[2021-11-21 00:20:57,039][onir_pt][DEBUG] \u001b[0m\u001b[37m[starting] training\u001b[0m\n",
      "\u001b[02;37m[2021-11-21 00:20:57,039][onir_pt][DEBUG] \u001b[0m\u001b[37m[starting] train pairs\u001b[0m\n"
     ]
    },
    {
     "data": {
      "application/vnd.jupyter.widget-view+json": {
       "model_id": "",
       "version_major": 2,
       "version_minor": 0
      },
      "text/plain": [
       "train pairs:   0%|          | 0/1024 [14ms<?, ?it/s]"
      ]
     },
     "metadata": {},
     "output_type": "display_data"
    },
    {
     "name": "stdout",
     "output_type": "stream",
     "text": [
      "\u001b[02;37m[2021-11-21 00:20:59,892][onir_pt][DEBUG] \u001b[0m\u001b[37m[finished] train pairs: [2.85s] [1024it] [358.96it/s]\u001b[0m\n",
      "\u001b[02;37m[2021-11-21 00:20:59,893][onir_pt][DEBUG] \u001b[0m\u001b[37m[finished] training [2.85s]\u001b[0m\n",
      "\u001b[02;37m[2021-11-21 00:20:59,894][onir_pt][INFO] \u001b[0m\u001b[32mtraining   it=70 loss=0.1703\u001b[0m\n",
      "\u001b[02;37m[2021-11-21 00:20:59,894][onir_pt][DEBUG] \u001b[0m\u001b[37m[starting] validation\u001b[0m\n",
      "\u001b[02;37m[2021-11-21 00:20:59,894][onir_pt][DEBUG] \u001b[0m\u001b[37musing GPU (deterministic)\u001b[0m\n",
      "\u001b[02;37m[2021-11-21 00:20:59,895][onir_pt][DEBUG] \u001b[0m\u001b[37m[starting] batches\u001b[0m\n"
     ]
    },
    {
     "data": {
      "application/vnd.jupyter.widget-view+json": {
       "model_id": "",
       "version_major": 2,
       "version_minor": 0
      },
      "text/plain": [
       "batches:   0%|          | 0/125 [14ms<?, ?it/s]"
      ]
     },
     "metadata": {},
     "output_type": "display_data"
    },
    {
     "name": "stdout",
     "output_type": "stream",
     "text": [
      "\u001b[02;37m[2021-11-21 00:21:00,122][onir_pt][DEBUG] \u001b[0m\u001b[37m[finished] batches: [227ms] [125it] [551.30it/s]\u001b[0m\n",
      "\u001b[02;37m[2021-11-21 00:21:00,223][onir_pt][DEBUG] \u001b[0m\u001b[37m[finished] validation [330ms]\u001b[0m\n",
      "\u001b[02;37m[2021-11-21 00:21:00,224][onir_pt][INFO] \u001b[0m\u001b[32mvalidation it=70 map=0.0117 ndcg=0.0227 P_10=0.0700\u001b[0m\n",
      "\u001b[02;37m[2021-11-21 00:21:00,224][onir_pt][DEBUG] \u001b[0m\u001b[37musing GPU (deterministic)\u001b[0m\n",
      "\u001b[02;37m[2021-11-21 00:21:00,225][onir_pt][DEBUG] \u001b[0m\u001b[37m[starting] training\u001b[0m\n",
      "\u001b[02;37m[2021-11-21 00:21:00,225][onir_pt][DEBUG] \u001b[0m\u001b[37m[starting] train pairs\u001b[0m\n"
     ]
    },
    {
     "data": {
      "application/vnd.jupyter.widget-view+json": {
       "model_id": "",
       "version_major": 2,
       "version_minor": 0
      },
      "text/plain": [
       "train pairs:   0%|          | 0/1024 [14ms<?, ?it/s]"
      ]
     },
     "metadata": {},
     "output_type": "display_data"
    },
    {
     "name": "stdout",
     "output_type": "stream",
     "text": [
      "\u001b[02;37m[2021-11-21 00:21:03,094][onir_pt][DEBUG] \u001b[0m\u001b[37m[finished] train pairs: [2.87s] [1024it] [356.89it/s]\u001b[0m\n",
      "\u001b[02;37m[2021-11-21 00:21:03,096][onir_pt][DEBUG] \u001b[0m\u001b[37m[finished] training [2.87s]\u001b[0m\n",
      "\u001b[02;37m[2021-11-21 00:21:03,096][onir_pt][INFO] \u001b[0m\u001b[32mtraining   it=71 loss=0.1726\u001b[0m\n",
      "\u001b[02;37m[2021-11-21 00:21:03,096][onir_pt][DEBUG] \u001b[0m\u001b[37m[starting] validation\u001b[0m\n",
      "\u001b[02;37m[2021-11-21 00:21:03,096][onir_pt][DEBUG] \u001b[0m\u001b[37musing GPU (deterministic)\u001b[0m\n",
      "\u001b[02;37m[2021-11-21 00:21:03,097][onir_pt][DEBUG] \u001b[0m\u001b[37m[starting] batches\u001b[0m\n"
     ]
    },
    {
     "data": {
      "application/vnd.jupyter.widget-view+json": {
       "model_id": "",
       "version_major": 2,
       "version_minor": 0
      },
      "text/plain": [
       "batches:   0%|          | 0/125 [14ms<?, ?it/s]"
      ]
     },
     "metadata": {},
     "output_type": "display_data"
    },
    {
     "name": "stdout",
     "output_type": "stream",
     "text": [
      "\u001b[02;37m[2021-11-21 00:21:03,327][onir_pt][DEBUG] \u001b[0m\u001b[37m[finished] batches: [229ms] [125it] [545.90it/s]\u001b[0m\n",
      "\u001b[02;37m[2021-11-21 00:21:03,430][onir_pt][DEBUG] \u001b[0m\u001b[37m[finished] validation [333ms]\u001b[0m\n",
      "\u001b[02;37m[2021-11-21 00:21:03,430][onir_pt][INFO] \u001b[0m\u001b[32mvalidation it=71 map=0.0117 ndcg=0.0228 P_10=0.0720\u001b[0m\n",
      "\u001b[02;37m[2021-11-21 00:21:03,430][onir_pt][DEBUG] \u001b[0m\u001b[37musing GPU (deterministic)\u001b[0m\n",
      "\u001b[02;37m[2021-11-21 00:21:03,431][onir_pt][DEBUG] \u001b[0m\u001b[37m[starting] training\u001b[0m\n",
      "\u001b[02;37m[2021-11-21 00:21:03,431][onir_pt][DEBUG] \u001b[0m\u001b[37m[starting] train pairs\u001b[0m\n"
     ]
    },
    {
     "data": {
      "application/vnd.jupyter.widget-view+json": {
       "model_id": "",
       "version_major": 2,
       "version_minor": 0
      },
      "text/plain": [
       "train pairs:   0%|          | 0/1024 [14ms<?, ?it/s]"
      ]
     },
     "metadata": {},
     "output_type": "display_data"
    },
    {
     "name": "stdout",
     "output_type": "stream",
     "text": [
      "\u001b[02;37m[2021-11-21 00:21:06,463][onir_pt][DEBUG] \u001b[0m\u001b[37m[finished] train pairs: [3.03s] [1024it] [337.75it/s]\u001b[0m\n",
      "\u001b[02;37m[2021-11-21 00:21:06,465][onir_pt][DEBUG] \u001b[0m\u001b[37m[finished] training [3.03s]\u001b[0m\n",
      "\u001b[02;37m[2021-11-21 00:21:06,465][onir_pt][INFO] \u001b[0m\u001b[32mtraining   it=72 loss=0.1651\u001b[0m\n",
      "\u001b[02;37m[2021-11-21 00:21:06,465][onir_pt][DEBUG] \u001b[0m\u001b[37m[starting] validation\u001b[0m\n",
      "\u001b[02;37m[2021-11-21 00:21:06,465][onir_pt][DEBUG] \u001b[0m\u001b[37musing GPU (deterministic)\u001b[0m\n",
      "\u001b[02;37m[2021-11-21 00:21:06,466][onir_pt][DEBUG] \u001b[0m\u001b[37m[starting] batches\u001b[0m\n"
     ]
    },
    {
     "data": {
      "application/vnd.jupyter.widget-view+json": {
       "model_id": "",
       "version_major": 2,
       "version_minor": 0
      },
      "text/plain": [
       "batches:   0%|          | 0/125 [14ms<?, ?it/s]"
      ]
     },
     "metadata": {},
     "output_type": "display_data"
    },
    {
     "name": "stdout",
     "output_type": "stream",
     "text": [
      "\u001b[02;37m[2021-11-21 00:21:06,723][onir_pt][DEBUG] \u001b[0m\u001b[37m[finished] batches: [257ms] [125it] [486.73it/s]\u001b[0m\n",
      "\u001b[02;37m[2021-11-21 00:21:06,826][onir_pt][DEBUG] \u001b[0m\u001b[37m[finished] validation [361ms]\u001b[0m\n",
      "\u001b[02;37m[2021-11-21 00:21:06,827][onir_pt][INFO] \u001b[0m\u001b[32mvalidation it=72 map=0.0117 ndcg=0.0228 P_10=0.0700\u001b[0m\n",
      "\u001b[02;37m[2021-11-21 00:21:06,827][onir_pt][DEBUG] \u001b[0m\u001b[37musing GPU (deterministic)\u001b[0m\n",
      "\u001b[02;37m[2021-11-21 00:21:06,827][onir_pt][DEBUG] \u001b[0m\u001b[37m[starting] training\u001b[0m\n",
      "\u001b[02;37m[2021-11-21 00:21:06,827][onir_pt][DEBUG] \u001b[0m\u001b[37m[starting] train pairs\u001b[0m\n"
     ]
    },
    {
     "data": {
      "application/vnd.jupyter.widget-view+json": {
       "model_id": "",
       "version_major": 2,
       "version_minor": 0
      },
      "text/plain": [
       "train pairs:   0%|          | 0/1024 [14ms<?, ?it/s]"
      ]
     },
     "metadata": {},
     "output_type": "display_data"
    },
    {
     "name": "stdout",
     "output_type": "stream",
     "text": [
      "\u001b[02;37m[2021-11-21 00:21:09,645][onir_pt][DEBUG] \u001b[0m\u001b[37m[finished] train pairs: [2.82s] [1024it] [363.52it/s]\u001b[0m\n",
      "\u001b[02;37m[2021-11-21 00:21:09,646][onir_pt][DEBUG] \u001b[0m\u001b[37m[finished] training [2.82s]\u001b[0m\n",
      "\u001b[02;37m[2021-11-21 00:21:09,646][onir_pt][INFO] \u001b[0m\u001b[32mtraining   it=73 loss=0.1725\u001b[0m\n",
      "\u001b[02;37m[2021-11-21 00:21:09,646][onir_pt][DEBUG] \u001b[0m\u001b[37m[starting] validation\u001b[0m\n",
      "\u001b[02;37m[2021-11-21 00:21:09,646][onir_pt][DEBUG] \u001b[0m\u001b[37musing GPU (deterministic)\u001b[0m\n",
      "\u001b[02;37m[2021-11-21 00:21:09,647][onir_pt][DEBUG] \u001b[0m\u001b[37m[starting] batches\u001b[0m\n"
     ]
    },
    {
     "data": {
      "application/vnd.jupyter.widget-view+json": {
       "model_id": "",
       "version_major": 2,
       "version_minor": 0
      },
      "text/plain": [
       "batches:   0%|          | 0/125 [14ms<?, ?it/s]"
      ]
     },
     "metadata": {},
     "output_type": "display_data"
    },
    {
     "name": "stdout",
     "output_type": "stream",
     "text": [
      "\u001b[02;37m[2021-11-21 00:21:09,875][onir_pt][DEBUG] \u001b[0m\u001b[37m[finished] batches: [227ms] [125it] [549.59it/s]\u001b[0m\n",
      "\u001b[02;37m[2021-11-21 00:21:09,976][onir_pt][DEBUG] \u001b[0m\u001b[37m[finished] validation [330ms]\u001b[0m\n",
      "\u001b[02;37m[2021-11-21 00:21:09,977][onir_pt][INFO] \u001b[0m\u001b[32mvalidation it=73 map=0.0117 ndcg=0.0229 P_10=0.0700\u001b[0m\n",
      "\u001b[02;37m[2021-11-21 00:21:09,977][onir_pt][DEBUG] \u001b[0m\u001b[37musing GPU (deterministic)\u001b[0m\n",
      "\u001b[02;37m[2021-11-21 00:21:09,977][onir_pt][DEBUG] \u001b[0m\u001b[37m[starting] training\u001b[0m\n",
      "\u001b[02;37m[2021-11-21 00:21:09,978][onir_pt][DEBUG] \u001b[0m\u001b[37m[starting] train pairs\u001b[0m\n"
     ]
    },
    {
     "data": {
      "application/vnd.jupyter.widget-view+json": {
       "model_id": "",
       "version_major": 2,
       "version_minor": 0
      },
      "text/plain": [
       "train pairs:   0%|          | 0/1024 [14ms<?, ?it/s]"
      ]
     },
     "metadata": {},
     "output_type": "display_data"
    },
    {
     "name": "stdout",
     "output_type": "stream",
     "text": [
      "\u001b[02;37m[2021-11-21 00:21:12,792][onir_pt][DEBUG] \u001b[0m\u001b[37m[finished] train pairs: [2.81s] [1024it] [363.94it/s]\u001b[0m\n",
      "\u001b[02;37m[2021-11-21 00:21:12,793][onir_pt][DEBUG] \u001b[0m\u001b[37m[finished] training [2.82s]\u001b[0m\n",
      "\u001b[02;37m[2021-11-21 00:21:12,793][onir_pt][INFO] \u001b[0m\u001b[32mtraining   it=74 loss=0.1684\u001b[0m\n",
      "\u001b[02;37m[2021-11-21 00:21:12,793][onir_pt][DEBUG] \u001b[0m\u001b[37m[starting] validation\u001b[0m\n",
      "\u001b[02;37m[2021-11-21 00:21:12,793][onir_pt][DEBUG] \u001b[0m\u001b[37musing GPU (deterministic)\u001b[0m\n",
      "\u001b[02;37m[2021-11-21 00:21:12,794][onir_pt][DEBUG] \u001b[0m\u001b[37m[starting] batches\u001b[0m\n"
     ]
    },
    {
     "data": {
      "application/vnd.jupyter.widget-view+json": {
       "model_id": "",
       "version_major": 2,
       "version_minor": 0
      },
      "text/plain": [
       "batches:   0%|          | 0/125 [14ms<?, ?it/s]"
      ]
     },
     "metadata": {},
     "output_type": "display_data"
    },
    {
     "name": "stdout",
     "output_type": "stream",
     "text": [
      "\u001b[02;37m[2021-11-21 00:21:13,019][onir_pt][DEBUG] \u001b[0m\u001b[37m[finished] batches: [225ms] [125it] [556.24it/s]\u001b[0m\n",
      "\u001b[02;37m[2021-11-21 00:21:13,121][onir_pt][DEBUG] \u001b[0m\u001b[37m[finished] validation [328ms]\u001b[0m\n",
      "\u001b[02;37m[2021-11-21 00:21:13,122][onir_pt][INFO] \u001b[0m\u001b[32mvalidation it=74 map=0.0116 ndcg=0.0228 P_10=0.0700\u001b[0m\n",
      "\u001b[02;37m[2021-11-21 00:21:13,122][onir_pt][INFO] \u001b[0m\u001b[32mearly stopping; model reverting back to it=54\u001b[0m\n"
     ]
    }
   ],
   "source": [
    "bm25 = pt.BatchRetrieve(index, wmodel=\"BM25\") % 100\n",
    "pipeline_bm25 = (bm25 >> pt.text.get_text(cord19, 'abstract') \n",
    "            >> knrm)\n",
    "\n",
    "pipeline_bm25.fit(\n",
    "    train_topics,\n",
    "    cord19.get_qrels(),\n",
    "    valid_topics,\n",
    "    cord19.get_qrels())"
   ]
  },
  {
   "cell_type": "code",
   "execution_count": 26,
   "metadata": {},
   "outputs": [
    {
     "name": "stdout",
     "output_type": "stream",
     "text": [
      "\u001b[02;37m[2021-11-21 00:21:15,070][onir_pt][DEBUG] \u001b[0m\u001b[37musing GPU (deterministic)\u001b[0m\n",
      "\u001b[02;37m[2021-11-21 00:21:15,071][onir_pt][DEBUG] \u001b[0m\u001b[37m[starting] batches\u001b[0m\n"
     ]
    },
    {
     "data": {
      "application/vnd.jupyter.widget-view+json": {
       "model_id": "",
       "version_major": 2,
       "version_minor": 0
      },
      "text/plain": [
       "batches:   0%|          | 0/375 [17ms<?, ?it/s]"
      ]
     },
     "metadata": {},
     "output_type": "display_data"
    },
    {
     "name": "stdout",
     "output_type": "stream",
     "text": [
      "\u001b[02;37m[2021-11-21 00:21:15,831][onir_pt][DEBUG] \u001b[0m\u001b[37m[finished] batches: [760ms] [375it] [493.58it/s]\u001b[0m\n",
      "\u001b[02;37m[2021-11-21 00:21:16,726][onir_pt][DEBUG] \u001b[0m\u001b[37musing GPU (deterministic)\u001b[0m\n",
      "\u001b[02;37m[2021-11-21 00:21:16,727][onir_pt][DEBUG] \u001b[0m\u001b[37m[starting] batches\u001b[0m\n"
     ]
    },
    {
     "data": {
      "application/vnd.jupyter.widget-view+json": {
       "model_id": "",
       "version_major": 2,
       "version_minor": 0
      },
      "text/plain": [
       "batches:   0%|          | 0/375 [14ms<?, ?it/s]"
      ]
     },
     "metadata": {},
     "output_type": "display_data"
    },
    {
     "name": "stdout",
     "output_type": "stream",
     "text": [
      "\u001b[02;37m[2021-11-21 00:21:17,326][onir_pt][DEBUG] \u001b[0m\u001b[37m[finished] batches: [599ms] [375it] [626.22it/s]\u001b[0m\n"
     ]
    },
    {
     "data": {
      "text/html": [
       "<div>\n",
       "<style scoped>\n",
       "    .dataframe tbody tr th:only-of-type {\n",
       "        vertical-align: middle;\n",
       "    }\n",
       "\n",
       "    .dataframe tbody tr th {\n",
       "        vertical-align: top;\n",
       "    }\n",
       "\n",
       "    .dataframe thead th {\n",
       "        text-align: right;\n",
       "    }\n",
       "</style>\n",
       "<table border=\"1\" class=\"dataframe\">\n",
       "  <thead>\n",
       "    <tr style=\"text-align: right;\">\n",
       "      <th></th>\n",
       "      <th>name</th>\n",
       "      <th>map</th>\n",
       "      <th>P.10</th>\n",
       "      <th>ndcg</th>\n",
       "      <th>ndcg_cut.10</th>\n",
       "      <th>mrt</th>\n",
       "      <th>map +</th>\n",
       "      <th>map -</th>\n",
       "      <th>map p-value</th>\n",
       "      <th>P.10 +</th>\n",
       "      <th>P.10 -</th>\n",
       "      <th>P.10 p-value</th>\n",
       "      <th>ndcg +</th>\n",
       "      <th>ndcg -</th>\n",
       "      <th>ndcg p-value</th>\n",
       "      <th>ndcg_cut.10 +</th>\n",
       "      <th>ndcg_cut.10 -</th>\n",
       "      <th>ndcg_cut.10 p-value</th>\n",
       "    </tr>\n",
       "  </thead>\n",
       "  <tbody>\n",
       "    <tr>\n",
       "      <th>0</th>\n",
       "      <td>BatchRetrieve</td>\n",
       "      <td>0.057877</td>\n",
       "      <td>0.633333</td>\n",
       "      <td>0.142564</td>\n",
       "      <td>0.528282</td>\n",
       "      <td>36.906543</td>\n",
       "      <td>NaN</td>\n",
       "      <td>NaN</td>\n",
       "      <td>NaN</td>\n",
       "      <td>NaN</td>\n",
       "      <td>NaN</td>\n",
       "      <td>NaN</td>\n",
       "      <td>NaN</td>\n",
       "      <td>NaN</td>\n",
       "      <td>NaN</td>\n",
       "      <td>NaN</td>\n",
       "      <td>NaN</td>\n",
       "      <td>NaN</td>\n",
       "    </tr>\n",
       "    <tr>\n",
       "      <th>1</th>\n",
       "      <td>BM25</td>\n",
       "      <td>0.054757</td>\n",
       "      <td>0.633333</td>\n",
       "      <td>0.137950</td>\n",
       "      <td>0.537061</td>\n",
       "      <td>36.136694</td>\n",
       "      <td>9.0</td>\n",
       "      <td>6.0</td>\n",
       "      <td>0.369395</td>\n",
       "      <td>4.0</td>\n",
       "      <td>4.0</td>\n",
       "      <td>1.000000</td>\n",
       "      <td>8.0</td>\n",
       "      <td>7.0</td>\n",
       "      <td>0.523367</td>\n",
       "      <td>9.0</td>\n",
       "      <td>5.0</td>\n",
       "      <td>0.829251</td>\n",
       "    </tr>\n",
       "    <tr>\n",
       "      <th>2</th>\n",
       "      <td>BatchRetrieve &gt;&gt; knrm</td>\n",
       "      <td>0.059592</td>\n",
       "      <td>0.646667</td>\n",
       "      <td>0.145344</td>\n",
       "      <td>0.565631</td>\n",
       "      <td>88.587252</td>\n",
       "      <td>8.0</td>\n",
       "      <td>7.0</td>\n",
       "      <td>0.582711</td>\n",
       "      <td>6.0</td>\n",
       "      <td>4.0</td>\n",
       "      <td>0.802966</td>\n",
       "      <td>8.0</td>\n",
       "      <td>7.0</td>\n",
       "      <td>0.571835</td>\n",
       "      <td>8.0</td>\n",
       "      <td>6.0</td>\n",
       "      <td>0.482103</td>\n",
       "    </tr>\n",
       "    <tr>\n",
       "      <th>3</th>\n",
       "      <td>BM25 &gt;&gt; knrm</td>\n",
       "      <td>0.059984</td>\n",
       "      <td>0.680000</td>\n",
       "      <td>0.144364</td>\n",
       "      <td>0.594605</td>\n",
       "      <td>97.030568</td>\n",
       "      <td>6.0</td>\n",
       "      <td>9.0</td>\n",
       "      <td>0.605938</td>\n",
       "      <td>5.0</td>\n",
       "      <td>5.0</td>\n",
       "      <td>0.491723</td>\n",
       "      <td>6.0</td>\n",
       "      <td>9.0</td>\n",
       "      <td>0.803777</td>\n",
       "      <td>7.0</td>\n",
       "      <td>6.0</td>\n",
       "      <td>0.246699</td>\n",
       "    </tr>\n",
       "  </tbody>\n",
       "</table>\n",
       "</div>"
      ],
      "text/plain": [
       "                    name       map      P.10      ndcg  ndcg_cut.10  \\\n",
       "0          BatchRetrieve  0.057877  0.633333  0.142564     0.528282   \n",
       "1                   BM25  0.054757  0.633333  0.137950     0.537061   \n",
       "2  BatchRetrieve >> knrm  0.059592  0.646667  0.145344     0.565631   \n",
       "3           BM25 >> knrm  0.059984  0.680000  0.144364     0.594605   \n",
       "\n",
       "         mrt  map +  map -  map p-value  P.10 +  P.10 -  P.10 p-value  ndcg +  \\\n",
       "0  36.906543    NaN    NaN          NaN     NaN     NaN           NaN     NaN   \n",
       "1  36.136694    9.0    6.0     0.369395     4.0     4.0      1.000000     8.0   \n",
       "2  88.587252    8.0    7.0     0.582711     6.0     4.0      0.802966     8.0   \n",
       "3  97.030568    6.0    9.0     0.605938     5.0     5.0      0.491723     6.0   \n",
       "\n",
       "   ndcg -  ndcg p-value  ndcg_cut.10 +  ndcg_cut.10 -  ndcg_cut.10 p-value  \n",
       "0     NaN           NaN            NaN            NaN                  NaN  \n",
       "1     7.0      0.523367            9.0            5.0             0.829251  \n",
       "2     7.0      0.571835            8.0            6.0             0.482103  \n",
       "3     9.0      0.803777            7.0            6.0             0.246699  "
      ]
     },
     "execution_count": 26,
     "metadata": {},
     "output_type": "execute_result"
    }
   ],
   "source": [
    "pt.Experiment(\n",
    "    [br, bm25, pipeline, pipeline_bm25],\n",
    "    test_topics,\n",
    "    cord19.get_qrels(),\n",
    "    names=['BatchRetrieve', 'BM25',  'BatchRetrieve >> knrm', 'BM25 >> knrm'],\n",
    "    baseline=0,\n",
    "    eval_metrics=[\"map\", \"ndcg\", 'ndcg_cut.10', 'P.10', 'mrt']\n",
    ")"
   ]
  }
 ],
 "metadata": {
  "accelerator": "GPU",
  "colab": {
   "collapsed_sections": [],
   "name": "neural ir.ipynb",
   "provenance": [],
   "toc_visible": true
  },
  "kernelspec": {
   "display_name": "650",
   "language": "python",
   "name": "650"
  },
  "language_info": {
   "codemirror_mode": {
    "name": "ipython",
    "version": 3
   },
   "file_extension": ".py",
   "mimetype": "text/x-python",
   "name": "python",
   "nbconvert_exporter": "python",
   "pygments_lexer": "ipython3",
   "version": "3.9.7"
  }
 },
 "nbformat": 4,
 "nbformat_minor": 1
}
